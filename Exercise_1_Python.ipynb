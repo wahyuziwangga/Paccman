{
  "cells": [
    {
      "cell_type": "markdown",
      "metadata": {
        "colab_type": "text",
        "id": "view-in-github"
      },
      "source": [
        "<a href=\"https://colab.research.google.com/github/wahyuziwangga/Paccman/blob/main/Exercise_1_Python.ipynb\" target=\"_parent\"><img src=\"https://colab.research.google.com/assets/colab-badge.svg\" alt=\"Open In Colab\"/></a>"
      ]
    },
    {
      "cell_type": "markdown",
      "metadata": {
        "id": "Dlz3iy7U1xQ4"
      },
      "source": [
        "# **Exercise 1 Python**\n",
        "\n",
        "Introduction to Software & Data Engineering with Python - Sekolah Engineering - Pacmann Academy\n",
        "\n",
        "Materi yang diujikan pada exercise ini adalah\n",
        "1. A Good First Program\n",
        "2. Primitive Data Structure\n",
        "3. Boolean\n",
        "4. Branching"
      ]
    },
    {
      "cell_type": "markdown",
      "metadata": {
        "id": "m5QOOvTf2Bwh"
      },
      "source": [
        "## **A Good First Program**"
      ]
    },
    {
      "cell_type": "markdown",
      "metadata": {
        "id": "6N5UncOIc9LV"
      },
      "source": [
        "### **Printing**\n"
      ]
    },
    {
      "cell_type": "markdown",
      "metadata": {
        "id": "Lax3WmbS3LLB"
      },
      "source": [
        "**Case Study 1**"
      ]
    },
    {
      "cell_type": "markdown",
      "metadata": {
        "id": "rfwvRxJyPfJK"
      },
      "source": [
        "#### **1a**\n",
        "Cobalah tampilkan nama Anda menggunakan perintah print!"
      ]
    },
    {
      "cell_type": "code",
      "execution_count": 2,
      "metadata": {
        "colab": {
          "base_uri": "https://localhost:8080/"
        },
        "id": "o8VkXgesbJh7",
        "outputId": "4ee452bc-a1c8-4d2e-a2e2-1c695961cb70"
      },
      "outputs": [
        {
          "name": "stdout",
          "output_type": "stream",
          "text": [
            "wahyu\n"
          ]
        }
      ],
      "source": [
        "# Code in here\n",
        "print('wahyu')"
      ]
    },
    {
      "cell_type": "markdown",
      "metadata": {
        "id": "ExwHGC06Po86"
      },
      "source": [
        "#### **1b**\n",
        "Cobalah print text di bawah ini!\n",
        "\n",
        "Saya sedang belajar melakukan perintah print pada Python"
      ]
    },
    {
      "cell_type": "code",
      "execution_count": 3,
      "metadata": {
        "colab": {
          "base_uri": "https://localhost:8080/"
        },
        "id": "MuREpGg3fTQY",
        "outputId": "772c39a7-b8e3-4bac-da03-9f47c502e7bc"
      },
      "outputs": [
        {
          "name": "stdout",
          "output_type": "stream",
          "text": [
            "Saya sedang belajar melakukan perintah print pada Python\n"
          ]
        }
      ],
      "source": [
        "# Code in here\n",
        "print(\"Saya sedang belajar melakukan perintah print pada Python\")"
      ]
    },
    {
      "cell_type": "markdown",
      "metadata": {
        "id": "G-s8BxPLQxRt"
      },
      "source": [
        "#### **1c**\n",
        "- Misalkan terdapat sebuah segitiga dengan tinggi 3 cm dan alas 2 cm.\n",
        "- Cobalah print tinggi dari segitiga tersebut!"
      ]
    },
    {
      "cell_type": "code",
      "execution_count": 4,
      "metadata": {
        "colab": {
          "base_uri": "https://localhost:8080/"
        },
        "id": "XtwXpGbOfmdM",
        "outputId": "c1b1c5e3-5bac-42f1-d13b-c8760bab5884"
      },
      "outputs": [
        {
          "name": "stdout",
          "output_type": "stream",
          "text": [
            "3\n"
          ]
        }
      ],
      "source": [
        "# Code in here\n",
        "tinggi=3\n",
        "alas=2\n",
        "print(tinggi)"
      ]
    },
    {
      "cell_type": "markdown",
      "metadata": {
        "id": "Bl7cpaT_3CQH"
      },
      "source": [
        "### **Variabel**"
      ]
    },
    {
      "cell_type": "markdown",
      "metadata": {
        "id": "RVxP6dXJftA0"
      },
      "source": [
        "**Case Study 2**\n",
        "\n",
        "- Variabel merupakan tempat menyimpan sebuah nilai ataupun data.\n",
        "- Kita dapat membuat variabel dengan menggunakan syntax sebagai berikut:\n",
        "```python\n",
        "nama_variabel = <nilai>\n",
        "```\n",
        "- Nilai dapat berupa teks maupun angka/bilangan."
      ]
    },
    {
      "cell_type": "markdown",
      "metadata": {
        "id": "_m2BG2YYgV5G"
      },
      "source": [
        "#### **2a**\n",
        "Misalkan kita ingin membuat sebuah variabel yang menyimpan nama kita\n",
        "\n",
        "- Nama Variabel = nama\n",
        "- Isi dari Variabel = \"nama kita\""
      ]
    },
    {
      "cell_type": "code",
      "execution_count": 5,
      "metadata": {
        "id": "REMgSDLpjcsL"
      },
      "outputs": [],
      "source": [
        "# Code in here\n",
        "nama='Wahyu Maulana Ziwangga'"
      ]
    },
    {
      "cell_type": "markdown",
      "metadata": {
        "id": "71VT0xQNiA5j"
      },
      "source": [
        "#### **2b**\n",
        "Misalkan kita ingin membuat sebuah variabel yang menyimpan text **\"Saya sedang belajar membuat variabel\"**\n",
        "\n",
        "- Nama Variabel = text\n",
        "- Isi dari Variabel = \"Saya sedang belajar membuat variabel\""
      ]
    },
    {
      "cell_type": "code",
      "execution_count": 6,
      "metadata": {
        "id": "qFInAWRxiQsj"
      },
      "outputs": [],
      "source": [
        "# Code in here\n",
        "text='Saya sedang belajar membuat variabel'"
      ]
    },
    {
      "cell_type": "markdown",
      "metadata": {
        "id": "M3l5yFaqiD1r"
      },
      "source": [
        "#### **2c**\n",
        "Perhatikan contoh variabel di bawah ini!\n",
        "```python\n",
        "tinggi_trapesium_yang_saya_miliki = 5\n",
        "```\n",
        "\n",
        "Pada Video Learning sebelumnya, kita telah belajar mengenai Bad and Good Variables. Contoh variabel di atas merupakan variabel yang buruk. Buatlah variabel yang baik dari contoh di atas!"
      ]
    },
    {
      "cell_type": "code",
      "execution_count": 9,
      "metadata": {
        "colab": {
          "base_uri": "https://localhost:8080/"
        },
        "id": "GeoF9Jhqfqo8",
        "outputId": "1cef710f-2c09-4dd9-d895-83dfc1dbbd3b"
      },
      "outputs": [
        {
          "name": "stdout",
          "output_type": "stream",
          "text": [
            "5\n"
          ]
        }
      ],
      "source": [
        "# Code in here\n",
        "tinggi_trapesium=5\n",
        "print(tinggi_trapesium)"
      ]
    },
    {
      "cell_type": "markdown",
      "metadata": {
        "id": "QirB5sOejIaM"
      },
      "source": [
        "### **More Printing!!**\n"
      ]
    },
    {
      "cell_type": "markdown",
      "metadata": {
        "id": "vvDr8UgI3SCg"
      },
      "source": [
        "**Case Study 3**\n",
        "\n",
        "Setelah sebelumnya kita telah mempelajari mengenai variabel, maka sekarang kita akan belajar bagaimana caranya menampilkan isi dari variabel yang telah kita buat sebelumnya.\n",
        "\n",
        "Misalkan kita membuat variabel yang akan menyimpan nama dan umur seseorang. Kemudian kita ingin menampilkan isinya.\n",
        "\n",
        "- nama = \"Mark Zuckerberg\"\n",
        "- umur = 38"
      ]
    },
    {
      "cell_type": "markdown",
      "metadata": {
        "id": "-rRAAQuvjnLs"
      },
      "source": [
        "#### **3a**\n",
        "Tampilkanlah isi dari variabel nama!"
      ]
    },
    {
      "cell_type": "code",
      "execution_count": 10,
      "metadata": {
        "colab": {
          "base_uri": "https://localhost:8080/"
        },
        "id": "XzK3uWiNkCXF",
        "outputId": "a6a706ac-0caa-4d3f-fdf0-ff0d87c709cb"
      },
      "outputs": [
        {
          "name": "stdout",
          "output_type": "stream",
          "text": [
            "Mark Zuckerberg\n"
          ]
        }
      ],
      "source": [
        "# Code in here\n",
        "nama=\"Mark Zuckerberg\"\n",
        "umur=38\n",
        "print(nama)"
      ]
    },
    {
      "cell_type": "markdown",
      "metadata": {
        "id": "itPOgMkQjnUS"
      },
      "source": [
        "#### **3b**\n",
        "Tampilkanlah isi dari variabel umur!"
      ]
    },
    {
      "cell_type": "code",
      "execution_count": 11,
      "metadata": {
        "colab": {
          "base_uri": "https://localhost:8080/"
        },
        "id": "H9OcOBf6nycU",
        "outputId": "e2baa94e-e090-4bef-bc1e-fe010385bc1e"
      },
      "outputs": [
        {
          "name": "stdout",
          "output_type": "stream",
          "text": [
            "38\n"
          ]
        }
      ],
      "source": [
        "# Code in here\n",
        "print(umur)"
      ]
    },
    {
      "cell_type": "markdown",
      "metadata": {
        "id": "QDoo2-Pbjnc7"
      },
      "source": [
        "#### **3c**\n",
        "\n",
        "Apakah output yang akan dihasilkan dari potongan *code* di bawah ini?\n",
        "- nama = \"Mark Zuckerberg\"\n",
        "- umur = 38\n",
        "- print(Ini adalah %s. Beliau berumur %s tahun.\" % (nama, umur))"
      ]
    },
    {
      "cell_type": "code",
      "execution_count": 18,
      "metadata": {
        "colab": {
          "base_uri": "https://localhost:8080/"
        },
        "id": "W4jMtJE3kYx8",
        "outputId": "cfa068e2-39f3-42d7-94b7-4a4a52b89b9f"
      },
      "outputs": [
        {
          "name": "stdout",
          "output_type": "stream",
          "text": [
            "ini adalah Mark Zuckerberg. Beliau berumur 38 tahun.\n"
          ]
        }
      ],
      "source": [
        "# Code in here\n",
        "print(\"ini adalah %s. Beliau berumur %i tahun.\"%(nama,umur))"
      ]
    },
    {
      "cell_type": "markdown",
      "metadata": {
        "id": "3xyw_MqCkY-W"
      },
      "source": [
        "### **Commenting**\n"
      ]
    },
    {
      "cell_type": "markdown",
      "metadata": {
        "id": "OW6qJQx33csn"
      },
      "source": [
        "**Case Study 4**\n",
        "- Commenting merupakan sebuah komentar yang digunakan untuk memperjelas maksud dari sebuah proses ataupun sebuah perintah.\n",
        "- Apabila dijalankan commenting tidak akan melakukan eksekusi apapun.\n",
        "- Commenting diperlukan untuk mempermudah kita mengerti suatu program.\n",
        "- Commenting juga akan mempermudah orang lain yang hendak membaca program kita kelak."
      ]
    },
    {
      "cell_type": "markdown",
      "metadata": {
        "id": "I2IqeCdlkly9"
      },
      "source": [
        "#### **4a**\n",
        "\n",
        "- tinggi_trapesium = 4 cm\n",
        "- print(tinggi_trapesium)\n",
        "\n",
        "Berilah komentar pada code di atas menggunakan inline comment!"
      ]
    },
    {
      "cell_type": "code",
      "execution_count": 21,
      "metadata": {
        "colab": {
          "base_uri": "https://localhost:8080/"
        },
        "id": "dNi1AmzWX7KW",
        "outputId": "ea220e85-3e7b-411e-a4d4-fc40d4d15e2b"
      },
      "outputs": [
        {
          "name": "stdout",
          "output_type": "stream",
          "text": [
            "4\n"
          ]
        }
      ],
      "source": [
        "# Code in here\n",
        "tinggi_trapesium=4 #tinggi trapesium\n",
        "print(tinggi_trapesium) #cetak tinggi trapesium"
      ]
    },
    {
      "cell_type": "markdown",
      "metadata": {
        "id": "xvPy9d6ukl9Y"
      },
      "source": [
        "#### **4b**\n",
        "Berilah comment pada code di bawah ini!"
      ]
    },
    {
      "cell_type": "code",
      "execution_count": 22,
      "metadata": {
        "colab": {
          "base_uri": "https://localhost:8080/"
        },
        "id": "fus-56o4Yk3F",
        "outputId": "8595bfa7-682a-488b-e367-cfb13c244456"
      },
      "outputs": [
        {
          "name": "stdout",
          "output_type": "stream",
          "text": [
            "17 Agustus adalah hari kemerdekaan Indonesia\n"
          ]
        }
      ],
      "source": [
        "# Code in here\n",
        "# Masukkan comment di titik - titik di bawah ini\n",
        "\n",
        "#cetak tanggal 17 agustus\n",
        "print(\"17 Agustus adalah hari kemerdekaan Indonesia\")"
      ]
    },
    {
      "cell_type": "markdown",
      "metadata": {
        "id": "i_2EtkvtkmGc"
      },
      "source": [
        "#### **4c**\n",
        "\n",
        "Terdapat dua code di bawah ini\n",
        "\n",
        "- luas_persegi = sisi_persegi * sisi_persegi # mencari luas persegi\n",
        "- luas_persegi = sisi_persegi * sisi_persegi # Ini adalah baris yang digunakan untuk mencari luas persegi sebagai hasil perkalian sisi persegi dengan sisi persegi\n",
        "\n",
        "Manakah code yang memiliki komentar yang baik?"
      ]
    },
    {
      "cell_type": "markdown",
      "metadata": {
        "id": "kvcrhG0Qhwia"
      },
      "source": [
        "Isi jawaban di titik - titik di bawah ini\n",
        "\n",
        "luas_persegi = sisi_persegi * sisi_persegi # mencari luas persegi"
      ]
    },
    {
      "cell_type": "markdown",
      "metadata": {
        "id": "EZRXmeX_kvsf"
      },
      "source": [
        "### **Error**\n"
      ]
    },
    {
      "cell_type": "markdown",
      "metadata": {
        "id": "tYWl7NgN3k9o"
      },
      "source": [
        "\n",
        "Ketika mendapati suatu error, ada beberapa langkah yang dapat kita lakukan untuk dapat mengatasinya, yaitu:\n",
        "- Perhatikan error outputnya\n",
        "- Cobalah untuk googling mengenai error tersebut\n",
        "- Kemudian cobalah code yang telah digoogling sebelumnya\n",
        "- Apabila masih belum *solve*, cobalah untuk googling kembali\n",
        "\n",
        "**Case Study 5**\n",
        "\n",
        "Pak Joko memiliki 3 orang anak. Setiap hari ia selalu memberikan uang saku kepada ketiga anaknya dengan rincian sebagai berikut:\n",
        "- Anak Pertama: 25.000\n",
        "- Anak Kedua 15.000\n",
        "- Anak Ketiga 10.000"
      ]
    },
    {
      "cell_type": "markdown",
      "metadata": {
        "id": "mynWzjhhlGCc"
      },
      "source": [
        "#### **5a**\n",
        "Misalkan kita melakukan print pada uang jajan anak pertama menggunakan perintah dibawah ini:"
      ]
    },
    {
      "cell_type": "code",
      "execution_count": 25,
      "metadata": {
        "colab": {
          "base_uri": "https://localhost:8080/",
          "height": 106
        },
        "id": "k8qa15bHg34b",
        "outputId": "0d1bc8ac-4e0a-42b9-9365-d2ad73ee2095"
      },
      "outputs": [
        {
          "ename": "SyntaxError",
          "evalue": "invalid syntax (<ipython-input-25-7cce1744ab68>, line 5)",
          "output_type": "error",
          "traceback": [
            "\u001b[0;36m  File \u001b[0;32m\"<ipython-input-25-7cce1744ab68>\"\u001b[0;36m, line \u001b[0;32m5\u001b[0m\n\u001b[0;31m    PRINT(anak1):\u001b[0m\n\u001b[0m                ^\u001b[0m\n\u001b[0;31mSyntaxError\u001b[0m\u001b[0;31m:\u001b[0m invalid syntax\n"
          ]
        }
      ],
      "source": [
        "anak_1 = 25000\n",
        "anak_2 = 15000\n",
        "anak_3 = 10000\n",
        "\n",
        "PRINT(anak1):"
      ]
    },
    {
      "cell_type": "code",
      "execution_count": 27,
      "metadata": {
        "colab": {
          "base_uri": "https://localhost:8080/"
        },
        "id": "GGe9ZbqUhZaD",
        "outputId": "4f1d39c6-570c-402f-d533-01ac76aaa64d"
      },
      "outputs": [
        {
          "name": "stdout",
          "output_type": "stream",
          "text": [
            "25000\n"
          ]
        }
      ],
      "source": [
        "#Code in here\n",
        "anak_1 = 25000\n",
        "anak_2 = 15000\n",
        "anak_3 = 10000\n",
        "print(anak_1)"
      ]
    },
    {
      "cell_type": "markdown",
      "metadata": {
        "id": "V_lC0-y_lGLZ"
      },
      "source": [
        "#### **5b**\n",
        "Misalkan kita melakukan print pada uang jajan anak kedua menggunakan perintah dibawah ini:"
      ]
    },
    {
      "cell_type": "code",
      "execution_count": null,
      "metadata": {
        "colab": {
          "base_uri": "https://localhost:8080/",
          "height": 200
        },
        "id": "4fN8SXXzhk6a",
        "outputId": "edea6ff0-0d52-4ce3-9b3f-5689036395ad"
      },
      "outputs": [
        {
          "ename": "NameError",
          "evalue": "ignored",
          "output_type": "error",
          "traceback": [
            "\u001b[0;31m---------------------------------------------------------------------------\u001b[0m",
            "\u001b[0;31mNameError\u001b[0m                                 Traceback (most recent call last)",
            "\u001b[0;32m<ipython-input-2-6cd33415496d>\u001b[0m in \u001b[0;36m<module>\u001b[0;34m\u001b[0m\n\u001b[1;32m      3\u001b[0m \u001b[0manak_3\u001b[0m \u001b[0;34m=\u001b[0m \u001b[0;36m10000\u001b[0m\u001b[0;34m\u001b[0m\u001b[0;34m\u001b[0m\u001b[0m\n\u001b[1;32m      4\u001b[0m \u001b[0;34m\u001b[0m\u001b[0m\n\u001b[0;32m----> 5\u001b[0;31m \u001b[0mprint\u001b[0m\u001b[0;34m(\u001b[0m\u001b[0mANAK_2\u001b[0m\u001b[0;34m)\u001b[0m\u001b[0;34m\u001b[0m\u001b[0;34m\u001b[0m\u001b[0m\n\u001b[0m",
            "\u001b[0;31mNameError\u001b[0m: name 'ANAK_2' is not defined"
          ]
        }
      ],
      "source": [
        "anak_1 = 25000\n",
        "anak_2 = 15000\n",
        "anak_3 = 10000\n",
        "\n",
        "print(ANAK_2)"
      ]
    },
    {
      "cell_type": "code",
      "execution_count": 28,
      "metadata": {
        "colab": {
          "base_uri": "https://localhost:8080/"
        },
        "id": "bYo95vkAht27",
        "outputId": "1eca5332-0bb6-4e05-d162-56e74478828a"
      },
      "outputs": [
        {
          "name": "stdout",
          "output_type": "stream",
          "text": [
            "15000\n"
          ]
        }
      ],
      "source": [
        "# Code in here\n",
        "anak_1 = 25000\n",
        "anak_2 = 15000\n",
        "anak_3 = 10000\n",
        "\n",
        "print(anak_2)"
      ]
    },
    {
      "cell_type": "markdown",
      "metadata": {
        "id": "Uxuv6DTMlGTR"
      },
      "source": [
        "#### **5c**\n",
        "Misalkan kita ingin menjalankan potongan code di bawah ini\n",
        "\n",
        "- print(\"Uang saku anak pertama adalah 25.000\")\n",
        "    - print(\"Uang saku anak kedua adalah 15.000\")\n",
        "- print(\"Uang saku anak ketiga adalah 10.000\")"
      ]
    },
    {
      "cell_type": "code",
      "execution_count": null,
      "metadata": {
        "colab": {
          "base_uri": "https://localhost:8080/",
          "height": 130
        },
        "id": "2_tBS3VZGWL1",
        "outputId": "34413af4-e10f-4ea4-e01c-85c4eb078aac"
      },
      "outputs": [
        {
          "ename": "IndentationError",
          "evalue": "ignored",
          "output_type": "error",
          "traceback": [
            "\u001b[0;36m  File \u001b[0;32m\"<ipython-input-4-a5c66251bc0e>\"\u001b[0;36m, line \u001b[0;32m2\u001b[0m\n\u001b[0;31m    print(\"Uang saku anak kedua adalah 15.000\")\u001b[0m\n\u001b[0m    ^\u001b[0m\n\u001b[0;31mIndentationError\u001b[0m\u001b[0;31m:\u001b[0m unexpected indent\n"
          ]
        }
      ],
      "source": [
        "print(\"Uang saku anak pertama adalah 25.000\")\n",
        "  print(\"Uang saku anak kedua adalah 15.000\")\n",
        "print(\"Uang saku anak ketiga adalah 10.000\")"
      ]
    },
    {
      "cell_type": "code",
      "execution_count": 29,
      "metadata": {
        "colab": {
          "base_uri": "https://localhost:8080/"
        },
        "id": "PbB9tnXsiI9g",
        "outputId": "0515ef66-be1f-4451-9a45-1e54abf76270"
      },
      "outputs": [
        {
          "name": "stdout",
          "output_type": "stream",
          "text": [
            "Uang saku anak pertama adalah 25.000\n",
            "Uang saku anak kedua adalah 15.000\n",
            "Uang saku anak ketiga adalah 10.000\n"
          ]
        }
      ],
      "source": [
        "# Code in here\n",
        "print(\"Uang saku anak pertama adalah 25.000\")\n",
        "print(\"Uang saku anak kedua adalah 15.000\")\n",
        "print(\"Uang saku anak ketiga adalah 10.000\")"
      ]
    },
    {
      "cell_type": "markdown",
      "metadata": {
        "id": "tUfNfupJ3xsj"
      },
      "source": [
        "# **Primitive Data Structure**"
      ]
    },
    {
      "cell_type": "markdown",
      "metadata": {
        "id": "kKY-MAgGrOTy"
      },
      "source": [
        "### Case 1: Tanah Pak Banu"
      ]
    },
    {
      "cell_type": "markdown",
      "metadata": {
        "id": "4psXl_KXyqFI"
      },
      "source": [
        "Pak Banu memiliki sebidang tanah berbentuk Persegi Panjang dengan panjang 80 meter dan lebar 50 meter."
      ]
    },
    {
      "cell_type": "markdown",
      "metadata": {
        "id": "d9-Jaa4Y2q_a"
      },
      "source": [
        "![1.jpg](https://sekolahdata-assets.s3.ap-southeast-1.amazonaws.com/notebook-images/mds-python-indo/1a.jpg)"
      ]
    },
    {
      "cell_type": "markdown",
      "metadata": {
        "id": "jBZa5oCx3okC"
      },
      "source": [
        "#### **1A**\n",
        "\n",
        "Berapakah luas tanah Pak Banu ?"
      ]
    },
    {
      "cell_type": "code",
      "execution_count": 30,
      "metadata": {
        "colab": {
          "base_uri": "https://localhost:8080/"
        },
        "id": "jITNA8UahSPR",
        "outputId": "d3d980ba-b15b-4229-e96e-5c6beb624628"
      },
      "outputs": [
        {
          "name": "stdout",
          "output_type": "stream",
          "text": [
            "Luas tanah Pak Banu = 4000 m^2\n"
          ]
        }
      ],
      "source": [
        "# definisikan variabel panjang dan lebar\n",
        "panjang=80\n",
        "lebar=50\n",
        "\n",
        "\n",
        "# cari luas tanah menggunakan rumus luas persegi\n",
        "# luas persegi = panjang * lebar\n",
        "luas=panjang*lebar\n",
        "\n",
        "# tampilkan luas tanah\n",
        "print('Luas tanah Pak Banu = %i m^2'%(luas))"
      ]
    },
    {
      "cell_type": "markdown",
      "metadata": {
        "id": "ZjKCFqCl0s1t"
      },
      "source": [
        "#### **1B**\n",
        "Pak Banu berencana untuk menanaminya dengan pohon jeruk. Jika pohon jeruk akan ditanam di tanah yang Pak Banu miliki, dan jarak antar pohon 5 * 5 meter, berapakah jumlah bibit pohon jeruk yang dibutuhkan Pak Banu ?\n",
        "\n",
        "![12.jpg](https://sekolahdata-assets.s3.ap-southeast-1.amazonaws.com/notebook-images/mds-python-indo/1b.jpg)\n",
        "\n",
        "```\n",
        "Keterangan :\n",
        "Rumus menghitung jumlah pohon\n",
        "jumlah pohon di sisi panjang = (panjang tanah / jarak pohon ) + 1\n",
        "jumlah pohon di sisi lebar = (lebar tanah / jarak pohon ) + 1\n",
        "total pohon = jumlah pohon di sisi panjang * jumlah pohon di sisi lebar\n",
        "\n",
        "```\n",
        "\n",
        "\n"
      ]
    },
    {
      "cell_type": "code",
      "execution_count": 31,
      "metadata": {
        "colab": {
          "base_uri": "https://localhost:8080/"
        },
        "id": "SIUJA8_d7fTs",
        "outputId": "184f0d2c-8701-438c-9790-6cba6f246bc9"
      },
      "outputs": [
        {
          "name": "stdout",
          "output_type": "stream",
          "text": [
            "Jumlah bibit pohon jeruk yang dibutuhkan = 187 pohon\n"
          ]
        }
      ],
      "source": [
        "# definisikan variabel constant jarak antar pohon\n",
        "jarak_pohon=5\n",
        "panjang_tanah=80\n",
        "lebar_tanah=50\n",
        "\n",
        "\n",
        "# hitung jumlah bibit pohon\n",
        "# pakai variabel panjang dan lebar tanah di soal 1A\n",
        "jumlah_pohon_panjang=(panjang_tanah/jarak_pohon)+1\n",
        "jumlah_pohon_lebar=(lebar_tanah/jarak_pohon)+1\n",
        "total_pohon=jumlah_pohon_panjang*jumlah_pohon_lebar\n",
        "\n",
        "# tampilkan jumlah bibit pohon jeruk\n",
        "print(\"Jumlah bibit pohon jeruk yang dibutuhkan = %i pohon\"%(total_pohon))"
      ]
    },
    {
      "cell_type": "markdown",
      "metadata": {
        "id": "oZ7dNwj--YC_"
      },
      "source": [
        "#### **1C**\n",
        "\n",
        "Diketahui saat panen setiap pohon akan menghasilkan rata-rata 15 kg jeruk. Pak Banu menjual jeruk tersebut dengan harga 18.000 per kilogram. Berapakah pendapatan **(revenue)** yang didapatkan Pak Banu jika diasumsikan seluruh jeruk terjual ?\n",
        "\n",
        "\n",
        "```\n",
        "Keterangan:\n",
        "rumus revenue = jumlah barang * harga\n",
        "```\n",
        "\n"
      ]
    },
    {
      "cell_type": "code",
      "execution_count": 33,
      "metadata": {
        "colab": {
          "base_uri": "https://localhost:8080/"
        },
        "id": "vdYEgWGz7fXN",
        "outputId": "8c901c08-d548-4b70-c1d1-3449888c64d2"
      },
      "outputs": [
        {
          "name": "stdout",
          "output_type": "stream",
          "text": [
            "Revenue yang didapatkan = Rp 50490000\n"
          ]
        }
      ],
      "source": [
        "# definisikan variabel jumlah hasil per pohon dan harga per kilogram jeruk\n",
        "kg_per_pohon=15\n",
        "harga_perkg=18_000\n",
        "\n",
        "# cari total keseluruhan total berat jeruk terlebih dahulu\n",
        "# pakai variabel total pohon yang dibutuhkan pada soal 1C\n",
        "# hitung dahulu hasil total jeruk = hasil per pohon * jumlah pohon\n",
        "total_berat_jeruk=total_pohon*kg_per_pohon\n",
        "\n",
        "# hitung pendapatan atau revenue\n",
        "pendapatan=total_berat_jeruk*harga_perkg\n",
        "\n",
        "# tampilkan revenue yang didapatkan\n",
        "print(\"Revenue yang didapatkan = Rp %i\"%(pendapatan))"
      ]
    },
    {
      "cell_type": "markdown",
      "metadata": {
        "id": "HlrQgvgdnpra"
      },
      "source": [
        "#### **1D**\n",
        "\n",
        "Jika modal yang dibutuhkan untuk pekerja, pupuk, obat tanaman, peralatan, dll adalah sekitar 9.000.000 rupiah, berapakah keuntungan bersih yang didapatkan Pak Banu ?\n",
        "\n",
        "\n",
        "\n",
        "```\n",
        "Keterangan :\n",
        "rumus laba bersih = total pendapatan - total pengeluaran\n",
        "```\n",
        "\n"
      ]
    },
    {
      "cell_type": "code",
      "execution_count": 34,
      "metadata": {
        "colab": {
          "base_uri": "https://localhost:8080/"
        },
        "id": "nZw3j9Ae7fbi",
        "outputId": "c8c0dc5d-e950-4236-e936-7ac7ae985010"
      },
      "outputs": [
        {
          "name": "stdout",
          "output_type": "stream",
          "text": [
            "Keuntungan bersih yang didapatkan = Rp 41490000\n"
          ]
        }
      ],
      "source": [
        "# definisikan variabel untuk biaya berkebun\n",
        "total_pengeluaran=9_000_000\n",
        "\n",
        "# hitung untung bersih yang didapatkan\n",
        "# Gunakan variabel revenue dari soal nomer 1C\n",
        "laba_bersih=pendapatan-total_pengeluaran\n",
        "\n",
        "# tampilkan keuntungan bersih yang didapatkan\n",
        "print(\"Keuntungan bersih yang didapatkan = Rp %i\" %(laba_bersih))"
      ]
    },
    {
      "cell_type": "markdown",
      "metadata": {
        "id": "HBiriXVprY68"
      },
      "source": [
        "### Case 2: Donat Bu Ida"
      ]
    },
    {
      "cell_type": "markdown",
      "metadata": {
        "id": "IUm352OGrexM"
      },
      "source": [
        "Bu Ida baru saja merintis berjualan kue donat. Dalam 10 kue donat menghabiskan dana sekitar Rp 70.000 untuk bahan-bahan dan Rp 10.000 untuk operasional."
      ]
    },
    {
      "cell_type": "markdown",
      "metadata": {
        "id": "e12WPeARIRzn"
      },
      "source": [
        "####**2A**\n",
        "Hitunglah biaya produksi 10 kue donat Bu Ida\n",
        "\n",
        "```\n",
        "keterangan:\n",
        "biaya produksi = biaya bahan + biaya operasional\n",
        "```\n",
        "\n"
      ]
    },
    {
      "cell_type": "code",
      "execution_count": 35,
      "metadata": {
        "colab": {
          "base_uri": "https://localhost:8080/"
        },
        "id": "21GoPWELJJlD",
        "outputId": "df2f04fe-2030-408b-d7db-f7e2b777b637"
      },
      "outputs": [
        {
          "name": "stdout",
          "output_type": "stream",
          "text": [
            "Biaya produksi 10 donat Bu ida = Rp 80000\n"
          ]
        }
      ],
      "source": [
        "# definisikan variabel biaya bahan dan biaya operasional\n",
        "biaya_bahan=70_000\n",
        "biaya_operasional=10_000\n",
        "\n",
        "# hitung biaya produksi\n",
        "biaya_produksi=biaya_bahan+biaya_operasional\n",
        "\n",
        "# tampilkan biaya produksi 10 donat yang sudah di hitung\n",
        "print(f'Biaya produksi 10 donat Bu ida = Rp {biaya_produksi}')"
      ]
    },
    {
      "cell_type": "markdown",
      "metadata": {
        "id": "UGdni7CZJ0x6"
      },
      "source": [
        "#### **2B**"
      ]
    },
    {
      "cell_type": "markdown",
      "metadata": {
        "id": "67NyL7SLJ4Dv"
      },
      "source": [
        "Jika Bu Ida ingin mendapatkan keuntungan sebanyak 20%, berapa harga donat per biji yang harus ditetapkan ?\n",
        "```\n",
        "keterangan :\n",
        "harga jual produk = biaya produksi + (prosentase keuntungan * biaya produksi)\n",
        "```\n",
        "\n"
      ]
    },
    {
      "cell_type": "code",
      "execution_count": 36,
      "metadata": {
        "colab": {
          "base_uri": "https://localhost:8080/"
        },
        "id": "-1ZSq1h3oVP_",
        "outputId": "25ee1254-a9dd-476d-cc32-b88a0047513a"
      },
      "outputs": [
        {
          "name": "stdout",
          "output_type": "stream",
          "text": [
            "Harga donat per biji adalah: Rp 9600\n"
          ]
        }
      ],
      "source": [
        "# definisikan variabel prosentase keuntungan\n",
        "presentase_keuntungan=0.2\n",
        "\n",
        "\n",
        "# hitung harga jual produk\n",
        "harga_jual_produk=biaya_produksi+(presentase_keuntungan*biaya_produksi)\n",
        "\n",
        "# perlu diketahui bahwa harga di atas adalah harga 10 produk\n",
        "# untuk mengetahui harga per biji maka harus dibagi 10\n",
        "# hitung harga per produk\n",
        "harga_produk=harga_jual_produk/10\n",
        "\n",
        "# tampilakn harga kue donat per biji\n",
        "print(\"Harga donat per biji adalah: Rp %i\"%(harga_produk))"
      ]
    },
    {
      "cell_type": "markdown",
      "metadata": {
        "id": "KC-XYlIvwhfb"
      },
      "source": [
        "### Case 3: Dana Pensiun Bruno"
      ]
    },
    {
      "cell_type": "markdown",
      "metadata": {
        "id": "1z2c1RbowjMV"
      },
      "source": [
        "Bruno adalah seorang pekerja swasta. Supaya tidak menggantungkan diri kepada anaknya dia ingin menyiapkan dana untuk masa pensiun nanti. Untuk itu, Bruno mengikuti program dana pensiun dari suatu lembaga keuangan.  Dengan asumsi Bruno akan pensiun dari pekerjaanya pada usia 55 tahun dan usia yang bisa di ikuti dalam program dana pensiun tersebut adalah sampai usia 80 tahun."
      ]
    },
    {
      "cell_type": "markdown",
      "metadata": {
        "id": "to7iJQNo12LD"
      },
      "source": [
        "#### **3A**\n",
        "\n",
        "Jika total biaya hidup Bruno saat ini adalah sekitar 4.000.000 per bulan. Berapakah tabungan pensiun yang harus disiapkan ?"
      ]
    },
    {
      "cell_type": "markdown",
      "metadata": {
        "id": "Enr5FFDdyEMv"
      },
      "source": [
        "\n",
        "\n",
        "```\n",
        "keterangan:\n",
        "biaya pensiun = biaya hidup per bulan x 12 (jumlah bulan dalam satu tahun) x rentang umur\n",
        "```\n",
        "\n"
      ]
    },
    {
      "cell_type": "code",
      "execution_count": 2,
      "metadata": {
        "colab": {
          "base_uri": "https://localhost:8080/"
        },
        "id": "1t4JM9dEu1Ld",
        "outputId": "676b975d-9239-4213-ced5-3e0de09ceee3"
      },
      "outputs": [
        {
          "name": "stdout",
          "output_type": "stream",
          "text": [
            "Biaya pensiun yamh harus disiapkan Bruno adalah = Rp 1200000000\n"
          ]
        }
      ],
      "source": [
        "# definisikan variabel biaya hidup per bulan\n",
        "biaya_hidup=4_000_000\n",
        "\n",
        "# definisikan variabel umur saat pensiun\n",
        "# dan umur maksimal pada program dana pensiun\n",
        "umur_pensiun=55\n",
        "umur_max=80\n",
        "\n",
        "# hitung rentang umur saat mengikuti program dana pensiun\n",
        "# rentang umur = umur max - umur pensiun\n",
        "rentang_umur=umur_max-umur_pensiun\n",
        "\n",
        "# hitung biaya pensiun yang dibutuhkan\n",
        "biaya_pensiun=biaya_hidup*12*rentang_umur\n",
        "\n",
        "# tampilkan hasil perhitungan biaya pensiun\n",
        "print((\"Biaya pensiun yamh harus disiapkan Bruno adalah = Rp %i\" %(biaya_pensiun)))"
      ]
    },
    {
      "cell_type": "markdown",
      "metadata": {
        "id": "FrcWfT1v1_gt"
      },
      "source": [
        "#### **3B**\n",
        "Jika saat ini Bruno berusia 25 tahun. Berapakah gaji yang harus disisihkan per bulan untuk tabungan pensiunnya ?"
      ]
    },
    {
      "cell_type": "code",
      "execution_count": 4,
      "metadata": {
        "colab": {
          "base_uri": "https://localhost:8080/"
        },
        "id": "YRy_nc9m0mFC",
        "outputId": "44ec08a5-3ed1-45af-9153-1b3016af1797"
      },
      "outputs": [
        {
          "name": "stdout",
          "output_type": "stream",
          "text": [
            "tabungan per bulan untuk pensiun : Rp 3333333.3333333335\n"
          ]
        }
      ],
      "source": [
        "# definisikan umur Bruno sekarang\n",
        "umur=25\n",
        "\n",
        "# hitung lama bruno harus menabung\n",
        "# lama menabung = umur pensiun - umur sekarang\n",
        "lama_menabung=umur_pensiun-umur\n",
        "\n",
        "# hitung jumlah tabungan dalan satu tahun yang harus dikumpulkan\n",
        "# tabungan dalam satu tahun = biaya pensiun / lama menabung\n",
        "tabungan_per_tahun=biaya_pensiun/lama_menabung\n",
        "\n",
        "# hitung tabungan per bulan yang harus dikumpulkan\n",
        "# tabungan per bulan = jumlah tabungan dalam satu tahun / 12 (jumlah bulan)\n",
        "tabungan_per_bulan=tabungan_per_tahun/12\n",
        "\n",
        "# tampilkan hasil perhitungan tabungan per bulan\n",
        "print(f\"tabungan per bulan untuk pensiun : Rp {tabungan_per_bulan}\")"
      ]
    },
    {
      "cell_type": "markdown",
      "metadata": {
        "id": "yDs7VuRx6CLN"
      },
      "source": [
        "### Case 4: Data Administrator"
      ]
    },
    {
      "cell_type": "markdown",
      "metadata": {
        "id": "tc3EvUBd6LeN"
      },
      "source": [
        "Seorang Data Administrator di Perusahaan S yang baru saja masuk ke kantor diberi task oleh bosnya untuk mengambil data seorang karyawan. Datanya sebagai berikut:\n",
        "\n",
        "| Nama | NIK | Jenis Kelamin | Alamat | Jabatan |\n",
        "|-|-|-|-|-|\n",
        "|Enzo Ferdinand | 223312 | Laki-Laki | Jl. Mawar No. 13, Kota A | Marketing Staff|\n",
        "\n"
      ]
    },
    {
      "cell_type": "markdown",
      "metadata": {
        "id": "xdRNyNODDcmy"
      },
      "source": [
        "####**4A**"
      ]
    },
    {
      "cell_type": "markdown",
      "metadata": {
        "id": "ArhfDy9eEYZC"
      },
      "source": [
        "Ambil karakter pertama dari nama awal karyawan tersebut, kemudian ambil juga nama terakhir. Setelah itu gabungkan keduanya sehingga menjadi `E. Ferdinand`\n"
      ]
    },
    {
      "cell_type": "code",
      "execution_count": 7,
      "metadata": {
        "colab": {
          "base_uri": "https://localhost:8080/"
        },
        "id": "quFnKjoy22MT",
        "outputId": "4843da1e-2ea4-4cd9-eb90-99bd5a729ebc"
      },
      "outputs": [
        {
          "name": "stdout",
          "output_type": "stream",
          "text": [
            "nama karyawan= E.Ferdinand\n"
          ]
        }
      ],
      "source": [
        "# definisikan variabel nama karyawan dahulu\n",
        "nama_karyawan='Enzo Ferdinand'\n",
        "\n",
        "# lakukan slicing untuk mendapatkan karakter pertama nama awal\n",
        "FirstName=nama_karyawan[:1]\n",
        "\n",
        "# lakukan slicing untuk mendapatkan nama terakhir\n",
        "LastName=nama_karyawan[5:]\n",
        "\n",
        "# gabungkan nama awal dan nama terakhir\n",
        "nama_gabungan=FirstName+'.'+LastName\n",
        "\n",
        "# tampilkan nama yang sudah digabung\n",
        "print(f'nama karyawan= {nama_gabungan}')"
      ]
    },
    {
      "cell_type": "markdown",
      "metadata": {
        "id": "-uqGsteWHdMv"
      },
      "source": [
        "#### **4B**\n",
        "\n"
      ]
    },
    {
      "cell_type": "markdown",
      "metadata": {
        "id": "6x8Lb1t1H3IO"
      },
      "source": [
        "Posisi Manager Marketing di Perusahaan tersebut sedang kosong karena suatu hal. Pimpinan perusahaan mempromosikan E. Ferdinand di posisi tersebut karena pekerjaannya memberi pengaruh besar kepada perusahaan. Ubah jabatan karyawan tersebut dari Marketing Staff menjadi Marketing Manager."
      ]
    },
    {
      "cell_type": "code",
      "execution_count": 10,
      "metadata": {
        "colab": {
          "base_uri": "https://localhost:8080/"
        },
        "id": "zX2hNWVoH2lF",
        "outputId": "55a9c54d-0ddd-4f71-a2ed-9bf5f0fd9f80"
      },
      "outputs": [
        {
          "name": "stdout",
          "output_type": "stream",
          "text": [
            "Jabatan Bapak E.Ferdinand adalah Marketing Manager\n"
          ]
        }
      ],
      "source": [
        "# definisikan variabel untuk menampung jabatan karyawan tersebut\n",
        "Jabatan_karyawan='Marketing staff'\n",
        "\n",
        "# ganti kata Staff menjadi Manager\n",
        "Jabatan_karyawan=Jabatan_karyawan.replace('staff','Manager')\n",
        "\n",
        "# tampilkan nama karyawan dan jabatannya sekarang\n",
        "print(f\"Jabatan Bapak {nama_gabungan} adalah {Jabatan_karyawan}\")"
      ]
    },
    {
      "cell_type": "markdown",
      "metadata": {
        "id": "uxgxsG4bMYzC"
      },
      "source": [
        "### Case 5: Analisa Lirik Lagu"
      ]
    },
    {
      "cell_type": "markdown",
      "metadata": {
        "id": "10DSL74mMcBA"
      },
      "source": [
        "Alexa sangat menyukai band Bonjovi, terutama lagunya yang berjudul `it's my live`. Sangking sukanya Alexa sampai membuat analisis pada bagian reff lagu tersebut"
      ]
    },
    {
      "cell_type": "code",
      "execution_count": 11,
      "metadata": {
        "id": "elpXxkymPELU"
      },
      "outputs": [],
      "source": [
        "lyrics =  '''\n",
        "It's my life\n",
        "It's now or never\n",
        "But I ain't gonna live forever\n",
        "I just want to live while I'm alive\n",
        "It's my life\n",
        "My heart is like an open highway\n",
        "Like Frankie said, I did it my way\n",
        "I just want to live while I'm alive\n",
        "It's my life\n",
        "'''"
      ]
    },
    {
      "cell_type": "markdown",
      "metadata": {
        "id": "3c_VtQM6Req8"
      },
      "source": [
        "#### 5A\n",
        "\n",
        "Sebelum melakukan analisis baiknya dilakukan pembersihan data dahulu. Beberapa caranya adalah:\n",
        "- Membuat huruf menjadi kecil semua,  \n",
        "- Menghilangkan karakter yang tidak diinginkan seperti tanda petik (`'`) dan tanda koma (`,`)\n",
        "\n",
        "\n"
      ]
    },
    {
      "cell_type": "markdown",
      "metadata": {
        "id": "HVu5_8CTOZ6g"
      },
      "source": [
        "\n",
        "\n",
        "Catatan :\n",
        "\n",
        "Untuk **menghilangkan** suatu karakter bisa menggunakan method `replace`. Maksudnya karakter tersebut **diganti atau di-replace** dengan **empty string** `(\"\")`\n",
        "\n",
        "Contoh :\n",
        "\n",
        "Kita akan menghilangkan huruf `\"b\"` dari kata `\"bisa\"`\n",
        "```\n",
        "NAMA_VAR = \"bisa\"\n",
        "NAMA_VAR = NAMA_VAR.replace('b', \"\")\n",
        "# output\n",
        "print(NAMA_VAR)\n",
        "\"isa\"\n",
        "```\n"
      ]
    },
    {
      "cell_type": "code",
      "execution_count": 13,
      "metadata": {
        "colab": {
          "base_uri": "https://localhost:8080/"
        },
        "id": "pDN0bD2mSX50",
        "outputId": "8437c105-8b13-4c2e-a73c-bb1b9e4c6898"
      },
      "outputs": [
        {
          "name": "stdout",
          "output_type": "stream",
          "text": [
            "\n",
            "its my life\n",
            "its now or never\n",
            "but i aint gonna live forever\n",
            "i just want to live while im alive\n",
            "its my life\n",
            "my heart is like an open highway\n",
            "like frankie said i did it my way\n",
            "i just want to live while im alive\n",
            "its my life\n",
            "\n"
          ]
        }
      ],
      "source": [
        "# buatlah huruf di variabel lyrics menjadi huruf kecil semua\n",
        "lyrics=lyrics.lower()\n",
        "\n",
        "# hilangkan tanda petik dengan method replace\n",
        "lyrics=lyrics.replace(\"'\",\"\")\n",
        "# hilangkan tanda koma dengan method replace\n",
        "lyrics=lyrics.replace(\",\",\"\")\n",
        "\n",
        "# tampilakn lirik yang sudah di lakukan pembersihan data\n",
        "print(lyrics)"
      ]
    },
    {
      "cell_type": "markdown",
      "metadata": {
        "id": "pDme_hNRP7ad"
      },
      "source": [
        "####**5B**"
      ]
    },
    {
      "cell_type": "markdown",
      "metadata": {
        "id": "MtQN4Go3Ugku"
      },
      "source": [
        "Berapa banyak karakter dalam lirik tersebut?"
      ]
    },
    {
      "cell_type": "code",
      "execution_count": 15,
      "metadata": {
        "colab": {
          "base_uri": "https://localhost:8080/"
        },
        "id": "iLGIFrUjUkIH",
        "outputId": "9ef4715a-17a6-451d-91c9-b2012690fac7"
      },
      "outputs": [
        {
          "name": "stdout",
          "output_type": "stream",
          "text": [
            "Banyak karakter dalam lirik adalah 221 karakter\n"
          ]
        }
      ],
      "source": [
        "# definisikan variabel dan hitung banyak karakter dengan method python\n",
        "Jumlah_karakter=len(lyrics)\n",
        "\n",
        "# tampilkan banyak karakter dalam lirik tersebut\n",
        "print(\"Banyak karakter dalam lirik adalah %i karakter\" %(Jumlah_karakter))"
      ]
    },
    {
      "cell_type": "markdown",
      "metadata": {
        "id": "4b3hOX4_VS92"
      },
      "source": [
        "#### **5C**"
      ]
    },
    {
      "cell_type": "markdown",
      "metadata": {
        "id": "FbTPVXG0VX9c"
      },
      "source": [
        "Berapakah banyak kemunculan kata `life` dalam lirik tersebut\n"
      ]
    },
    {
      "cell_type": "code",
      "execution_count": 19,
      "metadata": {
        "colab": {
          "base_uri": "https://localhost:8080/"
        },
        "id": "DqBzOqukVjSI",
        "outputId": "d94a53dd-63f0-49e1-a1fb-fe6123df3f61"
      },
      "outputs": [
        {
          "name": "stdout",
          "output_type": "stream",
          "text": [
            "Kemunculan kata 'life' sebanyak 3 kali\n"
          ]
        }
      ],
      "source": [
        "# definisikan variabel dan hitung kemunculan kata life dengan method python\n",
        "jumlah_life=lyrics.count('life')\n",
        "\n",
        "# tampilkan banyak kemunculan kata tersebut\n",
        "print(\"Kemunculan kata 'life' sebanyak %i kali\" %(jumlah_life))"
      ]
    },
    {
      "cell_type": "markdown",
      "metadata": {
        "id": "jOSX8joMVA4G"
      },
      "source": [
        "####**5D**"
      ]
    },
    {
      "cell_type": "markdown",
      "metadata": {
        "id": "gAQUiVVlQAJN"
      },
      "source": [
        "Berapakah prosentase kemunculan karakter `life` dalam lagu tersebut\n",
        "```\n",
        "keterangan:\n",
        "prosentase = (jumlah kemunculan / total karakter) * 100\n",
        "```\n",
        "\n"
      ]
    },
    {
      "cell_type": "code",
      "execution_count": 38,
      "metadata": {
        "colab": {
          "base_uri": "https://localhost:8080/"
        },
        "id": "heFjpG-kPsgb",
        "outputId": "22724e98-1dcf-4af9-8830-5b24d3c91849"
      },
      "outputs": [
        {
          "name": "stdout",
          "output_type": "stream",
          "text": [
            "presentase kemunculan karakter life dalam lirik yaitu 1.357466 % \n"
          ]
        }
      ],
      "source": [
        "# definisikan variabel dan hitung prosentase kemunculan karakter life\n",
        "presentase_kemunculan=(jumlah_life/Jumlah_karakter)*100\n",
        "\n",
        "# tampilkan prosentase kemunculan karakter life dalam lirik tersebut\n",
        "print(\"presentase kemunculan karakter life dalam lirik yaitu %f %% \" %(presentase_kemunculan))"
      ]
    },
    {
      "cell_type": "markdown",
      "metadata": {
        "id": "bst2q8NH5Xkf"
      },
      "source": [
        "# **Boolean**"
      ]
    },
    {
      "cell_type": "markdown",
      "metadata": {
        "id": "pV7wzBEjHHhJ"
      },
      "source": [
        "Buatlah variabel boolean dengan nama variabel_1 dan variabel_2 masing masing True dan False"
      ]
    },
    {
      "cell_type": "code",
      "execution_count": 41,
      "metadata": {
        "id": "kRorumfKHHx6"
      },
      "outputs": [],
      "source": [
        "# Code in here\n",
        "variabel_1=True\n",
        "variabel_2=False"
      ]
    },
    {
      "cell_type": "markdown",
      "metadata": {
        "id": "B1HUov5IkbeQ"
      },
      "source": [
        "Gunakan variabel_1 dan variabel_2 sebelumnya dengan operasi boolean tidak sama dengan"
      ]
    },
    {
      "cell_type": "code",
      "execution_count": 43,
      "metadata": {
        "colab": {
          "base_uri": "https://localhost:8080/"
        },
        "id": "3fWIIt-skadj",
        "outputId": "753822c8-21c9-41d1-f2e9-f5d8f8b9005c"
      },
      "outputs": [
        {
          "data": {
            "text/plain": [
              "True"
            ]
          },
          "execution_count": 43,
          "metadata": {},
          "output_type": "execute_result"
        }
      ],
      "source": [
        "# Code in here\n",
        "variabel_1!=variabel_2"
      ]
    },
    {
      "cell_type": "markdown",
      "metadata": {
        "id": "turkish-adrian"
      },
      "source": [
        "Cek nilai bolean dari operasi berikut: 10 >= 11"
      ]
    },
    {
      "cell_type": "code",
      "execution_count": 44,
      "metadata": {
        "colab": {
          "base_uri": "https://localhost:8080/"
        },
        "id": "sonic-stephen",
        "outputId": "7c520e12-5ca7-4a12-8610-9d0015b74ce0"
      },
      "outputs": [
        {
          "data": {
            "text/plain": [
              "False"
            ]
          },
          "execution_count": 44,
          "metadata": {},
          "output_type": "execute_result"
        }
      ],
      "source": [
        "# Code in here\n",
        "10>=11"
      ]
    },
    {
      "cell_type": "markdown",
      "metadata": {
        "id": "dQfbRJeUnh-Q"
      },
      "source": [
        "Buatlah operasi boolean dengan pernyataan 6 lebih besar 7  dengan  dari 1"
      ]
    },
    {
      "cell_type": "code",
      "execution_count": 45,
      "metadata": {
        "colab": {
          "base_uri": "https://localhost:8080/"
        },
        "id": "YxTYsnU5niEI",
        "outputId": "219a0901-ffe8-4654-88f0-83b2b9db7bad"
      },
      "outputs": [
        {
          "data": {
            "text/plain": [
              "False"
            ]
          },
          "execution_count": 45,
          "metadata": {},
          "output_type": "execute_result"
        }
      ],
      "source": [
        "# Code in here\n",
        "6>7"
      ]
    },
    {
      "cell_type": "markdown",
      "metadata": {
        "id": "NamcLGvCoUGy"
      },
      "source": [
        "Ubahlah operator pada operasi boolean diatas sehingga menghasilkan nilai boolean yang berkebalikan"
      ]
    },
    {
      "cell_type": "code",
      "execution_count": 47,
      "metadata": {
        "colab": {
          "base_uri": "https://localhost:8080/"
        },
        "id": "nrAwlbgwoSsd",
        "outputId": "deda9a25-6ff0-4baf-82da-da2ac03cf427"
      },
      "outputs": [
        {
          "data": {
            "text/plain": [
              "True"
            ]
          },
          "execution_count": 47,
          "metadata": {},
          "output_type": "execute_result"
        }
      ],
      "source": [
        "# Code in here\n",
        "not (6>7)"
      ]
    },
    {
      "cell_type": "markdown",
      "metadata": {
        "id": "excited-kernel"
      },
      "source": [
        "Masukkan nilai variabel a sehingga nilai boolean dari operasi berikut bernilai True\n",
        "\n"
      ]
    },
    {
      "cell_type": "code",
      "execution_count": 48,
      "metadata": {
        "colab": {
          "base_uri": "https://localhost:8080/"
        },
        "id": "second-teaching",
        "outputId": "0da0999b-bc6d-473d-a628-9f8efea8076c"
      },
      "outputs": [
        {
          "data": {
            "text/plain": [
              "True"
            ]
          },
          "execution_count": 48,
          "metadata": {},
          "output_type": "execute_result"
        }
      ],
      "source": [
        "# Code in here\n",
        "a = 12 #nilai apapun yang melebih atau sama dengan nilai 10\n",
        "b = 10\n",
        "\n",
        "a >= b"
      ]
    },
    {
      "cell_type": "markdown",
      "metadata": {
        "id": "iZt0W0hEldfi"
      },
      "source": [
        "Tambahkan operasi dibawah ini kedalam python menggunakan variabel a dan b sebelumnya\n",
        "\n",
        "    a tidak sama dengan b dan a lebih besar dari b"
      ]
    },
    {
      "cell_type": "code",
      "execution_count": 49,
      "metadata": {
        "id": "H3H67YTBlXar"
      },
      "outputs": [
        {
          "data": {
            "text/plain": [
              "True"
            ]
          },
          "execution_count": 49,
          "metadata": {},
          "output_type": "execute_result"
        }
      ],
      "source": [
        "# Code in here\n",
        "a !=b and a>b"
      ]
    },
    {
      "cell_type": "markdown",
      "metadata": {
        "id": "qAbHlxcUsuWQ"
      },
      "source": [
        "Buatlah variabel angka_1 lalu buatlah sesuai dengan pernyataan operasi berikut\n",
        "\n",
        "    angka_1 lebih besar sama dengan 6 tidak sama dengan angka_1 lebih kecil dari 12\n",
        "\n",
        "Buatlah agar mengeluarkan output True"
      ]
    },
    {
      "cell_type": "code",
      "execution_count": 53,
      "metadata": {
        "colab": {
          "base_uri": "https://localhost:8080/"
        },
        "id": "1fcN3y_1tK-P",
        "outputId": "ffe615c0-71d0-4867-9611-1ef1f6f3213f"
      },
      "outputs": [
        {
          "data": {
            "text/plain": [
              "True"
            ]
          },
          "execution_count": 53,
          "metadata": {},
          "output_type": "execute_result"
        }
      ],
      "source": [
        "# Code in here\n",
        "angka_1=7\n",
        "angka_1 >= 6 != angka_1 < 12"
      ]
    },
    {
      "cell_type": "markdown",
      "metadata": {
        "id": "tHiObgaHtspc"
      },
      "source": [
        "Ubahlah operator tidak sama dengan menjadi operator logic and pada operasi sebelumnya. buatlah agar output booleannya menjadi False:"
      ]
    },
    {
      "cell_type": "code",
      "execution_count": 55,
      "metadata": {
        "colab": {
          "base_uri": "https://localhost:8080/"
        },
        "id": "M89QnpAOt0bW",
        "outputId": "e7166b60-3eca-4ef5-a7c9-f1e544b02365"
      },
      "outputs": [
        {
          "data": {
            "text/plain": [
              "False"
            ]
          },
          "execution_count": 55,
          "metadata": {},
          "output_type": "execute_result"
        }
      ],
      "source": [
        "# Code in here\n",
        "angka_1=7\n",
        "angka_1 >= 6 ==  angka_1 < 12"
      ]
    },
    {
      "cell_type": "markdown",
      "metadata": {
        "id": "cubic-fellow"
      },
      "source": [
        "Cek apakah jarak rumah budi ke sekolah 250 meter, lebih jauh dari jarak rumah tono ke sekolah 223 meter."
      ]
    },
    {
      "cell_type": "code",
      "execution_count": 56,
      "metadata": {
        "colab": {
          "base_uri": "https://localhost:8080/"
        },
        "id": "removed-associate",
        "outputId": "4d728b44-5d9c-43ba-997f-b7aa58fbb27f"
      },
      "outputs": [
        {
          "data": {
            "text/plain": [
              "True"
            ]
          },
          "execution_count": 56,
          "metadata": {},
          "output_type": "execute_result"
        }
      ],
      "source": [
        "# Code in here\n",
        "jarak_rumah_budi = 250 #meter\n",
        "jarak_rumah_tono = 223 #meter\n",
        "\n",
        "jarak_rumah_budi > jarak_rumah_tono"
      ]
    },
    {
      "cell_type": "markdown",
      "metadata": {
        "id": "H8PldLH_jjGm"
      },
      "source": [
        "Cek apakah jika nama Cynthia dan nama Cynth'ia itu sama dengan menggunakan operator boolean"
      ]
    },
    {
      "cell_type": "code",
      "execution_count": 57,
      "metadata": {
        "colab": {
          "base_uri": "https://localhost:8080/"
        },
        "id": "csFF9-MbjkOq",
        "outputId": "87ec4ff8-c60f-4475-dca5-9279a2a6d8d0"
      },
      "outputs": [
        {
          "data": {
            "text/plain": [
              "True"
            ]
          },
          "execution_count": 57,
          "metadata": {},
          "output_type": "execute_result"
        }
      ],
      "source": [
        "# Code in here\n",
        "'Cynth''ia'== 'Cynthia'"
      ]
    },
    {
      "cell_type": "markdown",
      "metadata": {
        "id": "comic-sewing"
      },
      "source": [
        "Masukkan nilai ke dalam variable a, b dan c sehingga nilai boolean dari operasi logika berikut menjadi False (untuk angkanya bebas)\n",
        "\n",
        "    (a > b AND a > c ) OR (b < c)"
      ]
    },
    {
      "cell_type": "code",
      "execution_count": 58,
      "metadata": {
        "colab": {
          "base_uri": "https://localhost:8080/"
        },
        "id": "human-dryer",
        "outputId": "f54a04d9-71fa-4c9d-d675-1de49730859c"
      },
      "outputs": [
        {
          "data": {
            "text/plain": [
              "False"
            ]
          },
          "execution_count": 58,
          "metadata": {},
          "output_type": "execute_result"
        }
      ],
      "source": [
        "a = 2\n",
        "b = 4\n",
        "c = 3\n",
        "\n",
        "(a>b and a>c) or (b<c)"
      ]
    },
    {
      "cell_type": "markdown",
      "metadata": {
        "id": "HloDEoZjmgxC"
      },
      "source": [
        "Dengan operasi logika sebelumnya ubah nilai variabel sehingga menjadi True"
      ]
    },
    {
      "cell_type": "code",
      "execution_count": 59,
      "metadata": {
        "colab": {
          "base_uri": "https://localhost:8080/"
        },
        "id": "yxSqM6Xhmd2A",
        "outputId": "d8ab2340-f6c3-46d6-e4f9-754e25159d2a"
      },
      "outputs": [
        {
          "data": {
            "text/plain": [
              "True"
            ]
          },
          "execution_count": 59,
          "metadata": {},
          "output_type": "execute_result"
        }
      ],
      "source": [
        "a = 2\n",
        "b = 3\n",
        "c = 4\n",
        "\n",
        "(a>b and a>c) or (b<c)"
      ]
    },
    {
      "cell_type": "markdown",
      "metadata": {
        "id": "supported-medicare"
      },
      "source": [
        "Cek apakah nilai x lebih kecil atau sama dengan y bila diketahui: y = 3$x^{2}$ + 4x - 27 dan x = 3"
      ]
    },
    {
      "cell_type": "code",
      "execution_count": 73,
      "metadata": {
        "colab": {
          "base_uri": "https://localhost:8080/"
        },
        "id": "colored-rover",
        "outputId": "31da5f8d-0927-45d9-e329-19efb5dc4c4e"
      },
      "outputs": [
        {
          "name": "stdout",
          "output_type": "stream",
          "text": [
            "12\n"
          ]
        },
        {
          "data": {
            "text/plain": [
              "True"
            ]
          },
          "execution_count": 73,
          "metadata": {},
          "output_type": "execute_result"
        }
      ],
      "source": [
        "# Code in here\n",
        "x=3\n",
        "y=(3*x**2)+(4*x-27)\n",
        "\n",
        "print(y)\n",
        "\n",
        "x<=y"
      ]
    },
    {
      "cell_type": "markdown",
      "metadata": {
        "id": "modular-yellow"
      },
      "source": [
        "Dari soal sebelumnya, jika ditambahkan nilai z = 3x + 5$y^{2}$ - 18, tentukan hasil operasi berikut :\n",
        "\n",
        "    (z > y) AND (x < z OR x >= y)"
      ]
    },
    {
      "cell_type": "code",
      "execution_count": 74,
      "metadata": {
        "colab": {
          "base_uri": "https://localhost:8080/"
        },
        "id": "compressed-escape",
        "outputId": "db132f9b-5e49-4d81-8745-bd75c30120bb"
      },
      "outputs": [
        {
          "name": "stdout",
          "output_type": "stream",
          "text": [
            "711\n"
          ]
        },
        {
          "data": {
            "text/plain": [
              "8"
            ]
          },
          "execution_count": 74,
          "metadata": {},
          "output_type": "execute_result"
        }
      ],
      "source": [
        "# Code in here\n",
        "z=3*x+5*y**2-18\n",
        "print(z)\n",
        "\n",
        "(z > y) and (x < z or x >= y)\n",
        "\n",
        "2**3\n"
      ]
    },
    {
      "cell_type": "markdown",
      "metadata": {
        "id": "pJQ8k5ggo73z"
      },
      "source": [
        "<details>\n",
        "    <summary><b>Klik untuk melihat kunci jawaban</b></summary>\n",
        "\n",
        "```python\n",
        "z = 3*x + 5*y**2 - 18\n",
        "\n",
        "(z>y) and (x<z or x >=y)\n",
        "```\n",
        "\n",
        "</details>\n",
        "\n",
        "---"
      ]
    },
    {
      "cell_type": "markdown",
      "metadata": {
        "id": "W65cBNPX7GPz"
      },
      "source": [
        "# **Branching**"
      ]
    },
    {
      "cell_type": "markdown",
      "metadata": {
        "id": "revolutionary-layer"
      },
      "source": [
        "Buatlah program yang menentukan apakah seseorang dapat membuat SIM atau tidak. Batas usia minimum pembuatan SIM adalah 18 tahun."
      ]
    },
    {
      "cell_type": "code",
      "execution_count": 75,
      "metadata": {
        "id": "noticed-refund"
      },
      "outputs": [
        {
          "name": "stdout",
          "output_type": "stream",
          "text": [
            "boleh buat sim\n"
          ]
        }
      ],
      "source": [
        "# Code in here\n",
        "usia=20\n",
        "\n",
        "if usia >=18 :\n",
        "    print('boleh buat sim')\n",
        "else:\n",
        "    print('belum boleh buat sim')"
      ]
    },
    {
      "cell_type": "markdown",
      "metadata": {
        "id": "circular-production"
      },
      "source": [
        "Buat program yang mengecek apakah sebuah variable memiliki tipe data string, float atau integer"
      ]
    },
    {
      "cell_type": "code",
      "execution_count": 79,
      "metadata": {
        "colab": {
          "base_uri": "https://localhost:8080/"
        },
        "id": "regulated-pendant",
        "outputId": "47bf8342-3e02-4086-ff31-2940c0f84a66"
      },
      "outputs": [
        {
          "name": "stdout",
          "output_type": "stream",
          "text": [
            "tipe data halo adalah str\n"
          ]
        }
      ],
      "source": [
        "# Code in here\n",
        "\n",
        "var = 'halo'\n",
        "\n",
        "if type(var)== int:\n",
        "    type_var='int'\n",
        "elif type(var)== float:\n",
        "    type_var='float'\n",
        "elif type(var)== str:\n",
        "    type_var='str'\n",
        "\n",
        "print(f'tipe data {var} adalah {type_var}')"
      ]
    },
    {
      "cell_type": "markdown",
      "metadata": {
        "id": "forbidden-violation"
      },
      "source": [
        "Buatlah program yang mengecek apakah sebuah bilangan habis di bagi 5 atau tidak"
      ]
    },
    {
      "cell_type": "code",
      "execution_count": 82,
      "metadata": {
        "colab": {
          "base_uri": "https://localhost:8080/"
        },
        "id": "lypwfifBy303",
        "outputId": "9f25e83e-5ecb-4ad1-aeeb-c079bcf579b2"
      },
      "outputs": [
        {
          "name": "stdout",
          "output_type": "stream",
          "text": [
            "angka memiliki sisa 2\n"
          ]
        }
      ],
      "source": [
        "# Code in here\n",
        "\n",
        "angka_1 = 102\n",
        "\n",
        "if angka_1%5 == 0:\n",
        "    print('angka habis dibagi 5')\n",
        "else:\n",
        "    print(f'angka memiliki sisa {angka_1%5}')"
      ]
    },
    {
      "cell_type": "markdown",
      "metadata": {
        "id": "twenty-socket"
      },
      "source": [
        "Cek yang manakah paragraf di bawah ini yang memilik jumlah karakter lebih banyak?\n",
        "\n",
        "    lirik_1 =\n",
        "            \"This ain't a song for the broken-hearted No silent prayer for faith-departed And I ain't gonna be just a face in the crowd You're gonna hear my voice when I shout it out loud\"\n",
        "            \n",
        "    lirik_2 =\n",
        "            \"Yeah, this is for the ones who stood their ground For Tommy and Gina,\n",
        "            who never backed down Tomorrow's getting harder, make no mistake Luck\n",
        "            ain't even lucky, got to make your own breaks\""
      ]
    },
    {
      "cell_type": "code",
      "execution_count": 83,
      "metadata": {
        "colab": {
          "base_uri": "https://localhost:8080/"
        },
        "id": "nominated-sitting",
        "outputId": "3b8a9cd1-ccbb-411a-d513-74a4bdda5d65"
      },
      "outputs": [
        {
          "name": "stdout",
          "output_type": "stream",
          "text": [
            "lirik_2 memiliki karakter lebih banyak\n"
          ]
        }
      ],
      "source": [
        "# Code in here\n",
        "\n",
        "lirik_1 = \"This ain't a song for the broken-hearted No silent prayer for faith-departed And I ain't gonna be just a face in the crowd You're gonna hear my voice when I shout it out loud\"\n",
        "lirik_2 = \"Yeah, this is for the ones who stood their ground For Tommy and Gina who never backed down Tomorrow's getting harder, make no mistake Luck ain't even lucky, got to make your own breaks\"\n",
        "\n",
        "if len(lirik_1)>(len(lirik_2)):\n",
        "    print(\"lirik_1 memiliki karakter lebih banyak\")\n",
        "else:\n",
        "    print(\"lirik_2 memiliki karakter lebih banyak\")\n"
      ]
    },
    {
      "cell_type": "markdown",
      "metadata": {
        "id": "polish-telling"
      },
      "source": [
        "Minimaket \"AAA\" memberikan diskon 10% bagi pelanggan yang total belanjannya diatas Rp. 100.000. Ani belanja di minimarket A dengan rincian belanja sebagai berikut:\n",
        "\n",
        "\n",
        "| barang      | Sub total harga  |\n",
        "|-------------|--------|\n",
        "| 1 Sabun Mandi | 25000  |\n",
        "| 2 Sabun Cuci| 2 x 18000 |\n",
        "| 1 Kotak Susu | 48000  |\n",
        "| 2 Pasta Gigi | 2 x 11000  |\n",
        "\n",
        "\n",
        "\n",
        "Buat program yang menentukan apakah total belanja Ani mendapat diskon atau tidak. Cetak total belanja yang harus di bayar Ani."
      ]
    },
    {
      "cell_type": "code",
      "execution_count": 85,
      "metadata": {
        "colab": {
          "base_uri": "https://localhost:8080/"
        },
        "id": "handy-perfume",
        "outputId": "965ceda5-0f48-4ded-c2cb-3df9c4cdbb8d"
      },
      "outputs": [
        {
          "name": "stdout",
          "output_type": "stream",
          "text": [
            "diskon 13100.0 total bayar 117900.0\n"
          ]
        }
      ],
      "source": [
        "# Code in here\n",
        "total_belanja=25000+(2*18000)+48000+(2*11000)\n",
        "\n",
        "if total_belanja > 100000:\n",
        "    diskon=total_belanja*0.1\n",
        "    total_bayar=total_belanja-diskon\n",
        "    print(f\"diskon {diskon} total bayar {total_bayar}\")\n",
        "else:\n",
        "    diskon=0\n",
        "    total_bayar=total_belanja-diskon\n",
        "    print(f\"diskon {diskon} total bayar {total_bayar}\")"
      ]
    },
    {
      "cell_type": "markdown",
      "metadata": {
        "id": "racial-prefix"
      },
      "source": [
        "Buatlah program yang menentukan kategori generasi seseorang berdasarkan tahun lahirnya. Kondisi pengkategoriannya sebagai berikut:\n",
        " - Baby boomer, kelahiran 1944 s.d 1964\n",
        " - Generasi X, kelahiran 1965 s.d 1979\n",
        " - Generasi Y (Millenials), kelahiran 1980 s.d 1994\n",
        " - Generasi Z, kelahiran 1995 s.d 2015"
      ]
    },
    {
      "cell_type": "code",
      "execution_count": 87,
      "metadata": {
        "colab": {
          "base_uri": "https://localhost:8080/"
        },
        "id": "least-valve",
        "outputId": "f71c2cbb-8461-42a5-946c-25d92fed6ed1"
      },
      "outputs": [
        {
          "name": "stdout",
          "output_type": "stream",
          "text": [
            "anda adalah generasi millenials\n"
          ]
        }
      ],
      "source": [
        "# Code in here\n",
        "generasi=1994\n",
        "\n",
        "if generasi>= 1944 and generasi <=1964:\n",
        "    print(\"anda adalah generasi boomer\")\n",
        "elif generasi >= 1965 and generasi <= 1979:\n",
        "    print(\"anda adalah generasi x\")\n",
        "elif generasi >=1980 and generasi <= 1994:\n",
        "    print(\"anda adalah generasi millenials\")\n",
        "elif generasi >=1995 and generasi <= 2015:\n",
        "    print(\"anda adalah generasi z\") "
      ]
    },
    {
      "cell_type": "markdown",
      "metadata": {
        "id": "sapphire-springer"
      },
      "source": [
        "Dinas Kesehatan ingin melakukan vaksinasi tahap 1, dengan syarat, warga yang akan di vaksin berprofesi sebagai petugas pelayanan umum seperti TNI, Polri Perawat atau Dokter. Di luar profesi tersebut maka ia bukan prioritas program vaksinasi. Jika usia petugas pelayanan umum kurang dari 50 tahun maka akan di berikan vaksin buatan Sinovac namun jika berusia 50 tahun ke atas maka akan diberikan vaksin Novavax.\n",
        "\n",
        "note: soal di atas hanya fiktif\n",
        "\n",
        "Buatlah program untuk menentukan target dan vaksin yang akan diberikan terhadap kasus tersebut."
      ]
    },
    {
      "cell_type": "code",
      "execution_count": null,
      "metadata": {
        "colab": {
          "base_uri": "https://localhost:8080/"
        },
        "id": "solid-highway",
        "outputId": "7cb639f0-c8aa-490f-d01c-c19c56efb066"
      },
      "outputs": [
        {
          "name": "stdout",
          "output_type": "stream",
          "text": [
            "Andi akan di berikan vaksin Sinovac\n"
          ]
        }
      ],
      "source": [
        "# Code in here\n",
        "..."
      ]
    },
    {
      "cell_type": "markdown",
      "metadata": {
        "id": "possible-bridges"
      },
      "source": [
        "Buatlah program yang menerima input bilangan (x), kemudian akan melakukan perintah berikut:\n",
        "- n bernilai 8\n",
        "- Jika x ganjil, maka print \"ganjil\"\n",
        "- Jika x genap dan berada pada rentang 2 sampai 7, print (genap di bawah 7)\n",
        "- Jika x genap dan berada pada rentang 8 sampai 28, print (genap antara 8-28)\n",
        "- Jika x genap dan lebih besar dari 28, print (genap antara ditas 28)"
      ]
    },
    {
      "cell_type": "code",
      "execution_count": 97,
      "metadata": {
        "colab": {
          "base_uri": "https://localhost:8080/"
        },
        "id": "excess-binary",
        "outputId": "80e927ff-413f-4133-fedb-f8c8b3c98ee8"
      },
      "outputs": [
        {
          "name": "stdout",
          "output_type": "stream",
          "text": [
            "ganjil\n"
          ]
        }
      ],
      "source": [
        "# Code in here\n",
        "x= int(input(\"masukan nilai\"))\n",
        "if x%2==0:\n",
        "    if x >=2 and x <=7 :\n",
        "        print(\"genap dibawah 7\")\n",
        "    elif x>=8 and x <=28:\n",
        "        print(\"genap antara 8-28\")\n",
        "    elif x>28:\n",
        "        print(\"diatas 28\")\n",
        "else:\n",
        "    print(\"ganjil\")"
      ]
    },
    {
      "cell_type": "markdown",
      "metadata": {
        "id": "buried-seven"
      },
      "source": [
        "Buatlah program yang mengkonversi nilai 1-100 kedalam bentuk nilai (A, B, C, D, F). dengan syarat:\n",
        "\n",
        "- Nilai 90 hingga 100 dikonversi menjadi A\n",
        "- Nilai 80 hingga 89 dikonversi menjadi B\n",
        "- Nilai 70 hingga 79 dikonversi menjadi C\n",
        "- Nilai 65 hingga 69 dikonversi menjadi D\n",
        "- dan dibawah nilai 65 dikonversi menjadi F"
      ]
    },
    {
      "cell_type": "code",
      "execution_count": null,
      "metadata": {
        "colab": {
          "base_uri": "https://localhost:8080/"
        },
        "id": "enhanced-bulgaria",
        "outputId": "db12e104-f267-419c-f5cb-1a022d8b943a"
      },
      "outputs": [
        {
          "name": "stdout",
          "output_type": "stream",
          "text": [
            "B\n"
          ]
        }
      ],
      "source": [
        "# Code in here\n",
        "..."
      ]
    },
    {
      "cell_type": "markdown",
      "metadata": {
        "id": "39955d1e"
      },
      "source": [
        "Diberikan tiga buah variabel a, b dan c yang masing-masing berisi nilai integer. Tentukan yang variabel manakah yang memiliki nilai terbesar?"
      ]
    },
    {
      "cell_type": "code",
      "execution_count": null,
      "metadata": {
        "colab": {
          "base_uri": "https://localhost:8080/"
        },
        "id": "8d820edb",
        "outputId": "cfaa79c6-330c-4ffc-bd67-336b89a4d4e6"
      },
      "outputs": [
        {
          "name": "stdout",
          "output_type": "stream",
          "text": [
            "b memiliki nilai terbesar\n"
          ]
        }
      ],
      "source": [
        "# Code in here\n"
      ]
    },
    {
      "cell_type": "markdown",
      "metadata": {
        "id": "f0f2a8b0"
      },
      "source": [
        "Buatlah program yang menentukan apakah sebuah nilai merupakan bilangan negatif, positif, atau nol."
      ]
    },
    {
      "cell_type": "code",
      "execution_count": 100,
      "metadata": {
        "colab": {
          "base_uri": "https://localhost:8080/"
        },
        "id": "dfd3a3a4",
        "outputId": "1829222f-e585-4edb-947d-cf5a98e5ec2a"
      },
      "outputs": [
        {
          "name": "stdout",
          "output_type": "stream",
          "text": [
            "nol\n"
          ]
        }
      ],
      "source": [
        "# Code in here\n",
        "n=0\n",
        "\n",
        "if n<0:\n",
        "    print(\"negatif\")\n",
        "elif n>0:\n",
        "    print(\"positif\")\n",
        "elif n==0:\n",
        "    print(\"nol\")\n"
      ]
    },
    {
      "cell_type": "markdown",
      "metadata": {
        "id": "CMiCeA3HlZqz"
      },
      "source": [
        "Buatlah program untuk mencari siapa yang tertua dari 3 orang.\n",
        "   \n",
        "    * Input:\n",
        "    ```\n",
        "        orang_1 = 40\n",
        "        orang_2 = 25\n",
        "        orang_3 = 37\n",
        "    ```\n",
        "    * Output:\n",
        "        ```\n",
        "        Orang yang tertua adalah orang pertama\n",
        "        ```"
      ]
    },
    {
      "cell_type": "code",
      "execution_count": null,
      "metadata": {
        "colab": {
          "base_uri": "https://localhost:8080/"
        },
        "id": "FZFVKl5-O4mS",
        "outputId": "447fd7af-8268-44b9-8d6b-06195ebb792b"
      },
      "outputs": [
        {
          "name": "stdout",
          "output_type": "stream",
          "text": [
            "Orang Tertua adalah orang ketiga\n"
          ]
        }
      ],
      "source": [
        "# Code in here\n",
        "..."
      ]
    },
    {
      "cell_type": "markdown",
      "metadata": {
        "id": "VVbD3Fl6lc6x"
      },
      "source": [
        "Sebuah perusahaan akan memberikan bonus 10% dari gaji masing-masing pegawai kepada pegawainya jika pegawainya telah bekerja selama minimal 5 tahun.\n",
        "\n",
        "    * Input:\n",
        "```\n",
        "kasus 1: gaji = 5000 ; masa bakti = 2\n",
        "kasus 2: gaji = 10000; masa bakti = 6\n",
        "```\n",
        "    * Output:\n",
        "```\n",
        "kasus 1: Tidak ada bonus\n",
        "kasus 2: Bonus adalah 500\n",
        "```\n",
        "\n",
        "\n",
        "\n"
      ]
    },
    {
      "cell_type": "code",
      "execution_count": null,
      "metadata": {
        "id": "I87z6HV3lgYe"
      },
      "outputs": [],
      "source": [
        "# Code in here\n",
        "..."
      ]
    },
    {
      "cell_type": "markdown",
      "metadata": {
        "id": "JDtYMov1Qocx"
      },
      "source": [
        "Buatlah Program Nested Branching Menentukan tahun kabisat dengan ketentuan\n",
        "\n",
        "1. Jika satu tahun habis dibagi 4 dan tidak ada sisa, lanjutkan ke langkah berikutnya. Jika tidak habis dibagi 4. Bukan tahun kabisat.\n",
        "2. Jika suatu tahun habis dibagi 4, tetapi tidak habis dibagi 100, itu adalah tahun kabisat. Jika satu tahun habis dibagi 4 dan 100, lanjutkan ke langkah berikutnya.\n",
        "3. Jika suatu tahun habis dibagi 100, tetapi tidak habis dibagi 400 maka itu bukan tahun kabisat. Jika tahun habis dibagi keduanya maka tahun tersebut adalah tahun kabisat.\n",
        "\n",
        "    * Input:\n",
        "```\n",
        "kasus 1: tahun = 2024\n",
        "kasus 2: tahun = 2013\n",
        "```\n",
        "    * Output:\n",
        "```\n",
        "kasus 1: 2024 adalah tahun kabisat\n",
        "kasus 2: 2013 bukan tahun kabisat\n",
        "```\n"
      ]
    },
    {
      "cell_type": "code",
      "execution_count": 103,
      "metadata": {
        "colab": {
          "base_uri": "https://localhost:8080/"
        },
        "id": "K88wMzUZQohm",
        "outputId": "d020c760-5dbe-4adf-e02a-e11c0ddd9076"
      },
      "outputs": [
        {
          "name": "stdout",
          "output_type": "stream",
          "text": [
            "bukan kabisat\n"
          ]
        }
      ],
      "source": [
        "tahun=int(input(\"masukan tahun\"))\n",
        "\n",
        "# Code in here\n",
        "if tahun%4==0:\n",
        "    if tahun%100 != 0:\n",
        "        print(\"tahun kabisat\")\n",
        "    elif tahun%100 == 0:\n",
        "        if tahun%400 !=0:\n",
        "            print(\"bukan kabisat\")\n",
        "        elif tahun%400 ==0:\n",
        "            print(\"tahun kabisat\")\n",
        "\n",
        "else:\n",
        "    print(\"bukan kabisat\")\n",
        "    "
      ]
    },
    {
      "cell_type": "markdown",
      "metadata": {
        "id": "Rp7OFF9iht__"
      },
      "source": [
        "Buatlah program nested branching menentukan nilai\n",
        "  1. Jika presensi kurang dari atau sama dengan tiga, lanjut ke langkah berikutnya\n",
        "  2. Jika avarage nilai lebih atau sama dengan 80 maka \"nilai A\"\n",
        "  3. Jika avarage nilai lebih atau sama dengan 70 maka \"nilai B\"\n",
        "  4. Jika avarage nilai lebih atau sama dengan 60 maka \"nilai C\"\n",
        "  5. Lainnya maka \"nilai D\"\n",
        "  6. Jika presensi lebih dari itu maka \"nilai X\"\n",
        "\n",
        "\n",
        "    * Input:\n",
        "```\n",
        "skenario 1: presensi = 2 ; average_nilai = 80\n",
        "skenario 2: presensi = 4 ; average_nilai = 70\n",
        "```\n",
        "    * Output:\n",
        "```\n",
        "skenario 1: nilai A\n",
        "skenario 2: nilai X\n",
        "```"
      ]
    },
    {
      "cell_type": "code",
      "execution_count": 106,
      "metadata": {
        "colab": {
          "base_uri": "https://localhost:8080/"
        },
        "id": "qy_Q8sO3WOOk",
        "outputId": "1fb946de-c320-4a63-ee50-adec5662febe"
      },
      "outputs": [
        {
          "name": "stdout",
          "output_type": "stream",
          "text": [
            " nilai x\n"
          ]
        }
      ],
      "source": [
        "# Code in here\n",
        "presensi=4\n",
        "avg=70\n",
        "\n",
        "if presensi <= 3:\n",
        "    if avg>=80:\n",
        "        print(\"nilai A\")\n",
        "    elif avg>=70:\n",
        "        print('nilai b')\n",
        "    elif avg>=60:\n",
        "        print(\"nilai c\")\n",
        "    else:\n",
        "        print('nilai D')\n",
        "else:\n",
        "    print(\" nilai x\")"
      ]
    },
    {
      "cell_type": "code",
      "execution_count": null,
      "metadata": {},
      "outputs": [],
      "source": []
    }
  ],
  "metadata": {
    "colab": {
      "include_colab_link": true,
      "provenance": []
    },
    "kernelspec": {
      "display_name": "base",
      "language": "python",
      "name": "python3"
    },
    "language_info": {
      "codemirror_mode": {
        "name": "ipython",
        "version": 3
      },
      "file_extension": ".py",
      "mimetype": "text/x-python",
      "name": "python",
      "nbconvert_exporter": "python",
      "pygments_lexer": "ipython3",
      "version": "3.9.13"
    }
  },
  "nbformat": 4,
  "nbformat_minor": 0
}

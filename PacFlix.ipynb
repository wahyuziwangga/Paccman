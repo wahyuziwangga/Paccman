{
 "cells": [
  {
   "cell_type": "code",
   "execution_count": 86,
   "metadata": {},
   "outputs": [],
   "source": [
    "class user:\n",
    "    def __init__(self,username,current_plan,duration_plan):\n",
    "        self.username=username\n",
    "        self.curent_plant=current_plan\n",
    "        self.duration_plan=duration_plan\n",
    "\n",
    "    def check_benefit(self):\n",
    "       Basic_plan={'bisa_stream':True,'Bisa_Download':True,'Kualitas_SD':True,'Kualitas_HD':False,'Kualitas UHD':False,'Number of Devices':1,'Jenis Konten':['3rd party movie only'],'Harga':120_000}\n",
    "       Standart_plan={'bisa_stream':True,'Bisa_Download':True,'Kualitas_SD':True,'Kualitas_HD':True,'Kualitas UHD':False,'Number of Devices':2,'Jenis Konten':['Basic plan Content','sport'],'Harga':160_000}\n",
    "       Premium_plan={'bisa_stream':True,'Bisa_Download':True,'Kualitas_SD':True,'Kualitas_HD':True,'Kualitas UHD':True,'Number of Devices':4,'Jenis Konten':['Basic plan Content','Standart Plan','Pacflix original series'],'Harga':200_000}\n",
    "       print('halo')\n",
    "       print(Basic_plan)\n",
    "       print(Standart_plan)\n",
    "       print(Premium_plan)\n",
    "\n",
    "    def check_plan(self):\n",
    "        print(self.username)\n",
    "        print(self.curent_plant)\n",
    "        print(self.duration_plan)\n",
    "\n",
    "    def upgrade_plan(self,new_plan):\n",
    "        if self.duration_plan>12:\n",
    "            discount=0.05\n",
    "        else:\n",
    "            discount=0\n",
    "        \n",
    "        if new_plan=='Basic_Plan':\n",
    "            plan_price=120_000\n",
    "        elif new_plan=='Standart_Plan':\n",
    "            plan_price=160_000\n",
    "        elif new_plan=='Premium_Plan':\n",
    "            plan_price=200_000\n",
    "\n",
    "        final_price=plan_price-(plan_price*discount)\n",
    "        print(final_price)  \n"
   ]
  },
  {
   "cell_type": "code",
   "execution_count": 102,
   "metadata": {},
   "outputs": [
    {
     "name": "stdout",
     "output_type": "stream",
     "text": [
      "wahyu12\n",
      "Basic_plan\n",
      "13\n"
     ]
    }
   ],
   "source": [
    "a=user('wahyu12','Basic_plan',13)\n",
    "print(a.username)\n",
    "print(a.curent_plant)\n",
    "print(a.duration_plan)"
   ]
  },
  {
   "cell_type": "code",
   "execution_count": 103,
   "metadata": {},
   "outputs": [
    {
     "name": "stdout",
     "output_type": "stream",
     "text": [
      "halo\n",
      "{'bisa_stream': True, 'Bisa_Download': True, 'Kualitas_SD': True, 'Kualitas_HD': False, 'Kualitas UHD': False, 'Number of Devices': 1, 'Jenis Konten': ['3rd party movie only'], 'Harga': 120000}\n",
      "{'bisa_stream': True, 'Bisa_Download': True, 'Kualitas_SD': True, 'Kualitas_HD': True, 'Kualitas UHD': False, 'Number of Devices': 2, 'Jenis Konten': ['Basic plan Content', 'sport'], 'Harga': 160000}\n",
      "{'bisa_stream': True, 'Bisa_Download': True, 'Kualitas_SD': True, 'Kualitas_HD': True, 'Kualitas UHD': True, 'Number of Devices': 4, 'Jenis Konten': ['Basic plan Content', 'Standart Plan', 'Pacflix original series'], 'Harga': 200000}\n"
     ]
    }
   ],
   "source": [
    "a.check_benefit()"
   ]
  },
  {
   "cell_type": "code",
   "execution_count": 104,
   "metadata": {},
   "outputs": [
    {
     "name": "stdout",
     "output_type": "stream",
     "text": [
      "wahyu12\n",
      "Basic_plan\n",
      "13\n"
     ]
    }
   ],
   "source": [
    "a.check_plan()"
   ]
  },
  {
   "cell_type": "code",
   "execution_count": 107,
   "metadata": {},
   "outputs": [
    {
     "name": "stdout",
     "output_type": "stream",
     "text": [
      "190000.0\n"
     ]
    }
   ],
   "source": [
    "a.upgrade_plan('Premium_Plan')"
   ]
  },
  {
   "cell_type": "code",
   "execution_count": 95,
   "metadata": {},
   "outputs": [],
   "source": [
    "class new_user:\n",
    "    def __init__(self,username):\n",
    "        self.username=username\n",
    "    \n",
    "    def check_benefit(self):\n",
    "       Basic_plan={'bisa_stream':True,'Bisa_Download':True,'Kualitas_SD':True,'Kualitas_HD':False,'Kualitas UHD':False,'Number of Devices':1,'Jenis Konten':['3rd party movie only'],'Harga':120_000}\n",
    "       Standart_plan={'bisa_stream':True,'Bisa_Download':True,'Kualitas_SD':True,'Kualitas_HD':True,'Kualitas UHD':False,'Number of Devices':2,'Jenis Konten':['Basic plan Content','sport'],'Harga':160_000}\n",
    "       Premium_plan={'bisa_stream':True,'Bisa_Download':True,'Kualitas_SD':True,'Kualitas_HD':True,'Kualitas UHD':True,'Number of Devices':4,'Jenis Konten':['Basic plan Content','Standart Plan','Pacflix original series'],'Harga':200_000}\n",
    "       print('halo')\n",
    "       print(Basic_plan)\n",
    "       print(Standart_plan)\n",
    "       print(Premium_plan)\n",
    "\n",
    "    def pick_plan(self,new_plan,referral_code):\n",
    "        if referral_code == None:\n",
    "            discount=0\n",
    "        else:\n",
    "            discount=0.04\n",
    "\n",
    "        if new_plan=='Basic_Plan':\n",
    "            plan_price=120_000\n",
    "        elif new_plan=='Standart_Plan':\n",
    "            plan_price=160_000\n",
    "        elif new_plan=='Premium_Plan':\n",
    "            plan_price=200_000\n",
    "\n",
    "        final_price=plan_price-(plan_price*discount)\n",
    "        print(final_price)\n",
    "        "
   ]
  },
  {
   "cell_type": "code",
   "execution_count": 96,
   "metadata": {},
   "outputs": [],
   "source": [
    "nu=new_user('wahyu123')"
   ]
  },
  {
   "cell_type": "code",
   "execution_count": 97,
   "metadata": {},
   "outputs": [
    {
     "data": {
      "text/plain": [
       "'wahyu123'"
      ]
     },
     "execution_count": 97,
     "metadata": {},
     "output_type": "execute_result"
    }
   ],
   "source": [
    "nu.username"
   ]
  },
  {
   "cell_type": "code",
   "execution_count": 98,
   "metadata": {},
   "outputs": [
    {
     "name": "stdout",
     "output_type": "stream",
     "text": [
      "halo\n",
      "{'bisa_stream': True, 'Bisa_Download': True, 'Kualitas_SD': True, 'Kualitas_HD': False, 'Kualitas UHD': False, 'Number of Devices': 1, 'Jenis Konten': ['3rd party movie only'], 'Harga': 120000}\n",
      "{'bisa_stream': True, 'Bisa_Download': True, 'Kualitas_SD': True, 'Kualitas_HD': True, 'Kualitas UHD': False, 'Number of Devices': 2, 'Jenis Konten': ['Basic plan Content', 'sport'], 'Harga': 160000}\n",
      "{'bisa_stream': True, 'Bisa_Download': True, 'Kualitas_SD': True, 'Kualitas_HD': True, 'Kualitas UHD': True, 'Number of Devices': 4, 'Jenis Konten': ['Basic plan Content', 'Standart Plan', 'Pacflix original series'], 'Harga': 200000}\n"
     ]
    }
   ],
   "source": [
    "nu.check_benefit()"
   ]
  },
  {
   "cell_type": "code",
   "execution_count": 99,
   "metadata": {},
   "outputs": [
    {
     "name": "stdout",
     "output_type": "stream",
     "text": [
      "115200.0\n"
     ]
    }
   ],
   "source": [
    "nu.pick_plan('Basic_Plan','abc123')"
   ]
  },
  {
   "cell_type": "code",
   "execution_count": 100,
   "metadata": {},
   "outputs": [
    {
     "name": "stdout",
     "output_type": "stream",
     "text": [
      "120000\n"
     ]
    }
   ],
   "source": [
    "nu.pick_plan('Basic_Plan',None)"
   ]
  }
 ],
 "metadata": {
  "kernelspec": {
   "display_name": "base",
   "language": "python",
   "name": "python3"
  },
  "language_info": {
   "codemirror_mode": {
    "name": "ipython",
    "version": 3
   },
   "file_extension": ".py",
   "mimetype": "text/x-python",
   "name": "python",
   "nbconvert_exporter": "python",
   "pygments_lexer": "ipython3",
   "version": "3.9.13"
  }
 },
 "nbformat": 4,
 "nbformat_minor": 2
}

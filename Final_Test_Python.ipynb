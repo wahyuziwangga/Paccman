{
 "cells": [
  {
   "cell_type": "markdown",
   "metadata": {},
   "source": [
    "### Question 1\n",
    "Find the Structure of Data\n",
    "Given a 2D list of data, your task is to create a function that returns the number of rows & columns from that list.\n",
    "\n",
    "Input example-1:\n",
    "data = [[1, 2, 3],\n",
    "        [4, 5, 6],\n",
    "        [7, 8, 9],\n",
    "        [10, 11, 12]]\n",
    "\n",
    "res = check_structure(data)\n",
    "print(res)\n",
    "\n",
    "Output example-1:\n",
    "[4,3]\n",
    "\n",
    "Input example-2:\n",
    "\n",
    "data = [[4, 3, 2, 10],\n",
    "        [8, 2, 1, 3]]\n",
    "\n",
    "res = check_structure(data)\n",
    "print(res)\n",
    "Output example-2:\n",
    "\n",
    "[2,4]\n",
    "\n",
    "Input example-3:\n",
    "\n",
    "data = [[0.5, 0.3, 0.1]]\n",
    "\n",
    "res = check_structure(data)\n",
    "print(res)\n",
    "Output example-3:\n",
    "\n",
    "[1,3]"
   ]
  },
  {
   "cell_type": "code",
   "execution_count": 48,
   "metadata": {},
   "outputs": [
    {
     "name": "stdout",
     "output_type": "stream",
     "text": [
      "[4, 3]\n"
     ]
    }
   ],
   "source": [
    "def check_structure(data: list) -> list:\n",
    "    row=len(data)\n",
    "    kolom=len(data[0])\n",
    "    hasil=[row,kolom]\n",
    "    return hasil\n",
    "\n",
    "data = [[1, 2, 3],\n",
    "        [4, 5, 6],\n",
    "        [7, 8, 9],\n",
    "        [10, 11, 12]]\n",
    "\n",
    "res = check_structure(data)\n",
    "print(res)"
   ]
  },
  {
   "attachments": {
    "image.png": {
     "image/png": "[encoded data removed]"
    }
   },
   "cell_type": "markdown",
   "metadata": {},
   "source": [
    "### Question 2\n",
    "Create a Weighted Average Function\n",
    "Given a list of number (data) and list of weight (w), we want to find its weighted average.\n",
    "\n",
    "To calculate the weighted average, you can use belows formula\n",
    "![image.png](attachment:image.png)\n",
    "\n",
    "Input example-1:\n",
    "\n",
    "data = [10, 20, 30, 40, 50]\n",
    "w = [0.10, 0.20, 0.25, 0.3, 0.15]\n",
    "\n",
    "avg = calc_weighted_avg(data, w)\n",
    "print(avg)\n",
    "Output example-1:\n",
    "\n",
    "32.0\n",
    "Input example-2:\n",
    "\n",
    "data = [-1, -1, -1, -1, -1]\n",
    "w = [0.2, 0.2, 0.2, 0.2, 0.2]\n",
    "\n",
    "avg = calc_weighted_avg(data, w)\n",
    "print(avg)\n",
    "Output example-2:\n",
    "\n",
    "-1.0\n",
    "Input example-3:\n",
    "\n",
    "data = [12.31, 13.52, 9.81, 10.32]\n",
    "w = [0.1, 0.2, 0.3, 0.4]\n",
    "\n",
    "avg = calc_weighted_avg(data, w)\n",
    "print(avg)\n",
    "Output example-3:\n",
    "\n",
    "11.006"
   ]
  },
  {
   "cell_type": "code",
   "execution_count": 49,
   "metadata": {},
   "outputs": [
    {
     "name": "stdout",
     "output_type": "stream",
     "text": [
      "32.0\n"
     ]
    }
   ],
   "source": [
    "def calc_weighted_avg(data: list, w: list) -> float:\n",
    "    total=[]\n",
    "    for i in range (0,len(data)):\n",
    "        total.append(w[i]*data[i])\n",
    "    return sum(total)\n",
    "\n",
    "\n",
    "# Just run after you finish the function\n",
    "# Additionally, you can try filling in the expected inputs to validate your function is correct\n",
    "data = [10, 20, 30, 40, 50]\n",
    "w = [0.10, 0.20, 0.25, 0.3, 0.15]\n",
    "\n",
    "avg = calc_weighted_avg(data, w)\n",
    "print(avg)"
   ]
  },
  {
   "cell_type": "markdown",
   "metadata": {},
   "source": [
    "### Question 3\n",
    "Which Toko is More Profitable?\n",
    "You are a data analyst that works with financial team. You are given three list of data: revenues, costs, and toko_ID.\n",
    "Your manager asked which toko_ID that is profitable. A toko is called profitable if its revenue is higher than its cost.\n",
    "Create a function to return which toko_ID is profitable from a given revenues and costs data.\n",
    "\n",
    "Input example-1:\n",
    "\n",
    "toko_ID = ['A001', 'B002', 'C003', 'D004']\n",
    "revenues = [80000, 120000, 57000, 450000]\n",
    "costs = [90000, 110000, 57000, 420000]\n",
    "\n",
    "toko_profit = profitable_toko(toko_ID, revenues, costs)\n",
    "print(toko_profit)\n",
    "\n",
    "Output example-1:\n",
    "\n",
    "['B002', 'D004']\n",
    "\n",
    "Input example-2:\n",
    "\n",
    "toko_ID = ['p', 'q', 'r']\n",
    "revenues = [80, 90, 30]\n",
    "costs = [70, 100, 20]\n",
    "\n",
    "toko_profit = profitable_toko(toko_ID, revenues, costs)\n",
    "print(toko_profit)\n",
    "Output example-2:\n",
    "\n",
    "['p', 'r']\n",
    "Input example-3:\n",
    "\n",
    "toko_ID = ['a', 'b', 'c']\n",
    "revenues = [80, 80, 70]\n",
    "costs = [80, 80, 90]\n",
    "\n",
    "toko_profit = profitable_toko(toko_ID, revenues, costs)\n",
    "print(toko_profit)\n",
    "Output example-3:\n",
    "\n",
    "[]\n",
    "\n",
    "\n"
   ]
  },
  {
   "cell_type": "code",
   "execution_count": 50,
   "metadata": {},
   "outputs": [
    {
     "name": "stdout",
     "output_type": "stream",
     "text": [
      "['B002', 'D004']\n"
     ]
    }
   ],
   "source": [
    "def profitable_toko(toko_ID: list, revenues: list, costs: list) -> list:\n",
    "    hasil=[]\n",
    "    for i in range (0,len(toko_ID)):\n",
    "        if revenues[i]>costs[i]:\n",
    "            hasil.append(toko_ID[i])\n",
    "    return hasil\n",
    "    \n",
    "    \n",
    "# Just run after you finish the function\n",
    "# Additionally, you can try filling in the expected inputs to validate your function is correct\n",
    "toko_ID = ['A001', 'B002', 'C003', 'D004']\n",
    "revenues = [80000, 120000, 57000, 450000]\n",
    "costs = [90000, 110000, 57000, 420000]\n",
    "\n",
    "toko_profit = profitable_toko(toko_ID, revenues, costs)\n",
    "print(toko_profit)"
   ]
  },
  {
   "cell_type": "markdown",
   "metadata": {},
   "source": [
    "### Question 4\n",
    "Clean the Phone Number"
   ]
  },
  {
   "cell_type": "markdown",
   "metadata": {},
   "source": [
    "You are on a marketing team that have to transfer e-money as a gift to your customer.\n",
    "You noticed that the phone number data is inconsistent & you have to clean it.\n",
    "This is the valid definition of phone number\n",
    "\n",
    "Starts with 62, e.g. 62xxxxxxxxxxx\n",
    "It must be 11 digit number, excluding 62\n",
    "Clean the phone number first. If after cleaning, there is an invalid phone number, change the phone number with 'Invalid number', else return the cleaned phone in int type\n",
    "\n",
    "Assume:\n",
    "\n",
    "All the phones listed in the phone_lists is registered as indonesian phone number.\n",
    "\n",
    "Input example-1:\n",
    "\n",
    "phone_lists = [\n",
    "    '82123321123',\n",
    "    '082321123321',\n",
    "    '+6282-456-654-456',\n",
    "    '+62 82 789 987 789',\n",
    "    '14045',\n",
    "    '82145-451-145',\n",
    "    '829102394821'\n",
    "]\n",
    "\n",
    "phone_clean = clean_phone_number(phone_lists)\n",
    "print(phone_clean)\n",
    "Output example-1:\n",
    "\n",
    "[6282123321123, 6282321123321, 6282456654456, 6282789987789, 'Invalid number', 6282145451145, 'Invalid number']\n",
    "Input example-2:\n",
    "\n",
    "phone_lists = [\n",
    "    '82432234432',\n",
    "    '+62 82 32',\n",
    "    '14032',\n",
    "    '082 234 432 234'\n",
    "]\n",
    "\n",
    "phone_clean = clean_phone_number(phone_lists)\n",
    "print(phone_clean)\n",
    "Output example-2:\n",
    "\n",
    "[6282432234432, 'Invalid number', 'Invalid number', 6282234432234]"
   ]
  },
  {
   "cell_type": "code",
   "execution_count": 31,
   "metadata": {},
   "outputs": [],
   "source": [
    "def clean_phone_number(phone_list: list):\n",
    "    clean=[]\n",
    "    for i in phone_list:\n",
    "        if '+' in i:\n",
    "            i=i.replace('+',\"\")\n",
    "        if '-' in i:\n",
    "            i=i.replace('-',\"\")\n",
    "        if ' ' in i:\n",
    "            i=i.replace(' ','')\n",
    "        clean.append(i)\n",
    "    hasil=[]\n",
    "    for i in clean:\n",
    "        if i[:2]=='62':\n",
    "            if len(i)==13:\n",
    "                hasil.append(int(i))\n",
    "            else:\n",
    "                hasil.append(\"Invalid number\")\n",
    "        elif i[:2]=='82':\n",
    "            if len(i)==11:\n",
    "                hasil.append(int('62'+i))\n",
    "            else:\n",
    "                hasil.append(\"Invalid number\")\n",
    "        elif i[:2]=='08':\n",
    "            i=i[1:]\n",
    "            if len(i)==11:\n",
    "                hasil.append(int('62'+i))\n",
    "            else:\n",
    "                hasil.append(\"Invalid number\")\n",
    "        else:\n",
    "            hasil.append(\"Invalid number\")\n",
    "\n",
    "    return hasil"
   ]
  },
  {
   "cell_type": "code",
   "execution_count": 32,
   "metadata": {},
   "outputs": [
    {
     "name": "stdout",
     "output_type": "stream",
     "text": [
      "[6282123321123, 6282321123321, 6282456654456, 6282789987789, 'Invalid number', 6282145451145, 'Invalid number']\n"
     ]
    }
   ],
   "source": [
    "# Just run after you finish the function\n",
    "# Additionally, you can try filling in the expected inputs to validate your function is correct\n",
    "phone_list = [\n",
    "    '82123321123',\n",
    "    '082321123321',\n",
    "    '+6282-456-654-456',\n",
    "    '+62 82 789 987 789',\n",
    "    '14045',\n",
    "    '82145-451-145',\n",
    "    '829102394821'\n",
    "]\n",
    "\n",
    "phone_clean = clean_phone_number(phone_list)\n",
    "print(phone_clean)"
   ]
  },
  {
   "cell_type": "code",
   "execution_count": 33,
   "metadata": {},
   "outputs": [
    {
     "name": "stdout",
     "output_type": "stream",
     "text": [
      "[6282432234432, 'Invalid number', 'Invalid number', 6282234432234]\n"
     ]
    }
   ],
   "source": [
    "phone_lists = [\n",
    "    '82432234432',\n",
    "    '+62 82 32',\n",
    "    '14032',\n",
    "    '082 234 432 234'\n",
    "]\n",
    "phone_clean = clean_phone_number(phone_lists)\n",
    "print(phone_clean)\n"
   ]
  },
  {
   "attachments": {
    "image-2.png": {
     "image/png": "[encoded data removed]"
    },
    "image.png": {
     "image/png": "[encoded data removed]"
    }
   },
   "cell_type": "markdown",
   "metadata": {},
   "source": [
    "### Question 5\n",
    "Find the Nearest Tourism Object\n",
    "You are developing a web application that recommend good place to stay during holiday sessions.\n",
    "\n",
    "A feature loved by most of customer is finding the nearest tourism object from a position (could be their hotel).\n",
    "\n",
    "Given that each object/places has an location coordinates (x, y), you can calculate the distance of two objects by\n",
    "![image.png](attachment:image.png)\n",
    "Given a list of tourism object (tourism_name), tourism object coordinates (tourism_coor), and customer places coordinates (current_coor), return the nearest tourism object as a dict type.\n",
    "\n",
    "Example of calculating distance between two objects\n",
    "\n",
    "Say we want to calculate the distance between Taman C and Danau D\n",
    "Taman C location coordinate: [46.67, 40.44]\n",
    "Danau D location coordinate: [21.83, 1.94]\n",
    "So the distance is\n",
    "![image-2.png](attachment:image-2.png)\n",
    "\n",
    "\n",
    "\n"
   ]
  },
  {
   "cell_type": "markdown",
   "metadata": {},
   "source": [
    "Input example-1:\n",
    "\n",
    "current_coor = [-2.21, 3.15]\n",
    "tourism_coor = [\n",
    "    [-34.93, -31.23],\n",
    "    [-77.90, 79.90],\n",
    "    [46.67, 40.44],\n",
    "    [21.83, 1.94],\n",
    "    [41.77, -63.44],\n",
    "    [-1.10, -47.22],\n",
    "    [68.81, 64.65],\n",
    "    [-21.23, 22.03],\n",
    "    [68.30, -69.73],\n",
    "    [12.82, 30.75],\n",
    "]\n",
    "tourism_name = [\n",
    "    'Pantai A',\n",
    "    'Jembatan B',\n",
    "    'Taman C',\n",
    "    'Danau D',\n",
    "    'Perpustakaan E',\n",
    "    'Mall F',\n",
    "    'Monumen G',\n",
    "    'Taman Hutan H',\n",
    "    'Air terjun I',\n",
    "    'Gunung J'\n",
    "]\n",
    "\n",
    "nearest_object = find_nearest(current_coor, tourism_coor, tourism_name)\n",
    "print(nearest_object)\n",
    "Output example-1:\n",
    "\n",
    "{'object': 'Danau D', 'dist': 24.07043206924213}\n",
    "Input example-2:\n",
    "\n",
    "current_coor = [0, 0]\n",
    "tourism_coor = [\n",
    "    [0, 1],\n",
    "    [2, 0],\n",
    "    [0, 3],\n",
    "    [-1, -1],\n",
    "    [-2, -1],\n",
    "    [-1, -3]\n",
    "]\n",
    "tourism_name = [\n",
    "    'object a',\n",
    "    'object b',\n",
    "    'object c',\n",
    "    'object d',\n",
    "    'object e',\n",
    "    'object f'\n",
    "]\n",
    "\n",
    "nearest_object = find_nearest(current_coor, tourism_coor, tourism_name)\n",
    "print(nearest_object)\n",
    "Output example-2:\n",
    "\n",
    "{'object': 'object a', 'dist': 1.0}"
   ]
  },
  {
   "cell_type": "code",
   "execution_count": 51,
   "metadata": {},
   "outputs": [
    {
     "name": "stdout",
     "output_type": "stream",
     "text": [
      "{'object': 'Danau D', 'dist': 24.07043206924213}\n"
     ]
    }
   ],
   "source": [
    "# Function to find distance between 2 object\n",
    "def calc_dist(A: list, B: list) -> float:\n",
    "    hasil=[]\n",
    "    for i in B:\n",
    "        dist=(((i[0]-A[0])**2) + ((i[1]-A[1])**2))**0.5\n",
    "        hasil.append(dist)\n",
    "    return hasil\n",
    "    \n",
    "\n",
    "\n",
    "def find_nearest(current_coor: list, tourism_coor: list, tourism_name: list) -> dict:\n",
    "    hasil=calc_dist(current_coor,tourism_coor)\n",
    "    index_min=hasil.index(min(hasil))\n",
    "    distance=min(hasil)\n",
    "    turis_name=tourism_name[index_min]\n",
    "    dict_hasil={'object':turis_name,'dist':distance}\n",
    "    return dict_hasil\n",
    "    \n",
    "        \n",
    "\n",
    "# Just run after you finish the function\n",
    "# Additionally, you can try filling in the expected inputs to validate your function is correct\n",
    "tourism_name = [\n",
    "    'Pantai A',\n",
    "    'Jembatan B',\n",
    "    'Taman C',\n",
    "    'Danau D',\n",
    "    'Perpustakaan E',\n",
    "    'Mall F',\n",
    "    'Monumen G',\n",
    "    'Taman Hutan H',\n",
    "    'Air terjun I',\n",
    "    'Gunung J'\n",
    "]\n",
    "\n",
    "tourism_coor = [\n",
    "    [-34.93, -31.23],\n",
    "    [-77.90, 79.90],\n",
    "    [46.67, 40.44],\n",
    "    [21.83, 1.94],\n",
    "    [41.77, -63.44],\n",
    "    [-1.10, -47.22],\n",
    "    [68.81, 64.65],\n",
    "    [-21.23, 22.03],\n",
    "    [68.30, -69.73],\n",
    "    [12.82, 30.75],\n",
    "]\n",
    "\n",
    "current_coor = [-2.21, 3.15]\n",
    "\n",
    "nearest_object = find_nearest(current_coor, tourism_coor, tourism_name)\n",
    "print(nearest_object)"
   ]
  },
  {
   "cell_type": "markdown",
   "metadata": {},
   "source": []
  },
  {
   "cell_type": "markdown",
   "metadata": {},
   "source": [
    "### Question 6\n",
    "Find Size of People in Some Groups"
   ]
  },
  {
   "cell_type": "markdown",
   "metadata": {},
   "source": [
    "You are in a research team. Your product team asked you to help their research agenda, i.e. performing a Focus Group Discussion (FGD).\n",
    "\n",
    "The product team need to distribute the user equally to each group. Please help the product team.\n",
    "\n",
    "Your tasked is to divide \n",
    "n\n",
    "n people as equal as possible to \n",
    "k\n",
    "k groups."
   ]
  },
  {
   "cell_type": "code",
   "execution_count": 42,
   "metadata": {},
   "outputs": [],
   "source": [
    "def distribute_user(n: int, k: int) -> list:\n",
    "    '''\n",
    "    Function to distribute n user equally to k class\n",
    "\n",
    "    Parameters\n",
    "    ----------\n",
    "    n : int\n",
    "        The number of people to distribute\n",
    "\n",
    "    k : int\n",
    "        The number of group\n",
    "\n",
    "    Returns\n",
    "    -------\n",
    "    group_size : list\n",
    "        The list of group size (must be integer) and shape of (k)\n",
    "    '''\n",
    "    # your code here\n",
    "    jml_grub=n//k\n",
    "    sisa= n%k\n",
    "    hasil=[]\n",
    "    for i in range(0,k):\n",
    "        hasil.append(jml_grub)\n",
    "    if sisa > 0:\n",
    "        for i in range(0,sisa):\n",
    "            hasil[i]=hasil[i]+1\n",
    "    return hasil\n",
    "\n",
    "\n"
   ]
  },
  {
   "cell_type": "code",
   "execution_count": 47,
   "metadata": {},
   "outputs": [
    {
     "name": "stdout",
     "output_type": "stream",
     "text": [
      "[4, 3, 3]\n"
     ]
    }
   ],
   "source": [
    "# Just run after you finish the function\n",
    "# Additionally, you can try filling in the expected inputs to validate your function is correct\n",
    "n = 10\n",
    "k = 3\n",
    "\n",
    "group_size = distribute_user(n, k)\n",
    "print(group_size)"
   ]
  },
  {
   "cell_type": "markdown",
   "metadata": {},
   "source": [
    "### Question 7\n",
    "Summarize Data with OOP\n",
    "\n",
    "Write a Class that can summarize the given data\n",
    "\n",
    "Named the class with Data\n",
    "Initialize the object with no input\n",
    "Data has several attributes:\n",
    "data --> return the input data\n",
    "size --> return the size of the input data\n",
    "Data has several methods:\n",
    "read_data(data) --> to read the input data and create the data attributes (data and size)\n",
    "find_total() --> return the total sum of the input data\n",
    "find_average() --> return the average of the input data"
   ]
  },
  {
   "cell_type": "markdown",
   "metadata": {},
   "source": [
    "Input example-1:\n",
    "\n",
    "data = [0, 1, 2, 3, 4, 5, 6, 7, 8, 9]\n",
    "\n",
    "data_obj = Data()\n",
    "data_obj.read_data(data)\n",
    "print(data_obj.data)\n",
    "print(data_obj.size)\n",
    "print(data_obj.find_total())\n",
    "print(data_obj.find_average())\n",
    "Output example-1:\n",
    "\n",
    "[0, 1, 2, 3, 4, 5, 6, 7, 8, 9]\n",
    "10\n",
    "45\n",
    "4.5\n",
    "Input example-2:\n",
    "\n",
    "data = [-4, -3, -2, -1, 0, 1, 2, 3, 4, 5]\n",
    "\n",
    "data_obj = Data()\n",
    "data_obj.read_data(data)\n",
    "print(data_obj.data)\n",
    "print(data_obj.size)\n",
    "print(data_obj.find_total())\n",
    "print(data_obj.find_average())\n",
    "Output example-2:\n",
    "\n",
    "[-4, -3, -2, -1, 0, 1, 2, 3, 4, 5]\n",
    "10\n",
    "5\n",
    "0.5"
   ]
  },
  {
   "cell_type": "code",
   "execution_count": 52,
   "metadata": {},
   "outputs": [
    {
     "name": "stdout",
     "output_type": "stream",
     "text": [
      "[0, 1, 2, 3, 4, 5, 6, 7, 8, 9]\n",
      "10\n",
      "45\n",
      "4.5\n"
     ]
    }
   ],
   "source": [
    "class Data:\n",
    "    # your code here\n",
    "    def __init__(self,data):\n",
    "        self.data=(data)\n",
    "        self.size=len(data)\n",
    "    \n",
    "    def read_data(self):\n",
    "        return self.data\n",
    "    def find_total(self):\n",
    "        return sum(self.data)\n",
    "    def find_average(self):\n",
    "        return sum(self.data)/len(self.data)\n",
    "    \n",
    "\n",
    "\n",
    "# Just run after you finish the function\n",
    "# Additionally, you can try filling in the expected inputs to validate your function is correct\n",
    "data = [0, 1, 2, 3, 4, 5, 6, 7, 8, 9]\n",
    "\n",
    "try:\n",
    "    data_obj = Data(data)\n",
    "    data_obj.read_data()\n",
    "\n",
    "    print(data_obj.data)\n",
    "    print(data_obj.size)\n",
    "    print(data_obj.find_total())\n",
    "    print(data_obj.find_average())\n",
    "except Exception as e:\n",
    "    print('There is something wrong')\n"
   ]
  },
  {
   "cell_type": "markdown",
   "metadata": {},
   "source": [
    "### Question 8\n",
    "User with Double Promo\n",
    "You are on a marketing team. Your team have 2 types of promo, promo A and promo B, that user can get only one of them.\n",
    "\n",
    "You suspect that there are some users have double promo. Given a user_ID, promo_A_status, and promo_B_status, create a function that return user_ID whose have double promo."
   ]
  },
  {
   "cell_type": "markdown",
   "metadata": {},
   "source": [
    "Input example-1:\n",
    "\n",
    "user_ID = ['01', '02', '03', '04', '05', '06', '07']\n",
    "promo_A_status = [1, 0, 0, 1, 1, 0, 1]\n",
    "promo_B_status = [0, 0, 1, 1, 0, 1, 1]\n",
    "\n",
    "double_ID = find_double_promo(user_ID, promo_A_status, promo_B_status)\n",
    "print(double_ID)\n",
    "\n",
    "Output example-1:\n",
    "\n",
    "['04', '07']\n",
    "\n",
    "Input example-2:\n",
    "\n",
    "user_ID = ['a', 'b', 'c', 'd', 'e']\n",
    "promo_A_status = [1, 1, 1, 1, 1]\n",
    "promo_B_status = [0, 1, 1, 1, 1]\n",
    "\n",
    "double_ID = find_double_promo(user_ID, promo_A_status, promo_B_status)\n",
    "print(double_ID)\n",
    "Output example-2:\n",
    "\n",
    "['b', 'c', 'd', 'e']\n",
    "\n",
    "Input example-3:\n",
    "\n",
    "user_ID = ['a4a', '23b', 'f4c', '5d6']\n",
    "promo_A_status = [0, 0, 1, 0]\n",
    "promo_B_status = [0, 0, 1, 1]\n",
    "\n",
    "double_ID = find_double_promo(user_ID, promo_A_status, promo_B_status)\n",
    "print(double_ID)\n",
    "Output example-3:\n",
    "\n",
    "['f4c']"
   ]
  },
  {
   "cell_type": "code",
   "execution_count": 53,
   "metadata": {},
   "outputs": [
    {
     "name": "stdout",
     "output_type": "stream",
     "text": [
      "['04', '07']\n"
     ]
    }
   ],
   "source": [
    "def find_double_promo(user_ID: list, promo_A_status: list, promo_B_status: list) -> list:\n",
    "    # your code here\n",
    "    hasil=[]\n",
    "    for i in range(0,len(user_ID)):\n",
    "        if promo_A_status[i]==1 and promo_B_status[i]==1:\n",
    "            hasil.append(user_ID[i])\n",
    "            \n",
    "    return hasil\n",
    "\n",
    "\n",
    "# Just run after you finish the function\n",
    "# Additionally, you can try filling in the expected inputs to validate your function is correct\n",
    "user_ID = ['01', '02', '03', '04', '05', '06', '07']\n",
    "promo_A_status = [1, 0, 0, 1, 1, 0, 1]\n",
    "promo_B_status = [0, 0, 1, 1, 0, 1, 1]\n",
    "\n",
    "double_ID = find_double_promo(user_ID, promo_A_status, promo_B_status)\n",
    "print(double_ID)"
   ]
  },
  {
   "cell_type": "markdown",
   "metadata": {},
   "source": [
    "### Question 9\n",
    "Find Duplicate Person in a Research\n",
    "The marketing team & sales want to make sure that there is no duplicate person in the data.\n",
    "\n",
    "Given a list of people ID & its name, find people ID & names that has similar names.\n",
    "\n",
    "Hint and assumptions:\n",
    "\n",
    "You should normalize the name first, e.g. lowered it or strip the unnecessary spaces.\n",
    "For example, we consider 'Cahya', 'cahya ', and ' CAHYa ' has similar names."
   ]
  },
  {
   "cell_type": "markdown",
   "metadata": {},
   "source": [
    "Input example-1:\n",
    "\n",
    "people_ID = ['01', '02', '03', '04', '05', '06', '07']\n",
    "people_name = [\n",
    "    'Budi santoso',\n",
    "    'Pramono Setiadi',\n",
    "    'Rijal',\n",
    "    'Dedi setiawan',\n",
    "    'rijal',\n",
    "    'Alesha Nur',\n",
    "    'Dedi Setiawan'\n",
    "]\n",
    "\n",
    "people_duplicate = find_duplicates(people_ID, people_name)\n",
    "print(people_duplicate)\n",
    "Output example-1:\n",
    "\n",
    "[['03', 'Rijal'], ['04', 'Dedi setiawan'], ['05', 'rijal'], ['07', 'Dedi Setiawan']]\n",
    "Input example-2:\n",
    "\n",
    "people_ID = ['1e', 'd2', '3b', 'a4', 'q5']\n",
    "people_name = [\n",
    "    'aa cahya',\n",
    "    'AA cahYa',\n",
    "    'bb durian',\n",
    "    'cc maANGGa',\n",
    "    'AA CAHYA ',\n",
    "]\n",
    "\n",
    "people_duplicate = find_duplicates(people_ID, people_name)\n",
    "print(people_duplicate)\n",
    "Output example-2:\n",
    "\n",
    "[['1e', 'aa cahya'], ['d2', 'AA cahYa'], ['q5', 'AA CAHYA ']]\n",
    "Language\n",
    "\n",
    "\n",
    "Python\n",
    "Next Question\n",
    "Script\n",
    "\n",
    "  \n",
    "Test Case Failed\n",
    "\n",
    "Output\n",
    "\n",
    "[]\n",
    "Traceback (most recent call last):\n",
    "  File \"key.py\", line 54, in <module>\n",
    "    raise ValueError(f'Beda hasil output pada {test_case}')\n"
   ]
  },
  {
   "cell_type": "code",
   "execution_count": 54,
   "metadata": {},
   "outputs": [
    {
     "name": "stdout",
     "output_type": "stream",
     "text": [
      "[]\n"
     ]
    }
   ],
   "source": [
    "def find_duplicates(people_ID: list, people_name: list) -> list:\n",
    "    # your code here\n",
    "    dup=[]\n",
    "    for i in people_name:\n",
    "        i=i.lower()\n",
    "        i=i.strip()\n",
    "        if i in dup:\n",
    "            dup.append(i)\n",
    "    return dup\n",
    "            \n",
    "\n",
    "\n",
    "# Just run after you finish the function\n",
    "# Additionally, you can try filling in the expected inputs to validate your function is correct\n",
    "people_ID = ['01', '02', '03', '04', '05', '06', '07']\n",
    "people_name = [\n",
    "    'Budi santoso',\n",
    "    'Pramono Setiadi',\n",
    "    'Rijal',\n",
    "    'Dedi setiawan',\n",
    "    'rijal',\n",
    "    'Alesha Nur',\n",
    "    'Dedi Setiawan'\n",
    "]\n",
    "\n",
    "people_duplicate = find_duplicates(people_ID, people_name)\n",
    "print(people_duplicate)"
   ]
  },
  {
   "attachments": {
    "image-2.png": {
     "image/png": "[encoded data removed]"
    },
    "image-3.png": {
     "image/png": "[encoded data removed]"
    },
    "image.png": {
     "image/png": "[encoded data removed]"
    }
   },
   "cell_type": "markdown",
   "metadata": {},
   "source": [
    "### Question 10\n",
    "Time to Transport Logistic\n",
    "You are a data analyst in a transport logistic. You need to recommend the logistic driver a set of route so that they can deliver the goods efficiently.\n",
    "\n",
    "Simply, you can create a function to calculate time needed for the driver to follow several set of routes from an initial position and comeback again.\n",
    "\n",
    "We already have a look-up table that shows the duration needed for moving between two locations\n",
    "\n",
    "Durations Table\n",
    "![image.png](attachment:image.png)\n",
    "Say, you want to know the duration of city B to city E,\n",
    "\n",
    "First, B is the starting point, so go to row B\n",
    "![image-2.png](attachment:image-2.png)\n",
    "\n",
    "Then, E is the destination, so from the selected row, go to column E\n",
    "![image-3.png](attachment:image-3.png)\n",
    "\n",
    "Finally, the duration needed to go from B to E is 9\n",
    "\n",
    "To calculate it easily in Python, we turn the duration table into this list\n",
    "\n",
    "duration_table = [\n",
    "    [0, 3, 5, 10, 4],\n",
    "    [3, 0, 6, 8, 9],\n",
    "    [5, 6, 0, 7, 2],\n",
    "    [10, 8, 7, 0, 1],\n",
    "    [4, 9, 2, 1, 0]\n",
    "]\n",
    "\n",
    "Say you want to measure duration from city B to E, then the duration would be duration_table[1][4] or duration_table[4][1]\n"
   ]
  },
  {
   "cell_type": "markdown",
   "metadata": {},
   "source": [
    "Input example-1:\n",
    "\n",
    "duration_table = [\n",
    "    [0, 3, 5, 10, 4],\n",
    "    [3, 0, 6, 8, 9],\n",
    "    [5, 6, 0, 7, 2],\n",
    "    [10, 8, 7, 0, 1],\n",
    "    [4, 9, 2, 1, 0]\n",
    "]\n",
    "route = 'ABCDEBE'\n",
    "\n",
    "total_time = calculate_duration(route, duration_table)\n",
    "print(total_time)\n",
    "Output example-1:\n",
    "\n",
    "39\n",
    "Input example-2:\n",
    "\n",
    "duration_table = [\n",
    "    [0, 1, 2, 3],\n",
    "    [1, 0, 4, 5],\n",
    "    [2, 4, 0, 6],\n",
    "    [3, 5, 6, 0]\n",
    "]\n",
    "route = 'ABCDCDBAB'\n",
    "\n",
    "total_time = calculate_duration(route, duration_table)\n",
    "print(total_time)\n",
    "Output example-2:\n",
    "\n",
    "31"
   ]
  },
  {
   "cell_type": "markdown",
   "metadata": {},
   "source": []
  }
 ],
 "metadata": {
  "kernelspec": {
   "display_name": "base",
   "language": "python",
   "name": "python3"
  },
  "language_info": {
   "codemirror_mode": {
    "name": "ipython",
    "version": 3
   },
   "file_extension": ".py",
   "mimetype": "text/x-python",
   "name": "python",
   "nbconvert_exporter": "python",
   "pygments_lexer": "ipython3",
   "version": "3.9.13"
  }
 },
 "nbformat": 4,
 "nbformat_minor": 2
}

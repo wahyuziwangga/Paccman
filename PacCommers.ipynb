{
 "cells": [
  {
   "cell_type": "code",
   "execution_count": 55,
   "metadata": {},
   "outputs": [],
   "source": [
    "from tabulate import tabulate\n",
    "from numpy import sqrt\n"
   ]
  },
  {
   "cell_type": "code",
   "execution_count": 127,
   "metadata": {},
   "outputs": [],
   "source": [
    "class membership_user:\n",
    "    def __init__(self,username,monthly_expense,monthly_income):\n",
    "        self.username=username\n",
    "        self.monthly_expense=monthly_expense\n",
    "        self.monthly_income=monthly_income\n",
    "\n",
    "    def show_benefit(self):\n",
    "        membership={\"Membership\":['Platinum','Gold','Silver'],'Discount':['15%','10%','8%'],'Another Benefit':['Benefit Silver + Gold + Voucher Liburan + Cashback max 30 %','Benefit Silver + Voucher ojek online','Voucher makanan']}\n",
    "        print(tabulate(membership,headers='keys'))\n",
    "\n",
    "    def show_requirements(self):\n",
    "        predict_Member={'Membership':['Platinum','Gold','Silver'],'Monthly Expense(juta)':[8,6,5],'Monthly Income (Juta)':[15,10,7]}\n",
    "        print(tabulate(predict_Member,headers='keys'))\n",
    "\n",
    "    def predict_membership(self,monthly_expense,monthly_income):\n",
    "        platinum_member=sqrt(((monthly_expense-predict_Member['Monthly Expense(juta)'][0])**2)+((monthly_income-predict_Member['Monthly Income (Juta)'][0])**2))\n",
    "        gold_member=sqrt(((monthly_expense-predict_Member['Monthly Expense(juta)'][1])**2)+((monthly_income-predict_Member['Monthly Income (Juta)'][1])**2))\n",
    "        silver_member=sqrt(((monthly_expense-predict_Member['Monthly Expense(juta)'][2])**2)+((monthly_income-predict_Member['Monthly Income (Juta)'][2])**2))\n",
    "        predict_mem=min([platinum_member,gold_member,silver_member])\n",
    "        if predict_mem==platinum_member:\n",
    "            hasil_prediksi='Platinum Member'\n",
    "        elif predict_mem==gold_member:\n",
    "            hasil_prediksi='Gold Member'\n",
    "        elif predict_mem==silver_member:\n",
    "            hasil_prediksi='Silver Member'\n",
    "        print(f'{platinum_member} , {gold_member} , {silver_member}')\n",
    "        print(f'Hasil prediksi adalah : {hasil_prediksi}')\n",
    "\n",
    "    def calculate_price(self,member,harga_barang):\n",
    "        Total_harga=sum(harga_barang)\n",
    "        if member=='Platinum':\n",
    "            final_price=Total_harga-(Total_harga*0.15)\n",
    "        elif member=='Gold':\n",
    "            final_price=Total_harga-(Total_harga*0.1)\n",
    "        elif member=='Silver':\n",
    "            final_price=Total_harga-(Total_harga*0.08)\n",
    "        print(f'Total Harga yang harus dibayarkan untuk membership {member} adalah : {final_price}')\n",
    "        \n",
    "\n"
   ]
  },
  {
   "cell_type": "code",
   "execution_count": 128,
   "metadata": {},
   "outputs": [],
   "source": [
    "user1=membership_user('wahyu123',8_000_000,20_000_000)"
   ]
  },
  {
   "cell_type": "code",
   "execution_count": 129,
   "metadata": {},
   "outputs": [
    {
     "name": "stdout",
     "output_type": "stream",
     "text": [
      "wahyu123\n",
      "8000000\n",
      "20000000\n"
     ]
    }
   ],
   "source": [
    "\n",
    "print(user1.username)\n",
    "print(user1.monthly_expense)\n",
    "print(user1.monthly_income)\n"
   ]
  },
  {
   "cell_type": "code",
   "execution_count": 130,
   "metadata": {},
   "outputs": [
    {
     "name": "stdout",
     "output_type": "stream",
     "text": [
      "Membership    Discount    Another Benefit\n",
      "------------  ----------  -----------------------------------------------------------\n",
      "Platinum      15%         Benefit Silver + Gold + Voucher Liburan + Cashback max 30 %\n",
      "Gold          10%         Benefit Silver + Voucher ojek online\n",
      "Silver        8%          Voucher makanan\n"
     ]
    }
   ],
   "source": [
    "user1.show_benefit()"
   ]
  },
  {
   "cell_type": "code",
   "execution_count": 131,
   "metadata": {},
   "outputs": [
    {
     "name": "stdout",
     "output_type": "stream",
     "text": [
      "Membership      Monthly Expense(juta)    Monthly Income (Juta)\n",
      "------------  -----------------------  -----------------------\n",
      "Platinum                            8                       15\n",
      "Gold                                6                       10\n",
      "Silver                              5                        7\n"
     ]
    }
   ],
   "source": [
    "user1.show_requirements()"
   ]
  },
  {
   "cell_type": "code",
   "execution_count": 132,
   "metadata": {},
   "outputs": [
    {
     "name": "stdout",
     "output_type": "stream",
     "text": [
      "206.6131651178114 , 211.98113123577767 , 215.11392330576837\n",
      "Hasil prediksi adalah : Platinum Member\n"
     ]
    }
   ],
   "source": [
    "user1.predict_membership(100,200)"
   ]
  },
  {
   "cell_type": "code",
   "execution_count": 133,
   "metadata": {},
   "outputs": [
    {
     "name": "stdout",
     "output_type": "stream",
     "text": [
      "8.54400374531753 , 3.1622776601683795 , 0.0\n",
      "Hasil prediksi adalah : Silver Member\n"
     ]
    }
   ],
   "source": [
    "user1.predict_membership(5,7)"
   ]
  },
  {
   "cell_type": "code",
   "execution_count": 134,
   "metadata": {},
   "outputs": [
    {
     "name": "stdout",
     "output_type": "stream",
     "text": [
      "Total Harga yang harus dibayarkan untuk membership Silver adalah : 2760.0\n"
     ]
    }
   ],
   "source": [
    "user1.calculate_price('Silver',[1000,1000,1000])"
   ]
  },
  {
   "cell_type": "code",
   "execution_count": 10,
   "metadata": {},
   "outputs": [
    {
     "name": "stdout",
     "output_type": "stream",
     "text": [
      "Total Harga yang harus dibayarkan untuk membership Gold adalah : 2700.0\n"
     ]
    }
   ],
   "source": [
    "user1.calculate_price('Gold',[1000,1000,1000])"
   ]
  },
  {
   "cell_type": "code",
   "execution_count": null,
   "metadata": {},
   "outputs": [],
   "source": []
  }
 ],
 "metadata": {
  "kernelspec": {
   "display_name": "base",
   "language": "python",
   "name": "python3"
  },
  "language_info": {
   "codemirror_mode": {
    "name": "ipython",
    "version": 3
   },
   "file_extension": ".py",
   "mimetype": "text/x-python",
   "name": "python",
   "nbconvert_exporter": "python",
   "pygments_lexer": "ipython3",
   "version": "3.9.13"
  }
 },
 "nbformat": 4,
 "nbformat_minor": 2
}

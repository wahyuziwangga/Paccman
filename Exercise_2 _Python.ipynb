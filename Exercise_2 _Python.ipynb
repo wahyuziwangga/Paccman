{
 "cells": [
  {
   "cell_type": "markdown",
   "metadata": {
    "id": "Dlz3iy7U1xQ4"
   },
   "source": [
    "# **Exercise 2 Python**\n",
    "\n",
    "Introduction to Software & Data Engineering with Python - Sekolah Engineering - Pacmann Academy\n",
    "\n",
    "Materi yang diujikan pada exercise ini adalah\n",
    "1. Composite Data Structure\n",
    "2. Looping\n",
    "3. Function I\n",
    "4. Function II"
   ]
  },
  {
   "cell_type": "markdown",
   "metadata": {
    "id": "0_sy8h25I6Ss"
   },
   "source": [
    "# **Composite Data Structure**"
   ]
  },
  {
   "cell_type": "markdown",
   "metadata": {
    "id": "6WSvqCaMW7iB"
   },
   "source": [
    "### 1"
   ]
  },
  {
   "cell_type": "markdown",
   "metadata": {
    "id": "fY_TzcThXjpK"
   },
   "source": [
    "Daftar nilai ujian sebuah kelas adalah sebagai berikut\n",
    "\n",
    "`nilai = 80, 65, 70, 90, 60, 90, 90, 85, 80, 70, 75, 65, 80, 90, 65, 90` "
   ]
  },
  {
   "cell_type": "markdown",
   "metadata": {
    "id": "5-r7x98vY6_a"
   },
   "source": [
    "##### **1A**"
   ]
  },
  {
   "cell_type": "markdown",
   "metadata": {
    "id": "BYe4CmNyYNhQ"
   },
   "source": [
    "Buatlah sebuah list untuk menampung nilai ujian tersebut. Kemudian hitunglah jumlah murid dan carilah nilai tertinggi dan terendah"
   ]
  },
  {
   "cell_type": "code",
   "execution_count": 2,
   "metadata": {
    "colab": {
     "base_uri": "https://localhost:8080/"
    },
    "executionInfo": {
     "elapsed": 2,
     "status": "ok",
     "timestamp": 1666673771271,
     "user": {
      "displayName": "Muhammad Hussein",
      "userId": "06835340007986123836"
     },
     "user_tz": -420
    },
    "id": "OOc_NkMSW5Kh",
    "outputId": "d99ee3d1-5e0a-4051-d979-37c58bc81eb5"
   },
   "outputs": [
    {
     "name": "stdout",
     "output_type": "stream",
     "text": [
      "jumlah siswa 16\n",
      "nilai tertinggi 90\n",
      "nilai terendah 60\n"
     ]
    }
   ],
   "source": [
    "# buat list yang menampung nilai ujian\n",
    "nilai=[80, 65, 70, 90, 60, 90, 90, 85, 80, 70, 75, 65, 80, 90, 65, 90]\n",
    "\n",
    "# Hitung jumlah murid di kelas tersebut\n",
    "jumlah_murid=len(nilai)\n",
    "\n",
    "# print jumlah siswa di dalam kelas\n",
    "print(f'jumlah siswa {jumlah_murid}')\n",
    "\n",
    "# buat variabel dan print nilai tertinggi\n",
    "nilai_tertinggi=max(nilai)\n",
    "print(f\"nilai tertinggi {nilai_tertinggi}\")\n",
    "\n",
    "# buat variabel dan print nilai terendah\n",
    "nilai_terendah=min(nilai)\n",
    "print(f\"nilai terendah {nilai_terendah}\")"
   ]
  },
  {
   "cell_type": "markdown",
   "metadata": {
    "id": "epvdVKeyZbiY"
   },
   "source": [
    "##### **1B**"
   ]
  },
  {
   "cell_type": "markdown",
   "metadata": {
    "id": "clExnnloazTf"
   },
   "source": [
    "Jika siswa memiliki nilai yang kurang dari rata-rata maka siswa harus ujian ulang. Berapakah jumlah siswa yang memiliki nilai dibawah rata-rata\n",
    "\n",
    "\n",
    "```\n",
    "Keterangan:\n",
    "- Bulatkan nilai rata-rata dua nilai dibelakang koma\n",
    "- gunakan list comprehension untuk nilai yang kurang dari rata-rata\n",
    "```\n",
    "\n"
   ]
  },
  {
   "cell_type": "code",
   "execution_count": 7,
   "metadata": {
    "colab": {
     "base_uri": "https://localhost:8080/"
    },
    "executionInfo": {
     "elapsed": 1,
     "status": "ok",
     "timestamp": 1666673773562,
     "user": {
      "displayName": "Muhammad Hussein",
      "userId": "06835340007986123836"
     },
     "user_tz": -420
    },
    "id": "8UfCpN0Da_3m",
    "outputId": "9d9dd2b0-8d9d-4ca5-a004-dc2b63c953d4"
   },
   "outputs": [
    {
     "name": "stdout",
     "output_type": "stream",
     "text": [
      "nilai rata rata adalah 77.8125\n",
      "[65, 70, 60, 70, 75, 65, 65]\n",
      "nilai kurang ada 7 yaitu [65, 70, 60, 70, 75, 65, 65]\n"
     ]
    }
   ],
   "source": [
    "# hitunglah dan print nilai rata-rata ujian\n",
    "avrg=sum(nilai)/len(nilai)\n",
    "print(f\"nilai rata rata adalah {avrg}\")\n",
    "\n",
    "# cari dan print nilai siswa yang kurang dari rata-rata dengan list comprehension\n",
    "'''nilai_kurang=[]\n",
    "for i in nilai:\n",
    "    if i < avrg:\n",
    "        print(i)\n",
    "        nilai_kurang.append(i)'''\n",
    "\n",
    "nilai_kurang=[ i for i in nilai if i < avrg]\n",
    "print(nilai_kurang)\n",
    "\n",
    "# hitung dan print jumlah nilai yang kurang dari rata-rata\n",
    "print(f\"nilai kurang ada {len(nilai_kurang)} yaitu {nilai_kurang}\")\n"
   ]
  },
  {
   "cell_type": "markdown",
   "metadata": {
    "id": "eCyOfjLBfKaX"
   },
   "source": [
    "#### **1C**"
   ]
  },
  {
   "cell_type": "markdown",
   "metadata": {
    "id": "saN9e0XjfM3p"
   },
   "source": [
    "Hitunglah prosentase siswa yang lulus dan siswa yang tidak lulus ujian.\n"
   ]
  },
  {
   "cell_type": "code",
   "execution_count": 14,
   "metadata": {
    "colab": {
     "base_uri": "https://localhost:8080/"
    },
    "executionInfo": {
     "elapsed": 2,
     "status": "ok",
     "timestamp": 1666673875128,
     "user": {
      "displayName": "Muhammad Hussein",
      "userId": "06835340007986123836"
     },
     "user_tz": -420
    },
    "id": "m-szftFXa_6q",
    "outputId": "638e3605-a6e3-4acb-b3ed-7b90a943cd18"
   },
   "outputs": [
    {
     "name": "stdout",
     "output_type": "stream",
     "text": [
      "presentase siswa yang lulus ujian adalah = 56.25 %\n",
      "presentase siswa yang tidak lulus ujian adalah = 43.75 %\n"
     ]
    }
   ],
   "source": [
    "# buat variabel dahulu untuk menampung jumlah siswa yang lulus\n",
    "siswa_lulus=[i for i in nilai if i >= avrg]\n",
    "\n",
    "# hitung prosentase siswa yang lulus\n",
    "presentase_lulus=len(siswa_lulus)*100/jumlah_murid\n",
    "\n",
    "# print prosentase siswa lulus ujian, bulatkan dua angka dibelakang koma\n",
    "print('presentase siswa yang lulus ujian adalah = %.2f %%' %(presentase_lulus))\n",
    "\n",
    "# hitung prosentase siswa yang tidak lulus\n",
    "presentase_tidak_lulus=len(nilai_kurang)*100/jumlah_murid\n",
    "\n",
    "# print prosentase siswa yang tidak lulus\n",
    "print('presentase siswa yang tidak lulus ujian adalah = %.2f %%' %(presentase_tidak_lulus))"
   ]
  },
  {
   "cell_type": "markdown",
   "metadata": {
    "id": "02VGxe-Fu0VE"
   },
   "source": [
    "---"
   ]
  },
  {
   "cell_type": "markdown",
   "metadata": {
    "id": "fLRE7Si1EFIj"
   },
   "source": [
    "### **2**"
   ]
  },
  {
   "cell_type": "markdown",
   "metadata": {
    "id": "otpRbBoFn7ng"
   },
   "source": [
    "Penjualan suatu produk pestisida selama tiga bulan dari tiga jenis produk disimpan di dalam data berikut.\n",
    "\n",
    "|Bulan|Produk 1|Produk 2|Produk 3|\n",
    "|-|-|-|-|\n",
    "|Bulan 1|40|45|39|\n",
    "|Bulan 2|48|50|43|\n",
    "|Bulan 3|45|48|45|\n",
    "\n",
    "Angka pada data di atas menunjukkan jumlah produk yang terjual"
   ]
  },
  {
   "cell_type": "markdown",
   "metadata": {
    "id": "eHdD7kiHpUel"
   },
   "source": [
    "#### **2A**"
   ]
  },
  {
   "cell_type": "markdown",
   "metadata": {
    "id": "sBJAiNQVpYxl"
   },
   "source": [
    "Buatlah sebuah tuple of tuple yang menyimpan seluruh data penjualan produk tersebut per bulan. Simpan hanya angkanya saja.\n",
    "\n",
    "\n",
    "```\n",
    "Keterangan:\n",
    "- Struktur tuple\n",
    "  - my_tuple = ((jumlah_produk_bulan_1, jumlah_produk_bulan_2, jumlah_produk_bulan_3), ...)\n",
    "```\n",
    "\n"
   ]
  },
  {
   "cell_type": "code",
   "execution_count": 2,
   "metadata": {
    "colab": {
     "base_uri": "https://localhost:8080/"
    },
    "executionInfo": {
     "elapsed": 2,
     "status": "ok",
     "timestamp": 1666743545987,
     "user": {
      "displayName": "Muhammad Hussein",
      "userId": "06835340007986123836"
     },
     "user_tz": -420
    },
    "id": "urnhMcpFEHJ0",
    "outputId": "068329b0-0e2b-48d3-ded5-d771b5613a29"
   },
   "outputs": [
    {
     "name": "stdout",
     "output_type": "stream",
     "text": [
      "((40, 45, 39), (48, 50, 43), (45, 48, 45))\n"
     ]
    }
   ],
   "source": [
    "# definisikan sebuah tuple\n",
    "my_tuple=((40,45,39),(48,50,43),(45,48,45))\n",
    "\n",
    "# tampilkan tuple tersebut\n",
    "print(my_tuple)"
   ]
  },
  {
   "cell_type": "markdown",
   "metadata": {
    "id": "DdkHBWKEp7i7"
   },
   "source": [
    "#### **2B**"
   ]
  },
  {
   "cell_type": "markdown",
   "metadata": {
    "id": "4TYZEg0NqZi2"
   },
   "source": [
    "Carilah rata-rata penjualan setiap bulan dari ketiga produk tersebut.\n",
    "\n",
    "\n",
    "\n",
    "```\n",
    "Keterangan:\n",
    "- bulatkan hasil penjualan menjadi bilangan bulat\n",
    "```\n",
    "\n"
   ]
  },
  {
   "cell_type": "code",
   "execution_count": 3,
   "metadata": {
    "colab": {
     "base_uri": "https://localhost:8080/"
    },
    "executionInfo": {
     "elapsed": 3,
     "status": "ok",
     "timestamp": 1666744930757,
     "user": {
      "displayName": "Muhammad Hussein",
      "userId": "06835340007986123836"
     },
     "user_tz": -420
    },
    "id": "pv6Uv71pqpmq",
    "outputId": "5ecf79dc-91b5-4759-9ba2-c318e31eab6f"
   },
   "outputs": [
    {
     "name": "stdout",
     "output_type": "stream",
     "text": [
      "rata2 penjualan bulan1 41\n",
      "rata2 penjualan bulan2 47\n",
      "rata2 penjualan bulan3 46\n"
     ]
    }
   ],
   "source": [
    "# gunakan variabel dari soal 2A\n",
    "\n",
    "#hitung dan tampilkan rata-rata penjualan bulan 1\n",
    "avg_bulan1=int(sum(my_tuple[0])/len(my_tuple[0]))\n",
    "print(f\"rata2 penjualan bulan1 {avg_bulan1}\")\n",
    "\n",
    "# hitung dan tampilkan rata-rata penjualan bulan 2\n",
    "avg_bulan2=int(sum(my_tuple[1])/len(my_tuple[1]))\n",
    "print(f\"rata2 penjualan bulan2 {avg_bulan2}\")\n",
    "\n",
    "# hitung dan tampilkan rata-rata penjualan bulan 3\n",
    "avg_bulan3=int(sum(my_tuple[2])/len(my_tuple[2]))\n",
    "print(f\"rata2 penjualan bulan3 {avg_bulan3}\")"
   ]
  },
  {
   "cell_type": "markdown",
   "metadata": {
    "id": "cdgylz0NvZj5"
   },
   "source": [
    "#### **2C**"
   ]
  },
  {
   "cell_type": "markdown",
   "metadata": {
    "id": "RnWzGTq_0VNR"
   },
   "source": [
    "Cari rata-rata penjualan setiap produk selama tiga bulan. Gunakan variabel tuple dari soal 2A.\n",
    "\n",
    "\n",
    "\n",
    "```\n",
    "Keterangan:\n",
    " - untuk akses tuple of tuple gunakan indeks ganda\n",
    " - misalkan ada tuple my_tupe = ((1, 2, 3), (4, 5, 6))\n",
    " - misalkan ambil angka 2\n",
    "    - my_tuple[0][1]\n",
    " - indexing pertama untuk mengambil index tuple terluar\n",
    " - indexing kedua untuk mengambil nilai yang ada di dalam\n",
    "\n",
    "```\n",
    "\n"
   ]
  },
  {
   "cell_type": "code",
   "execution_count": 6,
   "metadata": {
    "colab": {
     "base_uri": "https://localhost:8080/"
    },
    "executionInfo": {
     "elapsed": 1,
     "status": "ok",
     "timestamp": 1666746581528,
     "user": {
      "displayName": "Muhammad Hussein",
      "userId": "06835340007986123836"
     },
     "user_tz": -420
    },
    "id": "6Oz9B679qJ1X",
    "outputId": "b6700fae-f6b8-4e77-bd0d-c90a5b6379cf"
   },
   "outputs": [
    {
     "name": "stdout",
     "output_type": "stream",
     "text": [
      "103.0\n",
      "111.0\n",
      "97.0\n"
     ]
    }
   ],
   "source": [
    "# Gunakan variabel yang sudah didefinisikan pada soal 2A\n",
    "\n",
    "# hitung dan print rata-rata penjualan produk 1 selama tiga bulan\n",
    "rata2_produk1=my_tuple[0][0]+my_tuple[1][0]+my_tuple[2][0]/len(my_tuple)\n",
    "print(rata2_produk1)\n",
    "\n",
    "# hitung dan print rata-rata penjualan produk 2 selama tiga bulan\n",
    "rata2_produk2=my_tuple[0][1]+my_tuple[1][1]+my_tuple[2][1]/len(my_tuple)\n",
    "print(rata2_produk2)\n",
    "\n",
    "# hitung dan print rata-rata penjualan produk 3 selama tiga bulan\n",
    "rata2_produk3=my_tuple[0][2]+my_tuple[1][2]+my_tuple[2][2]/len(my_tuple)\n",
    "print(rata2_produk3)"
   ]
  },
  {
   "cell_type": "markdown",
   "metadata": {
    "id": "I5JnKECl2dw7"
   },
   "source": [
    "### **3**"
   ]
  },
  {
   "cell_type": "markdown",
   "metadata": {
    "id": "Rtey2MJbJpoF"
   },
   "source": [
    "Lembaga scouting dari sebuah club sepak bola sedang mencari talent muda untuk club mereka. Ada 5 pemain yang masuk incaran, data pemain tersebut sebagai berikut.\n",
    "\n",
    "|Nama Pemain|Fisik|Mental|Teknik|Menyerang|Bertahan|Posisi|\n",
    "|-|-|-|-|-|-|-|\n",
    "|Erling Haaland|89|90|75|95|60|Striker\n",
    "|Christopher Nkunku|76|78|80|82|65|Sayap Kiri\n",
    "|Rafael Leao|86|83|85|90|55|Sayap Kiri\n",
    "|Kevin De Bruyne|82|80|89|88|68|Gelandang Serang\n",
    "|Vinicius Junior|85|80|85|90|55|Sayap Kiri\n",
    "\n",
    "\n"
   ]
  },
  {
   "cell_type": "markdown",
   "metadata": {
    "id": "xyOAc0Op_e5_"
   },
   "source": [
    "#### **3A**"
   ]
  },
  {
   "cell_type": "markdown",
   "metadata": {
    "id": "xJKzqdYS_lj5"
   },
   "source": [
    "Buatlah sebuah dictionary untuk menyimpan data pemain berikut\n"
   ]
  },
  {
   "cell_type": "code",
   "execution_count": 2,
   "metadata": {
    "colab": {
     "base_uri": "https://localhost:8080/"
    },
    "executionInfo": {
     "elapsed": 2,
     "status": "ok",
     "timestamp": 1666749791454,
     "user": {
      "displayName": "Muhammad Hussein",
      "userId": "06835340007986123836"
     },
     "user_tz": -420
    },
    "id": "ktbNiVXy1Ts5",
    "outputId": "dc1f569d-16a1-4d64-a8da-6d6983e6c837"
   },
   "outputs": [
    {
     "name": "stdout",
     "output_type": "stream",
     "text": [
      "{'erling haaland': [89, 90, 75, 95, 60, 'striker'], 'Christopher Nkunku': [76, 78, 80, 82, 65, 'sayap kiri'], 'Rafael Leao': [86, 83, 85, 90, 55, 'Sayap Kiri'], 'kevin de bruyne': [82, 80, 89, 88, 68, 'Gelandang Serang'], 'Vinicius Junior': [85, 80, 85, 90, 55, 'Sayap Kiri']}\n"
     ]
    }
   ],
   "source": [
    "# definisikan sebuah dictionary\n",
    "pemain={'erling haaland':[89,90,75,95,60,'striker'],'Christopher Nkunku':[76,78,80,82,65,'sayap kiri'],'Rafael Leao':[86,83,85,90,55,'Sayap Kiri'],'kevin de bruyne':[82,80,89,88,68,'Gelandang Serang'],'Vinicius Junior':[85,80,85,90,55,'Sayap Kiri']}\n",
    "# print dictionary tersebut\n",
    "print(pemain)"
   ]
  },
  {
   "cell_type": "markdown",
   "metadata": {
    "id": "72-11WVACAVn"
   },
   "source": [
    "#### **3B**"
   ]
  },
  {
   "cell_type": "markdown",
   "metadata": {
    "id": "ZzY7yRjaCGr9"
   },
   "source": [
    "Hitunglah rata-rata kemampuan masing-masing pemain.\n",
    "\n",
    "\n",
    "```\n",
    "Keterangan\n",
    " - Untuk akses kemampuan pemain gunakan nama_dict[Nama_pemain][kemampuan]\n",
    "```\n",
    "\n"
   ]
  },
  {
   "cell_type": "code",
   "execution_count": 3,
   "metadata": {
    "colab": {
     "base_uri": "https://localhost:8080/"
    },
    "executionInfo": {
     "elapsed": 531,
     "status": "ok",
     "timestamp": 1666750473850,
     "user": {
      "displayName": "Muhammad Hussein",
      "userId": "06835340007986123836"
     },
     "user_tz": -420
    },
    "id": "16IDYK19_4oK",
    "outputId": "dbaca5ad-0d69-40eb-8ff8-a569f5cd4c43"
   },
   "outputs": [
    {
     "name": "stdout",
     "output_type": "stream",
     "text": [
      "81.8\n",
      "76.2\n",
      "79.8\n",
      "81.4\n",
      "79.0\n"
     ]
    }
   ],
   "source": [
    "# hitung dan print rata-rata kemampuan Erling Haaland\n",
    "rata2_haland=sum(pemain['erling haaland'][:-1])/len(pemain['erling haaland'][:-1])\n",
    "print(rata2_haland)\n",
    "#hitung dan print rata-rata kemampuan Christopher Nkunku\n",
    "rata2_cris=sum(pemain['Christopher Nkunku'][:-1])/len(pemain['Christopher Nkunku'][:-1])\n",
    "print(rata2_cris)\n",
    "\n",
    "# hitung dan print rata-rata kemampuan Rafael Leao\n",
    "rata2_rafa=sum(pemain['Rafael Leao'][:-1])/len(pemain['Rafael Leao'][:-1])\n",
    "print(rata2_rafa)\n",
    "\n",
    "# hitung dan print rata-rata kemampuan Kevin De Bruyne\n",
    "rata2_kevin=sum(pemain['kevin de bruyne'][:-1])/len(pemain['kevin de bruyne'][:-1])\n",
    "print(rata2_kevin)\n",
    "\n",
    "# hitung dan print rata-rata kemampuan Vinicius Junior\n",
    "rata2_vini=sum(pemain['Vinicius Junior'][:-1])/len(pemain['Vinicius Junior'][:-1])\n",
    "print(rata2_vini)"
   ]
  },
  {
   "cell_type": "markdown",
   "metadata": {
    "id": "mJ-wlWqxEyLZ"
   },
   "source": [
    "#### **3C**"
   ]
  },
  {
   "cell_type": "markdown",
   "metadata": {
    "id": "U_bGCO3jE4Fe"
   },
   "source": [
    "Jika dilihat dari rata-rata kemampuan pemain, Christopher Nkunku dan Vinicius Junior merupakan dua yang terendah. Hapus Nkunku dan Vinicius dari dictionary pemain.\n",
    "\n",
    "\n",
    "```\n",
    "Keterangan:\n",
    " - gunakan method pop()\n",
    "```\n",
    "\n"
   ]
  },
  {
   "cell_type": "code",
   "execution_count": 4,
   "metadata": {
    "colab": {
     "base_uri": "https://localhost:8080/"
    },
    "executionInfo": {
     "elapsed": 2,
     "status": "ok",
     "timestamp": 1666751910101,
     "user": {
      "displayName": "Muhammad Hussein",
      "userId": "06835340007986123836"
     },
     "user_tz": -420
    },
    "id": "aou2IJtYH2pZ",
    "outputId": "c40e6cb1-fdcc-4e2b-8f80-fe28d6436406"
   },
   "outputs": [
    {
     "data": {
      "text/plain": [
       "{'erling haaland': [89, 90, 75, 95, 60, 'striker'],\n",
       " 'Rafael Leao': [86, 83, 85, 90, 55, 'Sayap Kiri'],\n",
       " 'kevin de bruyne': [82, 80, 89, 88, 68, 'Gelandang Serang']}"
      ]
     },
     "execution_count": 4,
     "metadata": {},
     "output_type": "execute_result"
    }
   ],
   "source": [
    "# hapus nkunku dari dictionary pemain\n",
    "pemain.pop('Christopher Nkunku')\n",
    "\n",
    "\n",
    "# hapus vinicius dari distionary pemain\n",
    "\n",
    "pemain.pop('Vinicius Junior')\n",
    "#  tampilkan dictionary pemain yang baru\n",
    "pemain"
   ]
  },
  {
   "cell_type": "markdown",
   "metadata": {
    "id": "UIV8ip6tKRYJ"
   },
   "source": [
    "#### **3D**"
   ]
  },
  {
   "cell_type": "markdown",
   "metadata": {
    "id": "ETgDZpdiKWpJ"
   },
   "source": [
    "Tersisa tiga pemain yaitu, Erling Haaland, Rafael Leao dan Kevin De Bruyne.\n",
    "Jika tim scouting sepak bola tersebut sedang mencari penyerang dengan kemampuan **menyerang** terbaik maka siapakah yang akan di ambil ?\n",
    "\n",
    "\n",
    "```\n",
    "Keterangan: \n",
    "- struktur list\n",
    "  - [[kemampuan_menyerang, nama_pemain], ...]\n",
    "- gunakan method max()\n",
    "```\n",
    "\n"
   ]
  },
  {
   "cell_type": "code",
   "execution_count": 17,
   "metadata": {
    "colab": {
     "base_uri": "https://localhost:8080/"
    },
    "executionInfo": {
     "elapsed": 2,
     "status": "ok",
     "timestamp": 1666753412411,
     "user": {
      "displayName": "Muhammad Hussein",
      "userId": "06835340007986123836"
     },
     "user_tz": -420
    },
    "id": "GLdk-eJeKU_-",
    "outputId": "191613a4-92ba-4146-b638-ad320ed9ee0e"
   },
   "outputs": [
    {
     "name": "stdout",
     "output_type": "stream",
     "text": [
      "penyerang terbaik adalah erling haaland dengan skor 95\n"
     ]
    }
   ],
   "source": [
    "# buatlah sebuah list dahulu yang menampung kemampuan menyerang tiap pemain\n",
    "# gunakan variabel dari 3A\n",
    "penyerang=[['erling haaland',pemain['erling haaland'][3]],['Rafael Leao',pemain['Rafael Leao'][3]],['kevin de bruyne',pemain['kevin de bruyne'][3]]]\n",
    "best_penyerang=[penyerang[0][1],penyerang[1][1],penyerang[2][1]]\n",
    "\n",
    "# kemudian cari dan print pemain dengan kemampuan menyerang terbaik\n",
    "for i in penyerang:\n",
    "    if i[1]==max(best_penyerang):\n",
    "        print(f\"penyerang terbaik adalah {i[0]} dengan skor {i[1]}\")"
   ]
  },
  {
   "cell_type": "markdown",
   "metadata": {
    "id": "rPHUvQ2JPuqF"
   },
   "source": [
    "###**4**"
   ]
  },
  {
   "cell_type": "markdown",
   "metadata": {
    "id": "vuwXxynIPv81"
   },
   "source": [
    "Pak Banu dan Pak Rozi akan bekerja sama dalam berjualan toko buah. Sebelumnya mereka juga sudah mempunyai toko buah, namun karena alasan tertentu mereka memutuskan untuk bekerja sama. Data buah yag di jual Pak Banu dan Pak Rozi adalah sebagai berikut\n",
    "\n",
    "```\n",
    "Pak Banu = Jeruk, Apel, Semangka, Rambutan, Pepaya, Kelengkeng, Alpukat, Sirsat\n",
    "Pak Rozi = Pisang, Melon, Salak, Mangga, Jeruk, Pepaya, Kelengkeng, Srikaya\n",
    "```\n",
    "\n",
    "\n",
    "\n"
   ]
  },
  {
   "cell_type": "markdown",
   "metadata": {
    "id": "iyOFtQvJUH0h"
   },
   "source": [
    "#### **4A**"
   ]
  },
  {
   "cell_type": "markdown",
   "metadata": {
    "id": "MkbsvVhIUmDK"
   },
   "source": [
    "Buatlah sebuah set untuk menampung buah yang di jual oleh masing-masing penjual"
   ]
  },
  {
   "cell_type": "code",
   "execution_count": 43,
   "metadata": {
    "colab": {
     "base_uri": "https://localhost:8080/"
    },
    "executionInfo": {
     "elapsed": 2,
     "status": "ok",
     "timestamp": 1666754910794,
     "user": {
      "displayName": "Muhammad Hussein",
      "userId": "06835340007986123836"
     },
     "user_tz": -420
    },
    "id": "bVIsXWiEPvie",
    "outputId": "a31a4345-d101-41ae-f79c-0569112b11ef"
   },
   "outputs": [
    {
     "name": "stdout",
     "output_type": "stream",
     "text": [
      "{'semangka', 'kelengkeng', 'pepaya', 'apel', 'sirsat', 'jeruk'}\n",
      "{'kelengkeng', 'melon', 'salak', 'pisang', 'pepaya', 'jeruk'}\n"
     ]
    }
   ],
   "source": [
    "# definisikan sebuah set untuk pak banu\n",
    "pak_banu={'jeruk','apel','semangka','pepaya','kelengkeng','sirsat'}\n",
    "\n",
    "# definisikan sebuah set untuk pak rozi\n",
    "pak_rozi={'pisang','melon','salak','pepaya','kelengkeng','jeruk'}\n",
    "\n",
    "# print masing-masing set tersebut\n",
    "print(pak_banu)\n",
    "print(pak_rozi)"
   ]
  },
  {
   "cell_type": "markdown",
   "metadata": {
    "id": "2k3GyNEEXA_a"
   },
   "source": [
    "#### **4B**\n",
    "\n",
    "Gabungkan buah yang dijual Pak Banu dan Pak Rozi\n",
    "\n",
    "\n",
    "```\n",
    "Keterangan:\n",
    "- gunakan method union()\n",
    "```\n",
    "\n"
   ]
  },
  {
   "cell_type": "code",
   "execution_count": 46,
   "metadata": {
    "colab": {
     "base_uri": "https://localhost:8080/"
    },
    "executionInfo": {
     "elapsed": 2,
     "status": "ok",
     "timestamp": 1666755742203,
     "user": {
      "displayName": "Muhammad Hussein",
      "userId": "06835340007986123836"
     },
     "user_tz": -420
    },
    "id": "fObiZqrNW5A_",
    "outputId": "2e54e008-9059-4bd2-9d16-2ac899735943"
   },
   "outputs": [
    {
     "name": "stdout",
     "output_type": "stream",
     "text": [
      "{'semangka', 'kelengkeng', 'melon', 'salak', 'pisang', 'pepaya', 'apel', 'sirsat', 'jeruk'}\n"
     ]
    }
   ],
   "source": [
    "# definisikan variabel dan gabungkan buah yang dijual\n",
    "buah1=pak_banu.union(pak_rozi)\n",
    "# tampilkan gabungan buah yang dijual\n",
    "print(buah)"
   ]
  },
  {
   "cell_type": "markdown",
   "metadata": {
    "id": "UuJ4353BVAvM"
   },
   "source": [
    "#### **4C**"
   ]
  },
  {
   "cell_type": "markdown",
   "metadata": {
    "id": "O2YZDQ4uVgUl"
   },
   "source": [
    "Untuk mempermudah stok ulang buah carilah buah yang sebelumnya sama-sama dijual oleh Pak Banu dan Pak Rozi\n",
    "\n",
    "```\n",
    "Keterangan:\n",
    "- gunakan method intersection()\n",
    "```"
   ]
  },
  {
   "cell_type": "code",
   "execution_count": 47,
   "metadata": {
    "colab": {
     "base_uri": "https://localhost:8080/"
    },
    "executionInfo": {
     "elapsed": 2,
     "status": "ok",
     "timestamp": 1666755925712,
     "user": {
      "displayName": "Muhammad Hussein",
      "userId": "06835340007986123836"
     },
     "user_tz": -420
    },
    "id": "N6G01KdDVCsR",
    "outputId": "a98b5545-5ce1-42d2-a637-fd8530fa6ff8"
   },
   "outputs": [
    {
     "name": "stdout",
     "output_type": "stream",
     "text": [
      "{'pepaya', 'kelengkeng', 'jeruk'}\n"
     ]
    }
   ],
   "source": [
    "# defisinikan variabel dan cari persamaan buah yang dijual\n",
    "buah2=pak_banu.intersection(pak_rozi)\n",
    "\n",
    "# tampilkan buah yang sama antara Pak Banu dan Pak Rozi\n",
    "print(buah2)"
   ]
  },
  {
   "cell_type": "markdown",
   "metadata": {
    "id": "kdDcY_4MJsID"
   },
   "source": [
    "# **Looping**"
   ]
  },
  {
   "cell_type": "markdown",
   "metadata": {
    "id": "fA4ezN8DzEKY"
   },
   "source": [
    "### **1**\n"
   ]
  },
  {
   "cell_type": "markdown",
   "metadata": {
    "id": "D4b8fUcx02Dr"
   },
   "source": [
    "Pada sebuah puskesmas sedang mengadakan vaksinasi dan memberikan nomor antrian sepanjang 200 orang kepada masyarakat yang ingin vaksin. Untuk **mempercepat** proses vaksinasi puskesmas tersebut **membagi** menjadi empat antrian."
   ]
  },
  {
   "cell_type": "markdown",
   "metadata": {
    "id": "v5PXRZr52D6-"
   },
   "source": [
    "#### **1A**"
   ]
  },
  {
   "cell_type": "markdown",
   "metadata": {
    "id": "kUqdZJm72cdp"
   },
   "source": [
    "Untuk nomor antrian kurang dari 100 dibagi berdasarkan bilangan genap dan ganjil. Buatlah urutan bilangan genap dan ganjil menggunakan for loop."
   ]
  },
  {
   "cell_type": "code",
   "execution_count": 19,
   "metadata": {
    "colab": {
     "base_uri": "https://localhost:8080/"
    },
    "executionInfo": {
     "elapsed": 2,
     "status": "ok",
     "timestamp": 1666763926779,
     "user": {
      "displayName": "Muhammad Hussein",
      "userId": "06835340007986123836"
     },
     "user_tz": -420
    },
    "id": "wzUc8INjylqu",
    "outputId": "f5f40d13-ccb5-44dc-c9da-7eac665d446b"
   },
   "outputs": [
    {
     "name": "stdout",
     "output_type": "stream",
     "text": [
      "[0, 2, 4, 6, 8, 10, 12, 14, 16, 18, 20, 22, 24, 26, 28, 30, 32, 34, 36, 38, 40, 42, 44, 46, 48, 50, 52, 54, 56, 58, 60, 62, 64, 66, 68, 70, 72, 74, 76, 78, 80, 82, 84, 86, 88, 90, 92, 94, 96, 98, 100]\n",
      "[1, 3, 5, 7, 9, 11, 13, 15, 17, 19, 21, 23, 25, 27, 29, 31, 33, 35, 37, 39, 41, 43, 45, 47, 49, 51, 53, 55, 57, 59, 61, 63, 65, 67, 69, 71, 73, 75, 77, 79, 81, 83, 85, 87, 89, 91, 93, 95, 97, 99]\n"
     ]
    }
   ],
   "source": [
    "# buat dua empty list untuk menampung deret ganjil dan genap\n",
    "genap=[i for i in range(0,101) if i%2==0]\n",
    "ganjil=[i for i in range(0,101) if i%2!=0]\n",
    "\n",
    "# cari bilangan ganjil dan genap dengan for loop dan if else\n",
    "# gunakan append untuk menambahkan bilangan ke list\n",
    "...\n",
    "\n",
    "# print kedua deret tersebut\n",
    "print(genap)\n",
    "print(ganjil)"
   ]
  },
  {
   "cell_type": "markdown",
   "metadata": {
    "id": "F7ObcNdX368E"
   },
   "source": [
    "#### **1B**"
   ]
  },
  {
   "cell_type": "markdown",
   "metadata": {
    "id": "CGU_AqR-4fSq"
   },
   "source": [
    "Untuk nomor urut 101 sampai 200 dibagi berdasarkan nomor urut\n",
    " \n",
    " - `Nomor 101 - 125 dan 151 - 175`\n",
    " - `Nomor 126 - 150 dan 175 - 200`\n",
    "\n",
    "Buatlah deret yang menampung dua kondisi tersebut"
   ]
  },
  {
   "cell_type": "code",
   "execution_count": 20,
   "metadata": {
    "colab": {
     "base_uri": "https://localhost:8080/"
    },
    "executionInfo": {
     "elapsed": 2,
     "status": "ok",
     "timestamp": 1666764868774,
     "user": {
      "displayName": "Muhammad Hussein",
      "userId": "06835340007986123836"
     },
     "user_tz": -420
    },
    "id": "V5wcbJfF3Cwt",
    "outputId": "abcbce84-b9f8-4579-e75b-3fb19e590a1a"
   },
   "outputs": [
    {
     "name": "stdout",
     "output_type": "stream",
     "text": [
      "[101, 102, 103, 104, 105, 106, 107, 108, 109, 110, 111, 112, 113, 114, 115, 116, 117, 118, 119, 120, 121, 122, 123, 124, 125, 151, 152, 153, 154, 155, 156, 157, 158, 159, 160, 161, 162, 163, 164, 165, 166, 167, 168, 169, 170, 171, 172, 173, 174, 175]\n",
      "[126, 127, 128, 129, 130, 131, 132, 133, 134, 135, 136, 137, 138, 139, 140, 141, 142, 143, 144, 145, 146, 147, 148, 149, 150, 175, 176, 177, 178, 179, 180, 181, 182, 183, 184, 185, 186, 187, 188, 189, 190, 191, 192, 193, 194, 195, 196, 197, 198, 199, 200]\n"
     ]
    }
   ],
   "source": [
    "# definisikan dua list untuk menampung dua kondisi pada soal\n",
    "urut1=[i for i in range(101,176) if i <=125 or i >=151]\n",
    "urut2=[i for i in range(126,201) if i <=150 or i >=175]\n",
    "\n",
    "# cari deret bilangan dengan for loop dan if else\n",
    "# gunakan append untuk menambahkan bilangan ke list\n",
    "...\n",
    "  \n",
    "# print kedua deret tersebut\n",
    "print(urut1)\n",
    "print(urut2)"
   ]
  },
  {
   "cell_type": "markdown",
   "metadata": {
    "id": "XRJebMlN8V5T"
   },
   "source": [
    "### **2**"
   ]
  },
  {
   "cell_type": "markdown",
   "metadata": {
    "id": "jaFK0GTI8o9m"
   },
   "source": [
    "Armada Angkutan Bus Setya Jaya mengeluh karena ada kenaikan harga BBM. Tarif angkutan sebelum kenaikan BBM bisa dilihat pada tabel biaya perjalanan dibawah\n",
    "\n",
    "|Jurusan | Biaya per Orang | Biaya Pelajar|\n",
    "|-|-|-|\n",
    "|Terminal A ke Terminal B | 5.000| 2.500|\n",
    "|Terminal A ke Terminal C | 10.000 | 4.000|\n",
    "|Terminal A ke Terminal D | 15.000 | 7.000|\n",
    "\n",
    "\n",
    "Untuk mengimbangi pengeluaran dan pendapatan para pengusaha angkutan sepakat untuk menaikkan harga."
   ]
  },
  {
   "cell_type": "markdown",
   "metadata": {
    "id": "Wm1esLHKA3lo"
   },
   "source": [
    "#### **2A**"
   ]
  },
  {
   "cell_type": "markdown",
   "metadata": {
    "id": "4gBdET50A8cQ"
   },
   "source": [
    "Buatlah list yang menampung biaya per orang dan biaya pelajar"
   ]
  },
  {
   "cell_type": "code",
   "execution_count": 22,
   "metadata": {
    "colab": {
     "base_uri": "https://localhost:8080/"
    },
    "executionInfo": {
     "elapsed": 2,
     "status": "ok",
     "timestamp": 1666767700182,
     "user": {
      "displayName": "Muhammad Hussein",
      "userId": "06835340007986123836"
     },
     "user_tz": -420
    },
    "id": "Qj0ThSIz8Xpi",
    "outputId": "7644bc6f-c41e-40cc-c5b0-17aad474fa3e"
   },
   "outputs": [
    {
     "name": "stdout",
     "output_type": "stream",
     "text": [
      "[5000, 10000, 15000]\n",
      "[2500, 4000, 7000]\n"
     ]
    }
   ],
   "source": [
    "# definisikan dua list yang menampung biaya per orang dan biaya pelajar\n",
    "biaya_per_orang=[5000,10000,15000]\n",
    "biaya_per_pelajar=[2500,4000,7000]\n",
    "\n",
    "# print kedua list tersebut\n",
    "print(biaya_per_orang)\n",
    "print(biaya_per_pelajar)"
   ]
  },
  {
   "cell_type": "markdown",
   "metadata": {
    "id": "sqXc_PqmClXF"
   },
   "source": [
    "#### **2B**"
   ]
  },
  {
   "cell_type": "markdown",
   "metadata": {
    "id": "h9C6J_7GCqFG"
   },
   "source": [
    "Jika **biaya per orang** naik 5.000 rupiah pada semua jurusan terminal, berapa tarif per orang sekarang. Hitung dengan menggunakan **while loop**"
   ]
  },
  {
   "cell_type": "code",
   "execution_count": 23,
   "metadata": {
    "colab": {
     "base_uri": "https://localhost:8080/"
    },
    "executionInfo": {
     "elapsed": 2,
     "status": "ok",
     "timestamp": 1666767700683,
     "user": {
      "displayName": "Muhammad Hussein",
      "userId": "06835340007986123836"
     },
     "user_tz": -420
    },
    "id": "csc-cDcQCWFe",
    "outputId": "eaea0e0e-1f26-4e2f-dfcf-e3c500969b54"
   },
   "outputs": [
    {
     "name": "stdout",
     "output_type": "stream",
     "text": [
      "[10000, 15000, 20000]\n"
     ]
    }
   ],
   "source": [
    "# gunakan list yang sudah didefinisikan dari soal 2A\n",
    "\n",
    "# buat variabel untuk menghentikan while\n",
    "\n",
    "\n",
    "# hitung tarif baru dengan while\n",
    "count=0\n",
    "while count < len(biaya_per_orang):\n",
    "    biaya_per_orang[count]=biaya_per_orang[count]+5000\n",
    "    count+=1\n",
    "# tampilkan list tarif penumpang yang baru\n",
    "print(biaya_per_orang)"
   ]
  },
  {
   "cell_type": "markdown",
   "metadata": {
    "id": "p1AOW5F4Fxa4"
   },
   "source": [
    "#### **2C**"
   ]
  },
  {
   "cell_type": "markdown",
   "metadata": {
    "id": "h1GAb2P2Fxa8"
   },
   "source": [
    "Jika tarif penumpang **Pelajar** naik 2.000 rupiah pada semua jurusan terminal, berapa tarif pelajar sekarang ? Hitung menggunakan while loop"
   ]
  },
  {
   "cell_type": "code",
   "execution_count": 24,
   "metadata": {
    "colab": {
     "base_uri": "https://localhost:8080/"
    },
    "executionInfo": {
     "elapsed": 489,
     "status": "ok",
     "timestamp": 1666767703022,
     "user": {
      "displayName": "Muhammad Hussein",
      "userId": "06835340007986123836"
     },
     "user_tz": -420
    },
    "id": "1JFfBX6GFxa9",
    "outputId": "5e699069-c3d2-4c46-9905-c5d92dbc771b"
   },
   "outputs": [
    {
     "name": "stdout",
     "output_type": "stream",
     "text": [
      "[4500, 6000, 9000]\n"
     ]
    }
   ],
   "source": [
    "# gunakan list yang sudah didefinisikan dari soal 2A\n",
    "\n",
    "# buat variabel untuk menghentikan while\n",
    "count=0\n",
    "\n",
    "\n",
    "# hitung tarif baru dengan while\n",
    "while count < len(biaya_per_pelajar):\n",
    "    biaya_per_pelajar[count]=biaya_per_pelajar[count]+2000\n",
    "    count+=1\n",
    "\n",
    "# tampilkan list tarif penumpang pelajar yang baru\n",
    "print(biaya_per_pelajar)"
   ]
  },
  {
   "cell_type": "markdown",
   "metadata": {
    "id": "54_VDRUGHfhk"
   },
   "source": [
    "### **3**"
   ]
  },
  {
   "cell_type": "markdown",
   "metadata": {
    "id": "Ak1n2S0XPvJ2"
   },
   "source": [
    "Lembaga scouting dari sebuah club sepak bola sedang mencari talent muda berbakat untuk club mereka. Ada 5 pemain yang masuk incaran, data pemain tersebut sebagai berikut.\n",
    "\n",
    "|Nama Pemain|Fisik|Mental|Teknik|Menyerang|Bertahan|\n",
    "|-|-|-|-|-|-|\n",
    "|Erling Haaland|89|90|75|95|60|\n",
    "|Christopher Nkunku|76|78|80|82|65|\n",
    "|Rafael Leao|86|83|85|90|55|\n",
    "|Kevin De Bruyne|82|80|89|88|68|\n",
    "|Vinicius Junior|85|80|85|90|55|"
   ]
  },
  {
   "cell_type": "markdown",
   "metadata": {
    "id": "dm-2ZFB0P4Te"
   },
   "source": [
    "#### **3A**"
   ]
  },
  {
   "cell_type": "markdown",
   "metadata": {
    "id": "9UvlymTzQU1s"
   },
   "source": [
    "Buatlah dictionary untuk menyimpan data pemain berikut\n",
    "\n",
    "\n",
    "```\n",
    "Keterangan:\n",
    "- Struktur dictionary\n",
    "  - dict = {nama_pemain:{kemampuan_1:nilai, kemampuan_2:nilai, ...}, ...}\n",
    "```\n",
    "\n"
   ]
  },
  {
   "cell_type": "code",
   "execution_count": 1,
   "metadata": {
    "colab": {
     "base_uri": "https://localhost:8080/"
    },
    "executionInfo": {
     "elapsed": 2,
     "status": "ok",
     "timestamp": 1666774961229,
     "user": {
      "displayName": "Muhammad Hussein",
      "userId": "06835340007986123836"
     },
     "user_tz": -420
    },
    "id": "FSfv5J6VPt6A",
    "outputId": "46b4a00c-5cd9-4eb8-fa66-bfeba5ecaf35"
   },
   "outputs": [
    {
     "name": "stdout",
     "output_type": "stream",
     "text": [
      "{'Erling Haaland': {'Fisik': 89, 'Mental': 90, 'Teknik': 75, 'Menyerang': 95, 'Bertahan': 60}, 'Christopher Nkunku': {'Fisik': 76, 'Mental': 78, 'Teknik': 80, 'Menyerang': 82, 'Bertahan': 65}, 'Rafael Leao': {'Fisik': 86, 'Mental': 83, 'Teknik': 85, 'Menyerang': 90, 'Bertahan': 55}, 'Kevin De Bruyne': {'Fisik': 82, 'Mental': 80, 'Teknik': 89, 'Menyerang': 88, 'Bertahan': 68}, 'Vinicius Junior': {'Fisik': 85, 'Mental': 80, 'Teknik': 85, 'Menyerang': 90, 'Bertahan': 55}}\n"
     ]
    }
   ],
   "source": [
    "# definisikan sebuah dictionary\n",
    "dict_pemain={'Erling Haaland':{'Fisik':89,'Mental':90,'Teknik':75,'Menyerang':95,'Bertahan':60},'Christopher Nkunku':{'Fisik':76,'Mental':78,'Teknik':80,'Menyerang':82,'Bertahan':65},'Rafael Leao':{'Fisik':86,'Mental':83,'Teknik':85,'Menyerang':90,'Bertahan':55},'Kevin De Bruyne':{'Fisik':82,'Mental':80,'Teknik':89,'Menyerang':88,'Bertahan':68},'Vinicius Junior':{'Fisik':85,'Mental':80,'Teknik':85,'Menyerang':90,'Bertahan':55}}\n",
    "# print dictionary tersebut\n",
    "print(dict_pemain)"
   ]
  },
  {
   "cell_type": "markdown",
   "metadata": {
    "id": "IDMvCJF6RMJ-"
   },
   "source": [
    "#### **3B**"
   ]
  },
  {
   "cell_type": "markdown",
   "metadata": {
    "id": "WQmY9KVuRP0Z"
   },
   "source": [
    "Club membutuhkan pemain bola dengan mental yang bagus. Jika ada pemain dengan **mental** lebih kecil dari **80** keluarkan dari data scouting."
   ]
  },
  {
   "cell_type": "code",
   "execution_count": 9,
   "metadata": {
    "colab": {
     "base_uri": "https://localhost:8080/"
    },
    "executionInfo": {
     "elapsed": 1,
     "status": "ok",
     "timestamp": 1666774961715,
     "user": {
      "displayName": "Muhammad Hussein",
      "userId": "06835340007986123836"
     },
     "user_tz": -420
    },
    "id": "-2M-QJjiRJ0l",
    "outputId": "7f7f6603-7852-4d30-ef88-4e5401223e94"
   },
   "outputs": [
    {
     "name": "stdout",
     "output_type": "stream",
     "text": [
      "['Erling Haaland', 'Rafael Leao', 'Kevin De Bruyne', 'Vinicius Junior']\n"
     ]
    }
   ],
   "source": [
    "# untuk menghindari eror pada saat loop, gunakan method copy untuk menyalin dictionary pada variabel yang baru\n",
    "# buat nama variabel dahulu kemudian copy dictionary yang sudah dibuat sebelumnya\n",
    "mental_pemain=dict_pemain.copy()\n",
    "# gunakan for dan if else untuk menyeleksi pemain\n",
    "# jika pemain masuk memenuhi syarat pakai \"continue\"\n",
    "# jika tidak memenuhi syarat, langsung keluarkan dari dict, pakai method pop()\n",
    "for i in dict_pemain.keys():\n",
    "    if dict_pemain[i]['Mental']>=80:\n",
    "        continue\n",
    "    else:\n",
    "        mental_pemain.pop(i)\n",
    "\n",
    "\n",
    "\n",
    "# gunakan list comprehension untuk menampilkan pemain yang tersisa\n",
    "# buat variabel baru dahulu untuk menyimpan hasil list comprehension\n",
    "lst_mental_pemain=[i for i in mental_pemain.keys()]\n",
    "print(lst_mental_pemain)\n"
   ]
  },
  {
   "cell_type": "markdown",
   "metadata": {
    "id": "5DPBJvSLUZOs"
   },
   "source": [
    "#### **3C**\n"
   ]
  },
  {
   "cell_type": "markdown",
   "metadata": {
    "id": "dER7vHsRUvGA"
   },
   "source": [
    "Pengamat Sepak Bola menyarankan untuk langsung mengambil pemain dengan kemampuan **menyerang** lebih dari **92**. Namun pihak scouting masih mempertimbangkan hal lain. Untuk itu pihak scouting hanya akan melihat adakah pemain dengan kemampuan lebih dari **92**."
   ]
  },
  {
   "cell_type": "code",
   "execution_count": 12,
   "metadata": {
    "colab": {
     "base_uri": "https://localhost:8080/"
    },
    "executionInfo": {
     "elapsed": 483,
     "status": "ok",
     "timestamp": 1666774964687,
     "user": {
      "displayName": "Muhammad Hussein",
      "userId": "06835340007986123836"
     },
     "user_tz": -420
    },
    "id": "VyilZ6EPTP7A",
    "outputId": "6232a1c8-2313-4141-a72d-20fd92e3d3d0"
   },
   "outputs": [
    {
     "name": "stdout",
     "output_type": "stream",
     "text": [
      " Pemain dengan kemampuan menyerang lebih dari sama dengan 92 : Erling Haaland\n"
     ]
    }
   ],
   "source": [
    "# gunakan cara yang sama agar saat loop dictionary tidak eror yaitu menyalin dictionary ke variabel baru\n",
    "# bedakan nama variabel copy dengan yang sebelumnya\n",
    "penyerang_pemain=dict_pemain.copy()\n",
    "\n",
    "# pakai for loop dan if else untuk mencari pemain dengan kemampuan menyerang lebih dari 92\n",
    "# pakai pass jika menemukan pemain dengan kondisi tersebut\n",
    "for i in dict_pemain.keys():\n",
    "    if dict_pemain[i]['Menyerang']>=92:\n",
    "        continue\n",
    "    else:\n",
    "        penyerang_pemain.pop(i)\n",
    "\n",
    "lst_penyerang_pemain=[i for i in penyerang_pemain.keys()]\n",
    "print(f\" Pemain dengan kemampuan menyerang lebih dari sama dengan 92 : {lst_penyerang_pemain[0]}\")\n",
    "    "
   ]
  },
  {
   "cell_type": "markdown",
   "metadata": {
    "id": "eecLLhoycOUG"
   },
   "source": [
    "#### **3D**"
   ]
  },
  {
   "cell_type": "markdown",
   "metadata": {
    "id": "Acfj1CLpcRL8"
   },
   "source": [
    "Pelatih membutuhkan pemain dengan **teknik** lebih dari **85** dan **fisik** lebih dari sama dengan **84**.\n",
    "Jika ada pemain yang tidak memenuhi syarat tersebut langsung keluarkan dari data scouting."
   ]
  },
  {
   "cell_type": "code",
   "execution_count": 17,
   "metadata": {
    "colab": {
     "base_uri": "https://localhost:8080/"
    },
    "executionInfo": {
     "elapsed": 484,
     "status": "ok",
     "timestamp": 1666774975935,
     "user": {
      "displayName": "Muhammad Hussein",
      "userId": "06835340007986123836"
     },
     "user_tz": -420
    },
    "id": "bX6aVKcLYZkp",
    "outputId": "82abaeeb-9543-451f-bfc9-5a31d80d6397"
   },
   "outputs": [
    {
     "name": "stdout",
     "output_type": "stream",
     "text": [
      "{'Rafael Leao': {'Fisik': 86, 'Mental': 83, 'Teknik': 85, 'Menyerang': 90, 'Bertahan': 55}, 'Vinicius Junior': {'Fisik': 85, 'Mental': 80, 'Teknik': 85, 'Menyerang': 90, 'Bertahan': 55}}\n"
     ]
    }
   ],
   "source": [
    "# gunakan cara yang sama agar saat loop dictionary tidak eror yaitu menyalin dictionary ke variabel baru\n",
    "# bedakan nama variabel copy dengan yang lain\n",
    "teknik_fisik=dict_pemain.copy()\n",
    "\n",
    "\n",
    "# gunakan for dan if else untuk menyeleksi pemain\n",
    "# jika pemain masuk memenuhi syarat pakai \"continue\"\n",
    "# jika tidak memenuhi syarat, langsung keluarkan dari dict, pakai method pop()\n",
    "for i in dict_pemain.keys():\n",
    "    if dict_pemain[i]['Teknik']>=85 and dict_pemain[i]['Fisik']>=84:\n",
    "        continue\n",
    "    else:\n",
    "        teknik_fisik.pop(i)\n",
    "\n",
    "lst_teknik_fisik=[i for i in teknik_fisik.keys()]\n",
    "print(teknik_fisik)"
   ]
  },
  {
   "cell_type": "markdown",
   "metadata": {
    "id": "5i1tSt98f4XB"
   },
   "source": [
    "#### **3E**\n",
    "\n",
    "Masih tersisa dua pemain yaitu Rafael Leao dan Vinicius Junior. Uang kas klub hanya bisa digunakan untuk membeli satu pemain saja, untuk itu cari pemain dengan rata-rata kemampuan paling tinggi dari kedua pemain tersebut"
   ]
  },
  {
   "cell_type": "code",
   "execution_count": 25,
   "metadata": {
    "colab": {
     "base_uri": "https://localhost:8080/"
    },
    "executionInfo": {
     "elapsed": 514,
     "status": "ok",
     "timestamp": 1666775481534,
     "user": {
      "displayName": "Muhammad Hussein",
      "userId": "06835340007986123836"
     },
     "user_tz": -420
    },
    "id": "bFgaTu4oeT0g",
    "outputId": "e5bd9951-2dab-4841-f9ce-9f4c22336804"
   },
   "outputs": [
    {
     "name": "stdout",
     "output_type": "stream",
     "text": [
      "rata-rata kemampuan Rafael Leao adalah 79.8\n",
      "rata-rata kemampuan Vinicius Junior adalah 79.0\n"
     ]
    }
   ],
   "source": [
    "# gunakan cara yang sama agar saat loop dictionary tidak eror yaitu menyalin dictionary ke variabel baru\n",
    "# bedakan nama variabel copy dengan yang lain\n",
    "rata2_pemain=teknik_fisik.copy()\n",
    "\n",
    "# definisikan variabel untuk menampung rata-rata\n",
    "rata2_pemain2={}\n",
    "\n",
    "# gunakan for untuk menyeleksi pemain\n",
    "# didalam for yang pertama, definisikan variabel jumlah untuk menampung jumlah total kemampuan pemain\n",
    "# anda bisa memakai method keys atau cara lain pada for yang kedua jika anda pakai nested-for\n",
    "for i in teknik_fisik:\n",
    "    average= sum(teknik_fisik[i].values())/len(teknik_fisik[i])\n",
    "    print(f\"rata-rata kemampuan {i} adalah {average}\")"
   ]
  },
  {
   "cell_type": "markdown",
   "metadata": {
    "id": "eLqmKGUTkveB"
   },
   "source": [
    "### **4**"
   ]
  },
  {
   "cell_type": "markdown",
   "metadata": {
    "id": "RJGdlI9vmFvW"
   },
   "source": [
    "Bu Surti akan berbelanja di swalayan dengan Bu Mima dan Bu Rani\n",
    "\n",
    "\n",
    "```\n",
    "belanjaan ibu surti = 20.000, 80.000, 40.000, 150.500\n",
    "belanjaan ibu mima = 31.000, 43.000, 65.000, 105.000\n",
    "belanjaan ibu rani = 12.000, 200.000, 61.000, 10.000\n",
    "```"
   ]
  },
  {
   "cell_type": "markdown",
   "metadata": {
    "id": "2Yghu7iwwpL5"
   },
   "source": [
    "#### **4A**"
   ]
  },
  {
   "cell_type": "markdown",
   "metadata": {
    "id": "wTBRv89lwt8b"
   },
   "source": [
    "Buatlah list untuk menampung harga belanja masing-masing ibu tersebut"
   ]
  },
  {
   "cell_type": "code",
   "execution_count": 26,
   "metadata": {
    "id": "vOQ5X4edigNB"
   },
   "outputs": [],
   "source": [
    "# buat tiga list untuk menampung list harga belanjaan\n",
    "surti=[20_000,80_000,40_000,150_500]\n",
    "mima=[31_000,43_000,65_000,105_000]\n",
    "rani=[12_000,200_000,61_000,10_000]"
   ]
  },
  {
   "cell_type": "markdown",
   "metadata": {
    "id": "_6B6Dkhc3pw6"
   },
   "source": [
    "#### **4B**"
   ]
  },
  {
   "cell_type": "markdown",
   "metadata": {
    "id": "gMVvVGPwxcv7"
   },
   "source": [
    "Cari total dari belanjaan masing-masing ibu dengan list comprehension, jika ada harga yang lebih dari 50.000 diskon 5%"
   ]
  },
  {
   "cell_type": "code",
   "execution_count": 39,
   "metadata": {
    "colab": {
     "base_uri": "https://localhost:8080/"
    },
    "executionInfo": {
     "elapsed": 2,
     "status": "ok",
     "timestamp": 1666780752097,
     "user": {
      "displayName": "Muhammad Hussein",
      "userId": "06835340007986123836"
     },
     "user_tz": -420
    },
    "id": "ZWemdzqnv-4B",
    "outputId": "31415882-6e92-4032-d467-0c81ca72ef65"
   },
   "outputs": [
    {
     "name": "stdout",
     "output_type": "stream",
     "text": [
      "Total belanja bu Surti = Rp 278975.0\n",
      "Total belanja bu Mima = Rp 235500.0\n",
      "Total belanja bu Rani = Rp 269950.0\n"
     ]
    }
   ],
   "source": [
    "# Cari total belanja dengan list comprehension\n",
    "# HINT, Gunakan method sum()\n",
    "total_belanja_surti=sum([i-(i*0.05) if i > 50_000 else i for i in surti])\n",
    "total_belanja_mima=sum([i-(i*0.05) if i > 50_000 else i for i in mima])\n",
    "total_belanja_rani=sum([i-(i*0.05) if i > 50_000 else i for i in rani])\n",
    "# tampilkan masing-masing total belanjaan\n",
    "print(f\"Total belanja bu Surti = Rp {total_belanja_surti}\")\n",
    "print(f\"Total belanja bu Mima = Rp {total_belanja_mima}\")\n",
    "print(f\"Total belanja bu Rani = Rp {total_belanja_rani}\")"
   ]
  },
  {
   "cell_type": "markdown",
   "metadata": {
    "id": "4Y02S7plKkUU"
   },
   "source": [
    "# **Function I**"
   ]
  },
  {
   "cell_type": "markdown",
   "metadata": {
    "id": "ehYTReXZc1CF"
   },
   "source": [
    "---\n",
    "## Case 1 : Waktu Mencuci Tangan\n",
    "Dianjurkan bagi seseorang untuk mencuci tangan sampai 21 detik secara menyeluruh agar tangan dapat dikatakan bersih dari kuman dan kotoran. \n",
    "\n",
    "Buatlah fungsi yang menerima input jumlah seseorang mencuci tangan dalam satu hari dan lama waktu orang tersebut mengikuti anjuran cuci tangan (dalam bulan). \n",
    "\n",
    "Hitung banyaknya waktu (dalam menit dan detik) yang dihabiskan orang tersebut untuk mencuci tangan.   \n",
    "\n",
    "- anggap 1 bulan == 30 hari\n",
    "\n",
    "```\n",
    "Contoh:\n",
    "Setelah mengetahui anjuran tersebut, selama 2 bulan terakhir Athaya mencuci tangan sesuai dengan anjuran sebanyak 6 kali dalam sehari\n",
    "\n",
    "input  \n",
    "6 kali dan 2 bulan\n",
    "\n",
    "ouput :\n",
    "Waktu total mencuci tangan adalah 126 menit dan 0 detik\n",
    "\n",
    "```"
   ]
  },
  {
   "cell_type": "markdown",
   "metadata": {
    "id": "a-gSYUKekwxa"
   },
   "source": [
    "### 1A.\n",
    "Buatlah fungsi tersebut!\n",
    "```\n",
    "Catatan tambahan:\n",
    "  - Gunakan paramater yang dapat menerima input jumlah cuci tangan dan jumlah bulan\n",
    "  - Gunakan return pada fungsi untuk mengembalikan output yang didapat\n",
    "```"
   ]
  },
  {
   "cell_type": "code",
   "execution_count": null,
   "metadata": {
    "id": "3oqUIukHcsvy"
   },
   "outputs": [],
   "source": [
    "#membuat fungsi\n",
    "def mencuci_tangan(a,b):\n",
    "    hari=a*21\n",
    "    total=hari*30*b\n",
    "    return\n",
    "\n"
   ]
  },
  {
   "cell_type": "markdown",
   "metadata": {
    "id": "-QPvm01Hl29s"
   },
   "source": [
    "###1B.\n",
    "Panggil fungsi tersebut! Apabila,\n",
    "\n",
    "a. ) Selama 1 tahun 1 bulan terakhir Richard mencuci tangan sesuai dengan anjuran sebanyak 3 kali dalam sehari"
   ]
  },
  {
   "cell_type": "code",
   "execution_count": null,
   "metadata": {
    "colab": {
     "base_uri": "https://localhost:8080/",
     "height": 35
    },
    "executionInfo": {
     "elapsed": 31,
     "status": "ok",
     "timestamp": 1667027328170,
     "user": {
      "displayName": "Qhistina Dyah K",
      "userId": "10328151490143670723"
     },
     "user_tz": -420
    },
    "id": "tV7QRwS1jys0",
    "outputId": "b1781bab-c236-4910-e7d3-5b20fe3c8efe"
   },
   "outputs": [
    {
     "data": {
      "application/vnd.google.colaboratory.intrinsic+json": {
       "type": "string"
      },
      "text/plain": [
       "'Waktu total mencuci tangan adalah : 409 menit dan 30 detik'"
      ]
     },
     "execution_count": 2,
     "metadata": {},
     "output_type": "execute_result"
    }
   ],
   "source": [
    "#memanggil fungsi \n",
    "..."
   ]
  },
  {
   "cell_type": "markdown",
   "metadata": {
    "id": "bKZA713wme9A"
   },
   "source": [
    "b. ) Selama 3 bulan terakhir, Nabila mencuci tangan sesuai anjaran sebanyak 5 kali dalam sehari"
   ]
  },
  {
   "cell_type": "code",
   "execution_count": null,
   "metadata": {
    "colab": {
     "base_uri": "https://localhost:8080/",
     "height": 35
    },
    "id": "zyMFtKCxm1uF",
    "outputId": "7db46f33-53f8-47c7-f3c6-41ff474106e5"
   },
   "outputs": [
    {
     "data": {
      "application/vnd.google.colaboratory.intrinsic+json": {
       "type": "string"
      },
      "text/plain": [
       "'Waktu total mencuci tangan adalah : 157 menit dan 30 detik'"
      ]
     },
     "execution_count": 14,
     "metadata": {},
     "output_type": "execute_result"
    }
   ],
   "source": [
    "#memanggil fungsi \n",
    "..."
   ]
  },
  {
   "cell_type": "markdown",
   "metadata": {
    "id": "0aP4aP-anWaj"
   },
   "source": [
    "---\n",
    "##Case 2 : Perkalian\n",
    "Buatlah fungsi yang menghasilkan list hasil perkalian! \n",
    "\n",
    "Sebagai contoh jika user meng-inputkan angka 7. Berarti fungsi akan menampilkan perkalian 7 x 1 sampai 7 x 10.\n",
    "\n",
    "```\n",
    "Contoh:\n",
    "input  \n",
    "7\n",
    "\n",
    "ouput :\n",
    "[7, 14, 21, 28, 35, 42, 49, 56, 63, 70]\n",
    "```\n"
   ]
  },
  {
   "cell_type": "markdown",
   "metadata": {
    "id": "ReXfAfIoo7nl"
   },
   "source": [
    "###2A.\n",
    "Membuat fungsi **tabel perkalian**.\n",
    "```\n",
    "Catatan:\n",
    " - Parameter yang digunakan adalah angka dan panjang tabel perkalian\n",
    " - Karena panjang tabel perkalian hingga 10. Maka buatlah default value = 10\n",
    " - Gunakan return untuk mengembalikan nilai\n",
    " - Anda dapat menggunakan looping untuk mengembangkan fungsi\n",
    "```"
   ]
  },
  {
   "cell_type": "code",
   "execution_count": null,
   "metadata": {
    "id": "lxUvIwGco6Zj"
   },
   "outputs": [],
   "source": [
    "#membuat fungsi tabel_perkalian\n",
    "..."
   ]
  },
  {
   "cell_type": "markdown",
   "metadata": {
    "id": "h0K00pCTrMmJ"
   },
   "source": [
    "###2B.\n",
    "Memanggil fungsi **tabel_perkalian** dengan:\n",
    "\n",
    "a.) Tampilkan tabel perkalian 7"
   ]
  },
  {
   "cell_type": "code",
   "execution_count": null,
   "metadata": {
    "colab": {
     "base_uri": "https://localhost:8080/"
    },
    "executionInfo": {
     "elapsed": 16,
     "status": "ok",
     "timestamp": 1667027425462,
     "user": {
      "displayName": "Qhistina Dyah K",
      "userId": "10328151490143670723"
     },
     "user_tz": -420
    },
    "id": "21qoZTz9qzrU",
    "outputId": "c90af163-9d43-4859-a50e-621d8cd81244"
   },
   "outputs": [
    {
     "data": {
      "text/plain": [
       "[7, 14, 21, 28, 35, 42, 49, 56, 63, 70]"
      ]
     },
     "execution_count": 5,
     "metadata": {},
     "output_type": "execute_result"
    }
   ],
   "source": [
    "#memanggil fungsi\n",
    "..."
   ]
  },
  {
   "cell_type": "markdown",
   "metadata": {
    "id": "fu3dnYjarhax"
   },
   "source": [
    "b.) Tampilkan tabel perkalian 121"
   ]
  },
  {
   "cell_type": "code",
   "execution_count": null,
   "metadata": {
    "colab": {
     "base_uri": "https://localhost:8080/"
    },
    "executionInfo": {
     "elapsed": 8,
     "status": "ok",
     "timestamp": 1667027538726,
     "user": {
      "displayName": "Qhistina Dyah K",
      "userId": "10328151490143670723"
     },
     "user_tz": -420
    },
    "id": "3dZd6AZKrgm3",
    "outputId": "6dceaf8e-6e96-4010-f8d5-efbc2874847f"
   },
   "outputs": [
    {
     "data": {
      "text/plain": [
       "[121, 242, 363, 484, 605, 726, 847, 968, 1089, 1210]"
      ]
     },
     "execution_count": 6,
     "metadata": {},
     "output_type": "execute_result"
    }
   ],
   "source": [
    "#memanggil fungsi\n",
    "..."
   ]
  },
  {
   "cell_type": "markdown",
   "metadata": {
    "id": "LTug1JUisRHg"
   },
   "source": [
    "c.) Kemudian, anda ingin menampilkan tabel perkalian 10 tetapi dengan panjang tabel hingga 15\n",
    "\n",
    "Tampilkan nilai tersebut tanpa merubah fungsi\n",
    "```\n",
    "Catatan:\n",
    "  - Anda dapat menggunakan keyword arguments\n",
    "```"
   ]
  },
  {
   "cell_type": "code",
   "execution_count": null,
   "metadata": {
    "colab": {
     "base_uri": "https://localhost:8080/"
    },
    "id": "o7ZKtqydrehf",
    "outputId": "894498b0-2120-4752-a366-37b7e68e4976"
   },
   "outputs": [
    {
     "data": {
      "text/plain": [
       "[10, 20, 30, 40, 50, 60, 70, 80, 90, 100, 110, 120, 130, 140, 150]"
      ]
     },
     "execution_count": 24,
     "metadata": {},
     "output_type": "execute_result"
    }
   ],
   "source": [
    "#memanggil fungsi\n",
    "..."
   ]
  },
  {
   "cell_type": "markdown",
   "metadata": {
    "id": "L0l9afm1d1o7"
   },
   "source": [
    "---\n",
    "##Case 3 : Perhitungan BMI\n",
    "Anda bekerja disuatu pekerjaan dibidang kesehatan dan diminta untuk membuat kalkulator BMI (Body Mass index) sederhana yang dapat menentukan apakah orang tersebut mengalami berat badan dibawah normal, berat badan normal, kelebihan berat badan, atau obesitas berdasarkan berat badan dan tinggi badan yang dimasukkan. Fungsi dikembangkan dengan ketentuan sebagai berikut :"
   ]
  },
  {
   "cell_type": "markdown",
   "metadata": {
    "id": "oV09zqs7fQlZ"
   },
   "source": [
    "###3A.\n",
    "Buatlah sebuah fungsi **bmi** yang dapat menampung input dari user yang berisi berapa berat badan user (dalam kilogram) dan berapa tinggi badan user (dalam sentimeter)\n",
    "\n",
    "```\n",
    "🔽 Ketika fungsi dijalankan, akan menghasilkan 🔽\n",
    " Masukkan berat badan (dalam kg) :\n",
    " Masukkan tinggi badan (dalam cm) : \n",
    " \n",
    "```"
   ]
  },
  {
   "cell_type": "code",
   "execution_count": null,
   "metadata": {
    "id": "HFjjB25EgDtg"
   },
   "outputs": [],
   "source": [
    "#buat fungsi\n",
    "..."
   ]
  },
  {
   "cell_type": "markdown",
   "metadata": {
    "id": "naLa_YGagNO7"
   },
   "source": [
    "Untuk mengecek apakah fungsi yang anda buat dapat berjalan sesuai kriteria atau tidak, anda dapat memanggil fungsi bmi"
   ]
  },
  {
   "cell_type": "code",
   "execution_count": null,
   "metadata": {
    "colab": {
     "base_uri": "https://localhost:8080/"
    },
    "id": "nOVPD_dRuACA",
    "outputId": "daaca94f-3cba-4552-f681-4c5c73005732"
   },
   "outputs": [
    {
     "name": "stdout",
     "output_type": "stream",
     "text": [
      " Masukkan berat badan (dalam kg) : 50\n",
      " Masukkan tinggi badan (dalam cm) :  150\n"
     ]
    }
   ],
   "source": [
    "#memanggil fungsi\n",
    "..."
   ]
  },
  {
   "cell_type": "markdown",
   "metadata": {
    "id": "NX6Sbx1pgkFs"
   },
   "source": [
    "###3B.\n",
    "Kembangkanlah fungsi yang sudah dibuat agar dapat menghitung BMI dari input yang sudah diberikan dan menentukan kategori BMI.\n",
    "\n",
    "| BMI |Kategori|\n",
    "|-|-|\n",
    "|**<18,5**  | Berat Badan dibawah normal| \n",
    "|**18,5 - 22,9**  | Berat badan normal | \n",
    "|**23 - 24,9**  | Kelebihan berat badan | \n",
    "|**>= 25**  | Obesitas | \n",
    "\n",
    "```\n",
    "Keterangan :\n",
    " - Input berat badan dan tinggi badan dari user yang akan digunakan untuk melakukan perhitungan BMI\n",
    " - Rumus perhitungan BMI = berat badan(kg) : ( tinggi badan(meter) x tinggi badan(meter) )\n",
    " - Bulatkan hasil BMI hingga 2 angka dibelakang koma.\n",
    " - Anda dapat memanfaatkan branching untuk mengembangkan fungsi.\n",
    " - Untuk meminimalisir terjadinya error, ketika user input selain angka / number. Maka program akan menampilkan \"Input harus berupa angka” \n",
    "\n",
    "🔽Contoh output ketika fungsi dijalankan, akan menghasilkan 🔽\n",
    "Masukkan berat badan (dalam kg) : 60\n",
    "Masukkan tinggi badan (dalam cm) :  162\n",
    "\n",
    "Body Mass Index (BMI) : 22.86\n",
    "Kategori : Berat normal\n",
    "```"
   ]
  },
  {
   "cell_type": "code",
   "execution_count": null,
   "metadata": {
    "id": "FDlssrDdgjdd"
   },
   "outputs": [],
   "source": [
    "#Mengembangkan fungsi agar dapat menghitung dan menetukan BMI\n",
    "..."
   ]
  },
  {
   "cell_type": "markdown",
   "metadata": {
    "id": "SrXJ2Kl_VNHy"
   },
   "source": [
    "Untuk dapat mengecek apakah fungsi yang anda buat sesuai dengan kriteria diminta atau tidak, anda dapat melakukan pemanggilan fungsi **bmi**\n",
    "\n",
    "input A :\n",
    "Berat badan Ara = 60 kg\n",
    "Tinggi Badan Ara = 162 cm\n",
    "\n",
    "input B :\n",
    "Berat badan Ahmad = 62 kg\n",
    "Tinggi Badan Ahmad = 187,4 cm"
   ]
  },
  {
   "cell_type": "code",
   "execution_count": null,
   "metadata": {
    "colab": {
     "base_uri": "https://localhost:8080/"
    },
    "id": "ghLakj7Ojv9f",
    "outputId": "c44c6403-c075-43cd-b81c-f7b096cf9fb5"
   },
   "outputs": [
    {
     "name": "stdout",
     "output_type": "stream",
     "text": [
      "Masukkan berat badan (dalam kg) : 60\n",
      "Masukkan tinggi badan (dalam cm) :  162\n",
      "\n",
      "Body Mass Index (BMI) : 22.86\n",
      "Kategori : Berat normal\n"
     ]
    }
   ],
   "source": [
    "#memanggil fungsi dengan input A\n",
    "..."
   ]
  },
  {
   "cell_type": "code",
   "execution_count": null,
   "metadata": {
    "colab": {
     "base_uri": "https://localhost:8080/"
    },
    "id": "C3dJIZIpk9Yi",
    "outputId": "8c4cc75f-1044-453d-c582-6f45e67c11a5"
   },
   "outputs": [
    {
     "name": "stdout",
     "output_type": "stream",
     "text": [
      "Masukkan berat badan (dalam kg) : 62\n",
      "Masukkan tinggi badan (dalam cm) :  187.4\n",
      "\n",
      "Body Mass Index (BMI) : 17.65\n",
      "Kategori : Berat badan dibawah normal\n"
     ]
    }
   ],
   "source": [
    "#memanggil fungsi dengan input B\n",
    "..."
   ]
  },
  {
   "cell_type": "markdown",
   "metadata": {
    "id": "dJwpmTWXj5QI"
   },
   "source": [
    "---\n",
    "##Case 4\n",
    "Sebuah sekolah sedang melakukan survey mengenai pengeluaran transportasi (berangkat-pulang sekolah) perbulan yang dikeluarkan siswa SD A selama sebulan \n",
    "\n",
    "Untuk menunjang survey pengeluaran, anda diminta untuk membuat fungsi dengan menggunakan arbitrary keyword arguments yang dapat menampilkan pasangan nama siswa dan besaran biaya transport (rupiah) yang dikeluarkan perbulannya.\n"
   ]
  },
  {
   "cell_type": "markdown",
   "metadata": {
    "id": "Y9vy05cfnxNx"
   },
   "source": [
    "###4A. \n",
    "Membuat fungsi menggunakan arbitrary keyword arguments\n",
    "```\n",
    "Catatan:\n",
    " - Nilai yang dimasukkan adalah nama siswa dan biaya pengeluaran transportasi perbulannya\n",
    "\n",
    "🔽 Ketika fungsi dipanggil, output yang diharapkan 🔽\n",
    "  Pengeluaran Niriina Amalina untuk transportasi senilai : Rp.150000\n",
    "```"
   ]
  },
  {
   "cell_type": "code",
   "execution_count": null,
   "metadata": {
    "id": "mnppI-s9oTHp"
   },
   "outputs": [],
   "source": [
    "#membuat fungsi\n",
    "..."
   ]
  },
  {
   "cell_type": "markdown",
   "metadata": {
    "id": "7JoTI3jDpi6h"
   },
   "source": [
    "###4B.\n",
    "Beberapa hari kemudian, telah didapat sampel sementara dari survey yang dijabarkan dalam tabel berikut:\n",
    "\n",
    "| Nama Siswa |Pengeluaran Transportasi Perbulan|\n",
    "|-|-|\n",
    "|Randy | Rp. 240.000 | \n",
    "|Alfin| Rp. 200.000 | \n",
    "|Shafira | Rp. 175.000 | \n",
    "|Andi  | Rp. 320.000| \n",
    "|Nuning  | Rp. 400.000 | \n",
    "\n",
    "Cobalah panggil fungsi berdasarkan data diatas!"
   ]
  },
  {
   "cell_type": "code",
   "execution_count": null,
   "metadata": {
    "colab": {
     "base_uri": "https://localhost:8080/"
    },
    "id": "XF8IGdFTrS3g",
    "outputId": "d63ed033-4513-424f-a6ab-11bb136edfc4"
   },
   "outputs": [
    {
     "name": "stdout",
     "output_type": "stream",
     "text": [
      "Pengeluaran Randy untuk transportasi senilai : Rp.240000\n",
      "Pengeluaran Alfin untuk transportasi senilai : Rp.200000\n",
      "Pengeluaran Shafira untuk transportasi senilai : Rp.175000\n",
      "Pengeluaran Andi untuk transportasi senilai : Rp.320000\n",
      "Pengeluaran Nuning untuk transportasi senilai : Rp.400000\n"
     ]
    }
   ],
   "source": [
    "#memanggil fungsi\n",
    "..."
   ]
  },
  {
   "cell_type": "markdown",
   "metadata": {
    "id": "_TD7XmgEsun7"
   },
   "source": [
    "---\n",
    "##Case 5 : Docstring Perhitungan Faktorial\n",
    "Terdapat fungsi **print_faktor** yang dapat mengetahui faktorisasi dari suatu angka:"
   ]
  },
  {
   "cell_type": "code",
   "execution_count": null,
   "metadata": {
    "id": "aeDxjN2DtboN"
   },
   "outputs": [],
   "source": [
    "def print_faktor(angka):\n",
    "    print(\"faktor dari \",angka,\"adalah:\")\n",
    "    for i in range(1, angka + 1):\n",
    "        if angka % i == 0:\n",
    "            print(i, end = ' ')\n",
    "\n",
    "angka_input = 50"
   ]
  },
  {
   "cell_type": "code",
   "execution_count": null,
   "metadata": {
    "colab": {
     "base_uri": "https://localhost:8080/"
    },
    "id": "vsw0lFsAudnT",
    "outputId": "c53d3e1b-6190-44cd-ebee-463e8fe382ee"
   },
   "outputs": [
    {
     "name": "stdout",
     "output_type": "stream",
     "text": [
      "faktor dari  50 adalah:\n",
      "1 2 5 10 25 50 "
     ]
    }
   ],
   "source": [
    "print_faktor(angka_input)"
   ]
  },
  {
   "cell_type": "markdown",
   "metadata": {
    "id": "-9D838-juVaf"
   },
   "source": [
    "Akan tetapi, fungsi tersebut masih sulit untuk dipahami. Maka dari itu, buatlah docstring dari fungsi diatas agar mempermudah user dalam memahami program!"
   ]
  },
  {
   "cell_type": "code",
   "execution_count": null,
   "metadata": {
    "id": "UnjD0Gqvus_6"
   },
   "outputs": [],
   "source": [
    "#membuat docstring\n",
    "#copy paste fungsi diatas dan tambahkan docstring\n",
    "...\n"
   ]
  },
  {
   "cell_type": "markdown",
   "metadata": {
    "id": "0ubXiNwiu9jg"
   },
   "source": [
    "##Case 6 : Perhitungan Pendapatan Perkapita\n",
    "Anda ingin mengetahui tingkat kemakmuran negara dan masyarakat melalui perhitungan Pendapatan PerKapita (PPK). \n",
    "\n",
    "Maka anda berencana untuk membuat fungsi **ppk** yang dapat menghitung hasil pendapatan rata-rata masyarakat pada suatu negara\n",
    "\n",
    "```\n",
    "Catatan:\n",
    " Rumus pendapatan perkapita = pendapatan nasional : jumlah penduduk\n",
    "```"
   ]
  },
  {
   "cell_type": "markdown",
   "metadata": {
    "id": "ZgBYDZSqwbu4"
   },
   "source": [
    "###6A.\n",
    "Buatlah fungsi tersebut!\n",
    "\n",
    "```\n",
    "Catatan :     \n",
    " - Didalam fungsi, argumen yang akan diinputkan adalah nama negara, pendapatan nasional suatu negara, dan total jumlah penduduk.\n",
    "\n",
    "🔽Contoh output ketika fungsi dijalankan, akan menghasilkan 🔽\n",
    "Pendapatan negara x adalah y milyar rupiah perpenduduk.\n",
    " ```"
   ]
  },
  {
   "cell_type": "code",
   "execution_count": null,
   "metadata": {
    "id": "GX_bXqXixS-y"
   },
   "outputs": [],
   "source": [
    "#membuat fungsi ppk\n",
    "..."
   ]
  },
  {
   "cell_type": "markdown",
   "metadata": {
    "id": "N8GsOUmVcPRE"
   },
   "source": [
    "Panggil fungsi tersebut dengan menggunakan data dibawah ini\n",
    "\n",
    "| input ke -1 | Nama Negara |Pendapatan Nasional (Miliar Rupiah) | Jumlah Penduduk (Juta Jiwa)\n",
    "| - |-|-| -|\n",
    "|1. |Indonesia | 210 | 200 |  \n",
    "|2. |Malaysia | 75 | 25 |\n",
    "|3. |Vietnam | 80 | 67 | "
   ]
  },
  {
   "cell_type": "code",
   "execution_count": null,
   "metadata": {
    "colab": {
     "base_uri": "https://localhost:8080/",
     "height": 35
    },
    "executionInfo": {
     "elapsed": 19,
     "status": "ok",
     "timestamp": 1667028186111,
     "user": {
      "displayName": "Qhistina Dyah K",
      "userId": "10328151490143670723"
     },
     "user_tz": -420
    },
    "id": "fbMEU7qqcNPh",
    "outputId": "e5d28197-a963-46cc-a93a-4a67501656fb"
   },
   "outputs": [
    {
     "data": {
      "application/vnd.google.colaboratory.intrinsic+json": {
       "type": "string"
      },
      "text/plain": [
       "'Pendapatan negara Indonesia adalah 1.05 milyar rupiah perpenduduk.'"
      ]
     },
     "execution_count": 10,
     "metadata": {},
     "output_type": "execute_result"
    }
   ],
   "source": [
    "# memanggil fungsi dengan input ke-1\n",
    "..."
   ]
  },
  {
   "cell_type": "code",
   "execution_count": null,
   "metadata": {
    "colab": {
     "base_uri": "https://localhost:8080/",
     "height": 35
    },
    "executionInfo": {
     "elapsed": 22,
     "status": "ok",
     "timestamp": 1667028193087,
     "user": {
      "displayName": "Qhistina Dyah K",
      "userId": "10328151490143670723"
     },
     "user_tz": -420
    },
    "id": "9av2I5RDn3Ic",
    "outputId": "9ba8a28c-6e8d-4e2f-89d8-e4ebd47f536a"
   },
   "outputs": [
    {
     "data": {
      "application/vnd.google.colaboratory.intrinsic+json": {
       "type": "string"
      },
      "text/plain": [
       "'Pendapatan negara Malaysia adalah 3.0 milyar rupiah perpenduduk.'"
      ]
     },
     "execution_count": 11,
     "metadata": {},
     "output_type": "execute_result"
    }
   ],
   "source": [
    "# memanggil fungsi dengan input ke-2\n",
    "..."
   ]
  },
  {
   "cell_type": "code",
   "execution_count": null,
   "metadata": {
    "colab": {
     "base_uri": "https://localhost:8080/",
     "height": 35
    },
    "executionInfo": {
     "elapsed": 740,
     "status": "ok",
     "timestamp": 1667028199391,
     "user": {
      "displayName": "Qhistina Dyah K",
      "userId": "10328151490143670723"
     },
     "user_tz": -420
    },
    "id": "OYI0UUpan43W",
    "outputId": "8e226df8-f49a-478e-a7ee-621c798986f7"
   },
   "outputs": [
    {
     "data": {
      "application/vnd.google.colaboratory.intrinsic+json": {
       "type": "string"
      },
      "text/plain": [
       "'Pendapatan negara Vietnam adalah 1.1940298507462686 milyar rupiah perpenduduk.'"
      ]
     },
     "execution_count": 12,
     "metadata": {},
     "output_type": "execute_result"
    }
   ],
   "source": [
    "# memanggil fungsi dengan input ke-3\n",
    "..."
   ]
  },
  {
   "cell_type": "markdown",
   "metadata": {
    "id": "HTZAqjXIxYJO"
   },
   "source": [
    "###6B.\n",
    "Kemudian, untuk memudahkan dalam memahami isi dari fungsi, anda berencana untuk membuat docstring fungsi ppk"
   ]
  },
  {
   "cell_type": "code",
   "execution_count": null,
   "metadata": {
    "id": "11kpY1EBVmS-"
   },
   "outputs": [],
   "source": [
    "#fungsi ppk\n",
    "#membuat docstring dari fungsi ppk\n",
    "..."
   ]
  },
  {
   "cell_type": "markdown",
   "metadata": {
    "id": "QC_w4xvSVvqD"
   },
   "source": [
    "###6C.\n",
    "Anda berencana untuk membuat fungsi baru ppk dengan menggunakan fungsi lambda agar fungsi lebih ringkas dan sederhana.\n",
    "```\n",
    "🔽Contoh output ketika fungsi dijalankan, akan menghasilkan 🔽\n",
    "Pendapatan negara x adalah y milyar rupiah perpenduduk.\n",
    " ```"
   ]
  },
  {
   "cell_type": "code",
   "execution_count": null,
   "metadata": {
    "id": "BqHjlwTaaX9s"
   },
   "outputs": [],
   "source": [
    "#membuat fungsi ppk dengan lambda\n",
    "..."
   ]
  },
  {
   "cell_type": "markdown",
   "metadata": {
    "id": "hL254KgQ1jWQ"
   },
   "source": [
    "###6D.\n",
    "Panggil fungsi lambda dari data Indonesia!"
   ]
  },
  {
   "cell_type": "code",
   "execution_count": null,
   "metadata": {
    "colab": {
     "base_uri": "https://localhost:8080/",
     "height": 35
    },
    "id": "Xvz522kC1s3Y",
    "outputId": "7e3ae326-c9a9-4c0f-9c29-f50620aa4b58"
   },
   "outputs": [
    {
     "data": {
      "application/vnd.google.colaboratory.intrinsic+json": {
       "type": "string"
      },
      "text/plain": [
       "'Pendapatan negara Indonesia adalah 1.05 milyar rupiah perpenduduk.'"
      ]
     },
     "execution_count": 49,
     "metadata": {},
     "output_type": "execute_result"
    }
   ],
   "source": [
    "# memanggil fungsi \n",
    "..."
   ]
  },
  {
   "cell_type": "markdown",
   "metadata": {
    "id": "80BZybABLNfX"
   },
   "source": [
    "# **Function II**"
   ]
  },
  {
   "cell_type": "markdown",
   "metadata": {
    "id": "5WFQcV7IAUrV"
   },
   "source": [
    "---\n",
    "##Case 1 : Kebutuhan Kalori Harian\n",
    "Sebuah lembaga kesehatan berencana untuk melakukan penelitian mengenai pengaruh kebutuhan kalori / Basal Metabolic Rate (BMR) pada pekerja kantor yang aktivitas sehari-harinya duduk seharian penuh didepan komputer.\n",
    "\n",
    "Untuk pengembangan proyek penelitian, anda diminta untuk membuat modul python berisi fungsi-fungsi menghitung kebutuhan kalori harian pria dan wanita."
   ]
  },
  {
   "cell_type": "markdown",
   "metadata": {
    "id": "3fYIZ2bdLwa1"
   },
   "source": [
    "###1A.\n",
    "Untuk langkah awal, buatlah modul **bmr** yang berisi fungsi perhitungan kebutuhan kalori untuk pria dan wanita.\n",
    "\n",
    "Kemudian, buatlah fungsi baru **pria** yang berisi perhitungan kebutuhan kalori berdasarkan rumus Harris Beneddict.\n",
    "```\n",
    "Catatan :\n",
    " - Argumen yang akan diinputkan adalah berat badan (kg), tinggi badan (cm), dan usia(tahun)\n",
    " - Rumus menghitung BMR pria = ( 88,362 + (13,397 x berat badan) + (4,799 x tinggi badan) – (5,677 x usia) ) x 1,2\n",
    " - Bulatkan hasil BMR dua angka dibelakang koma\n",
    "\n",
    "🔽 Output ketika program dijalankan, akan menghasilkan 🔽\n",
    "Kebutuhan kalori yang dibutuhkan sebesar :\n",
    "\n",
    "\n",
    "```"
   ]
  },
  {
   "cell_type": "code",
   "execution_count": null,
   "metadata": {
    "id": "x_zVDKp1-qak"
   },
   "outputs": [],
   "source": [
    "#modul bmr\n",
    "#fungsi pria\n",
    "..."
   ]
  },
  {
   "cell_type": "markdown",
   "metadata": {
    "id": "vekMdWeTOLcw"
   },
   "source": [
    "###1B.\n",
    "Selanjutnya, buatlah fungsi baru **wanita** yang berisi perhitungan kebutuhan kalori berdasarkan rumus Harris Beneddict.\n",
    "```\n",
    "Catatan :\n",
    " - Argumen yang akan diinputkan adalah berat badan (kg), tinggi badan (cm), dan usia(tahun)\n",
    " - Rumus menghitung BMR wanita = ( 447,593 + (9,247 x berat badan) + (3,098 x tinggi badan) – (4,330 x usia) ) x 1,2\n",
    " - Bulatkan hasil BMR dua angka dibelakang koma\n",
    "\n",
    "🔽 Output ketika program dijalankan, akan menghasilkan 🔽\n",
    "Kebutuhan kalori yang dibutuhkan sebesar :\n",
    "\n",
    "\n",
    "```"
   ]
  },
  {
   "cell_type": "code",
   "execution_count": null,
   "metadata": {
    "id": "ZaZwYfUdOgpC"
   },
   "outputs": [],
   "source": [
    "#modul bmr\n",
    "# fungsi pria\n",
    "...\n",
    "\n",
    "# fungsi wanita\n",
    "..."
   ]
  },
  {
   "cell_type": "markdown",
   "metadata": {
    "id": "5gE9EKxNOqPY"
   },
   "source": [
    "###1C.\n",
    "Setelah modul disimpan, anda ingin mengecek apakah modul yang anda bangun dapat berjalan atau tidak.\n",
    "\n",
    "Untuk itu anda berencana mencoba membuat file utama untuk mengecek apakah modul dapat berjalan dengan baik. Impor modul **bmr** yang telah dibuat sebelumnya.\n",
    "\n"
   ]
  },
  {
   "cell_type": "code",
   "execution_count": null,
   "metadata": {
    "id": "oxVSH-d7PExs"
   },
   "outputs": [],
   "source": [
    "#impor modul\n",
    "..."
   ]
  },
  {
   "cell_type": "markdown",
   "metadata": {
    "id": "QtqwpdodPXxh"
   },
   "source": [
    "###1D.\n",
    "Coba panggil fungsi **pria** dengan nilai input:\n",
    "  - Berat badan Wahyu = 70 kg\n",
    "  - Tinggi Badan Wahyu = 181 kg\n",
    "  - Usia Wahyu = 25 tahun\n",
    "\n"
   ]
  },
  {
   "cell_type": "code",
   "execution_count": null,
   "metadata": {
    "colab": {
     "base_uri": "https://localhost:8080/"
    },
    "id": "Kr4_GdqXPh2l",
    "outputId": "1939bc50-c4a1-41b2-80e7-08429db11ba5"
   },
   "outputs": [
    {
     "name": "stdout",
     "output_type": "stream",
     "text": [
      "Kebutuhan kalori yang dibutuhkan sebesar : \n"
     ]
    },
    {
     "data": {
      "text/plain": [
       "2103.42"
      ]
     },
     "execution_count": 11,
     "metadata": {},
     "output_type": "execute_result"
    }
   ],
   "source": [
    "#akses fungsi pria\n",
    "..."
   ]
  },
  {
   "cell_type": "markdown",
   "metadata": {
    "id": "3F-SOnMJQE1B"
   },
   "source": [
    "###1E.\n",
    "Coba panggil fungsi **wanita** dengan nilai input:\n",
    "  - Berat badan Rita = 62 kg\n",
    "  - Tinggi Badan Rita = 158 kg\n",
    "  - Usia Rita  = 27 tahun\n",
    "\n"
   ]
  },
  {
   "cell_type": "code",
   "execution_count": null,
   "metadata": {
    "colab": {
     "base_uri": "https://localhost:8080/"
    },
    "id": "7oVMp5jTQWR2",
    "outputId": "babb4ff6-314d-4b64-9d6f-a8c06fd7a096"
   },
   "outputs": [
    {
     "name": "stdout",
     "output_type": "stream",
     "text": [
      "Kebutuhan kalori yang dibutuhkan sebesar : \n"
     ]
    },
    {
     "data": {
      "text/plain": [
       "1672.18"
      ]
     },
     "execution_count": 13,
     "metadata": {},
     "output_type": "execute_result"
    }
   ],
   "source": [
    "#akses fungsi wanita\n",
    "...  "
   ]
  },
  {
   "cell_type": "markdown",
   "metadata": {
    "id": "b8w4OmXqQhRT"
   },
   "source": [
    "---\n",
    "##Case 2 : Laporan Penjualan\n",
    "Terdapat laporan penjualan perusahaan Z di Bulan April yang disajikan dalam bentuk tabel dibawah.\n",
    "\n",
    "|Laporan Penjualan Bulan April | Keterangan |\n",
    "|-|-|\n",
    "|Penjualan | Rp. 100.000.000|\n",
    "|Potongan Penjualan |Rp. 15.000.000|\n",
    "|Retur Pembelian | Rp. 2.000.000|\n",
    "|Persediaan Barang |Rp. 75.000.000|\n",
    "|Persediaan Akhir |Rp. 15.000.000|\n"
   ]
  },
  {
   "cell_type": "markdown",
   "metadata": {
    "id": "PDseX4fJUjTE"
   },
   "source": [
    "###2A.\n",
    "Buatlah sebuat file python baru dengan nama **main.py** dan tambahkan dictionary berisi tabel Laporan Penjualan Bulan April."
   ]
  },
  {
   "cell_type": "code",
   "execution_count": null,
   "metadata": {
    "id": "Oxa4KPThVfRQ"
   },
   "outputs": [],
   "source": [
    "#file main.py\n",
    "#dictionary\n",
    "..."
   ]
  },
  {
   "cell_type": "code",
   "execution_count": null,
   "metadata": {
    "colab": {
     "base_uri": "https://localhost:8080/"
    },
    "id": "PLtmHgJ19OSq",
    "outputId": "4bdccdc4-4def-4522-fe10-4e8e82eca661"
   },
   "outputs": [
    {
     "data": {
      "text/plain": [
       "dict_items([('penjualan', 100000000), ('potongan_penjualan', 15000000), ('retur', 2000000), ('persediaan_barang', 75000000), ('persediaan_akhir', 1500000)])"
      ]
     },
     "execution_count": 18,
     "metadata": {},
     "output_type": "execute_result"
    }
   ],
   "source": [
    "#coba cek isi dictionary, apakah sudah sesuai dengan data atau belum\n",
    "..."
   ]
  },
  {
   "cell_type": "markdown",
   "metadata": {
    "id": "CbfzeVu4UILq"
   },
   "source": [
    "###2B.\n",
    "Selanjutnya, anda diminta untuk membuat modul baru dengan nama **laporan penjualan** yang berisi perhitungan harga pokok penjualan(HPP), penjualan bersih, dan laba kotor dari tabel diatas,\n",
    "\n",
    "Buatlah **fungsi hpp** dari modul laporan penjualan\n",
    "```\n",
    "Catatan :\n",
    " - Rumus menghitung harga pokok penjualan = persediaan barang - persediaan akhir \n",
    " - Value diambil langsung dari dictionary yang dibuat sebelumnya di main file.\n",
    "```"
   ]
  },
  {
   "cell_type": "code",
   "execution_count": null,
   "metadata": {
    "id": "3hfPzr_eUHlW"
   },
   "outputs": [],
   "source": [
    "#modul laporan_penjualan\n",
    "#fungsi hpp\n",
    "..."
   ]
  },
  {
   "cell_type": "markdown",
   "metadata": {
    "id": "t9LzM80HYQO1"
   },
   "source": [
    "###2C.\n",
    "Kemudian buatlah **fungsi penjualan bersih** dari modul laporan penjualan\n",
    "```\n",
    "Catatan :\n",
    " - Rumus menghitung penjualan bersih = penjualan - (potongan penjualan + retur pembelian) \n",
    " - Value diambil langsung dari dictionary yang dibuat sebelumnya di main file.\n",
    "```"
   ]
  },
  {
   "cell_type": "code",
   "execution_count": null,
   "metadata": {
    "id": "qDT9GdlwY1-X"
   },
   "outputs": [],
   "source": [
    "# modul laporan_penjualan\n",
    "# fungsi hpp\n",
    "...\n",
    "\n",
    "# fungsi penjualan_bersih\n",
    "..."
   ]
  },
  {
   "cell_type": "markdown",
   "metadata": {
    "id": "okX3KpgdY6vM"
   },
   "source": [
    "###2D.\n",
    "Kemudian buatlah **fungsi laba kotor** dari modul laporan penjualan\n",
    "```\n",
    "Catatan :\n",
    " - Rumus menghitung laba kotor = penjualan bersih - harga pokok penjualan\n",
    " - Value diambil langsung dari dictionary yang dibuat sebelumnya di main file.\n",
    "```"
   ]
  },
  {
   "cell_type": "code",
   "execution_count": null,
   "metadata": {
    "id": "JJ7zBPPmZJqS"
   },
   "outputs": [],
   "source": [
    "# modul laporan_penjualan\n",
    "# fungsi hpp\n",
    "...\n",
    "\n",
    "# fungsi penjualan_bersih\n",
    "...\n",
    "\n",
    "# fungsi laba kotor\n",
    "..."
   ]
  },
  {
   "cell_type": "markdown",
   "metadata": {
    "id": "eeXg-Gu-ZOBl"
   },
   "source": [
    "###2E.\n",
    "Simpanlah modul python tersebut. Kemudian, untuk mencoba apakah modul dapat berjalan dengan baik di **main.py**. Import dan jalankan fungsi-fungsi yang ada didalamnya.\n",
    "\n",
    "Import modul\n"
   ]
  },
  {
   "cell_type": "code",
   "execution_count": null,
   "metadata": {
    "id": "eqaW_g-vZsix"
   },
   "outputs": [],
   "source": [
    "# main.py\n",
    "# import modul\n",
    "...\n",
    "\n",
    "# dictionary yang telah dibuat sebelumnya\n",
    "..."
   ]
  },
  {
   "cell_type": "markdown",
   "metadata": {
    "id": "J121dt6vZ6ds"
   },
   "source": [
    "###2F.\n",
    "Panggil fungsi **hpp** dengan nilai input dari dictionary yang telah dibuat sebelumnya.\n",
    "\n"
   ]
  },
  {
   "cell_type": "code",
   "execution_count": null,
   "metadata": {
    "colab": {
     "base_uri": "https://localhost:8080/"
    },
    "id": "4pJaDSxVA0Rk",
    "outputId": "61f8896f-f684-4eb3-a888-38c4cda6d305"
   },
   "outputs": [
    {
     "data": {
      "text/plain": [
       "73500000"
      ]
     },
     "execution_count": 30,
     "metadata": {},
     "output_type": "execute_result"
    }
   ],
   "source": [
    "# main.py\n",
    "# import modul\n",
    "...\n",
    "\n",
    "# dictionary yang telah dibuat sebelumnya\n",
    "...\n",
    "#memanggil fungsi hpp\n",
    "..."
   ]
  },
  {
   "cell_type": "markdown",
   "metadata": {
    "id": "6WOj5QqZbZ6t"
   },
   "source": [
    "###2G.\n",
    "Setelah nilai harga pokok penjualan telah didapat. Simpan nilai hpp kedalam dictionary agar nantinya dapat digunakan kembali oleh program.\n",
    "\n",
    "\n"
   ]
  },
  {
   "cell_type": "code",
   "execution_count": null,
   "metadata": {
    "id": "oIyGi8HYb0zE"
   },
   "outputs": [],
   "source": [
    "# main.py\n",
    "# import modul\n",
    "...\n",
    "\n",
    "# dictionary yang telah dibuat sebelumnya\n",
    "...\n",
    "\n",
    "#memanggil fungsi hpp\n",
    "...\n",
    "\n",
    "#simpan nilai hpp kedalam dictionary\n",
    "..."
   ]
  },
  {
   "cell_type": "markdown",
   "metadata": {
    "id": "8pMSR3W7cFMa"
   },
   "source": [
    "###2H.\n",
    "Panggil fungsi **penjualan_bersih** dengan nilai input dari dictionary yang telah dibuat sebelumnya.\n",
    "\n"
   ]
  },
  {
   "cell_type": "code",
   "execution_count": null,
   "metadata": {
    "colab": {
     "base_uri": "https://localhost:8080/"
    },
    "id": "5oyg85PkBSkB",
    "outputId": "b7ce9e70-53e2-46c5-c096-9b3d467f6370"
   },
   "outputs": [
    {
     "data": {
      "text/plain": [
       "83000000"
      ]
     },
     "execution_count": 32,
     "metadata": {},
     "output_type": "execute_result"
    }
   ],
   "source": [
    "#memanggil fungsi penjualan bersih\n",
    "..."
   ]
  }
 ],
 "metadata": {
  "colab": {
   "provenance": [],
   "toc_visible": true
  },
  "kernelspec": {
   "display_name": "base",
   "language": "python",
   "name": "python3"
  },
  "language_info": {
   "codemirror_mode": {
    "name": "ipython",
    "version": 3
   },
   "file_extension": ".py",
   "mimetype": "text/x-python",
   "name": "python",
   "nbconvert_exporter": "python",
   "pygments_lexer": "ipython3",
   "version": "3.9.13"
  }
 },
 "nbformat": 4,
 "nbformat_minor": 0
}
